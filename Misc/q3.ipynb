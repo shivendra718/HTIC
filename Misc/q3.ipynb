{
 "cells": [
  {
   "cell_type": "code",
   "execution_count": 10,
   "metadata": {},
   "outputs": [
    {
     "name": "stdout",
     "output_type": "stream",
     "text": [
      "2\n",
      "aple 1\n",
      "ape 2\n",
      "('ape', 2)\n",
      "('aple', 1)\n"
     ]
    }
   ],
   "source": [
    "from functools import cmp_to_key\n",
    "class player:\n",
    "    def __init__(self,name,score):\n",
    "        self.name=name\n",
    "        self.score=score\n",
    "    def __repr__(self):\n",
    "        self.name=\"\"\n",
    "        self.score=0\n",
    "    def comparator(a,b):\n",
    "        if a.score == b.score:\n",
    "            if a.name > b.name:\n",
    "                return 1\n",
    "            else:\n",
    "                return -1\n",
    "        if a.score > b.score:\n",
    "            return -1\n",
    "        else:\n",
    "            return 1\n",
    "n = int(input())\n",
    "data = []\n",
    "for i in range(n):\n",
    "    name, score = raw_input().split()\n",
    "    score = int(score)\n",
    "    Player = player(name, score)\n",
    "    data.append(Player)\n",
    "    \n",
    "data = sorted(data, key=cmp_to_key(player.comparator))\n",
    "for i in data:\n",
    "    print(i.name, i.score)\n",
    "    \n",
    "\n",
    "\n",
    "    \n"
   ]
  },
  {
   "cell_type": "code",
   "execution_count": null,
   "metadata": {},
   "outputs": [],
   "source": []
  },
  {
   "cell_type": "code",
   "execution_count": null,
   "metadata": {},
   "outputs": [],
   "source": []
  },
  {
   "cell_type": "code",
   "execution_count": null,
   "metadata": {},
   "outputs": [],
   "source": []
  }
 ],
 "metadata": {
  "kernelspec": {
   "display_name": "Python 3",
   "language": "python",
   "name": "python3"
  },
  "language_info": {
   "codemirror_mode": {
    "name": "ipython",
    "version": 2
   },
   "file_extension": ".py",
   "mimetype": "text/x-python",
   "name": "python",
   "nbconvert_exporter": "python",
   "pygments_lexer": "ipython2",
   "version": "2.7.12"
  }
 },
 "nbformat": 4,
 "nbformat_minor": 2
}
