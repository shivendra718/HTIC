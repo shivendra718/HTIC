{
 "cells": [
  {
   "cell_type": "code",
   "execution_count": 5,
   "metadata": {},
   "outputs": [
    {
     "name": "stdout",
     "output_type": "stream",
     "text": [
      "0 4 5\n",
      "1 7 6\n",
      "0 5 9\n",
      "1 7 2\n",
      "8.19\n"
     ]
    }
   ],
   "source": [
    "import math \n",
    "import numpy as np\n",
    "class coordinates(object):\n",
    "    def __init__(self, a,b,c,d):\n",
    "        self.a=a\n",
    "        self.b=b\n",
    "        self.c=c\n",
    "        self.d=d\n",
    "        self.angle=None\n",
    "\n",
    "    def vectordiff(self,x,y):\n",
    "        return np.subtract(x,y)\n",
    "        \n",
    "    def dot(self,x,y):\n",
    "        return np.dot(x,y)\n",
    "\n",
    "    def cross(self, x,y):\n",
    "        return np.cross(x,y)\n",
    "\n",
    "    def absolute(self,x):\n",
    "        return math.sqrt(sum([i**2 for i in x]))\n",
    "    \n",
    "    def torsionangle(self,x,y):\n",
    "        self.angle=np.degrees(np.arccos(self.dot(x,y)/(self.absolute(x)*self.absolute(y))))\n",
    "        print(round(self.angle,2))\n",
    "    \n",
    "    def program(self):\n",
    "        ab=self.vectordiff(self.a,self.b)\n",
    "        bc=self.vectordiff(self.b,self.c)\n",
    "        cd=self.vectordiff(self.c,self.d)\n",
    "        x=self.cross(ab,bc)\n",
    "        y=self.cross(bc,cd)\n",
    "        self.torsionangle(x,y)\n",
    "\n",
    "A= map(float, raw_input().split())\n",
    "B= map(float, raw_input().split())\n",
    "C= map(float, raw_input().split())\n",
    "D= map(float, raw_input().split())\n",
    "cc=coordinates(A,B,C,D)\n",
    "cc.program()\n"
   ]
  },
  {
   "cell_type": "code",
   "execution_count": null,
   "metadata": {},
   "outputs": [],
   "source": []
  }
 ],
 "metadata": {
  "kernelspec": {
   "display_name": "Python 3",
   "language": "python",
   "name": "python3"
  },
  "language_info": {
   "codemirror_mode": {
    "name": "ipython",
    "version": 2
   },
   "file_extension": ".py",
   "mimetype": "text/x-python",
   "name": "python",
   "nbconvert_exporter": "python",
   "pygments_lexer": "ipython2",
   "version": "2.7.12"
  }
 },
 "nbformat": 4,
 "nbformat_minor": 2
}
