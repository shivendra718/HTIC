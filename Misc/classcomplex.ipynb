{
 "cells": [
  {
   "cell_type": "code",
   "execution_count": 6,
   "metadata": {},
   "outputs": [
    {
     "ename": "SyntaxError",
     "evalue": "invalid syntax (<ipython-input-6-bd9318c7a6f3>, line 43)",
     "output_type": "error",
     "traceback": [
      "\u001b[0;36m  File \u001b[0;32m\"<ipython-input-6-bd9318c7a6f3>\"\u001b[0;36m, line \u001b[0;32m43\u001b[0m\n\u001b[0;31m    print(*map(str, [x+y, x-y, x*y, x/y, x.mod(), y.mod()]), sep='\\n')\u001b[0m\n\u001b[0m          ^\u001b[0m\n\u001b[0;31mSyntaxError\u001b[0m\u001b[0;31m:\u001b[0m invalid syntax\n"
     ]
    }
   ],
   "source": [
    "import math\n",
    "\n",
    "class Complex(object):\n",
    "    def __init__(self, real, imaginary):\n",
    "        self.real=real\n",
    "        self.imaginary=imaginary\n",
    "        \n",
    "    def __add__(self, no):\n",
    "        real=self.real+no.real\n",
    "        imaginary=self.imaginary+no.imaginary\n",
    "        return Complex(real,imaginary)\n",
    "        \n",
    "    def __sub__(self, no):\n",
    "        real=self.real-no.real\n",
    "        imaginary=self.imaginary-no.imaginary\n",
    "        return Complex(real,imaginary)\n",
    "\n",
    "    def __mul__(self, no):\n",
    "        real=self.real*no.real-self.imaginary*no.imaginary\n",
    "        imaginary=self.real*no.imaginary+self.imaginary*no.real\n",
    "        return Complex(real,imaginary)\n",
    "\n",
    "\n",
    "    def __truediv__(self, no):\n",
    "        x = float(no.real ** 2 + no.imaginary ** 2)\n",
    "        y = self * Complex(no.real, -no.imaginary)\n",
    "        real = y.real / x\n",
    "        imaginary = y.imaginary / x\n",
    "        return Complex(real, imaginary)\n",
    "\n",
    "    def mod(self):\n",
    "        real = math.sqrt(self.real ** 2 + self.imaginary ** 2)\n",
    "        return Complex(real, 0)\n",
    "\n",
    "    def __str__(self):\n",
    "        return \"{0:.2f}{1:+.2f}i\".format(self.real,self.imaginary)\n",
    "\n",
    "if __name__ == '__main__':\n",
    "    c = map(float, raw_input().split())\n",
    "    d = map(float, raw_input().split())\n",
    "    x = Complex(*c)\n",
    "    y = Complex(*d)\n",
    "    print(*map(str, [x+y, x-y, x*y, x/y, x.mod(), y.mod()]), sep='\\n')"
   ]
  },
  {
   "cell_type": "code",
   "execution_count": null,
   "metadata": {},
   "outputs": [],
   "source": []
  }
 ],
 "metadata": {
  "kernelspec": {
   "display_name": "Python 3",
   "language": "python",
   "name": "python3"
  },
  "language_info": {
   "codemirror_mode": {
    "name": "ipython",
    "version": 2
   },
   "file_extension": ".py",
   "mimetype": "text/x-python",
   "name": "python",
   "nbconvert_exporter": "python",
   "pygments_lexer": "ipython2",
   "version": "2.7.12"
  }
 },
 "nbformat": 4,
 "nbformat_minor": 2
}
