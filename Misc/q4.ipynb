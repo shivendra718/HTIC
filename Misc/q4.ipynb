{
 "cells": [
  {
   "cell_type": "code",
   "execution_count": 3,
   "metadata": {},
   "outputs": [
    {
     "name": "stdout",
     "output_type": "stream",
     "text": [
      "8\n",
      "UDDDUDUU\n",
      "[1, 0, -1, -2, -1, -2, -1, 0]\n",
      "1\n"
     ]
    }
   ],
   "source": [
    "n=int(input())\n",
    "s=raw_input()\n",
    "level=0\n",
    "valleys=0\n",
    "height=[]\n",
    "for step  in s:\n",
    "    if step==\"U\":\n",
    "        level+=1\n",
    "    elif step==\"D\":\n",
    "        level-=1\n",
    "    height.append(level)\n",
    "print(height)\n",
    "for x in range(1,len(height)):\n",
    "    if (height[x-1]<0 and height[x]==0):\n",
    "        valleys+=1\n",
    "print(valleys)"
   ]
  },
  {
   "cell_type": "code",
   "execution_count": null,
   "metadata": {},
   "outputs": [],
   "source": []
  },
  {
   "cell_type": "code",
   "execution_count": null,
   "metadata": {},
   "outputs": [],
   "source": []
  }
 ],
 "metadata": {
  "kernelspec": {
   "display_name": "Python 3",
   "language": "python",
   "name": "python3"
  },
  "language_info": {
   "codemirror_mode": {
    "name": "ipython",
    "version": 2
   },
   "file_extension": ".py",
   "mimetype": "text/x-python",
   "name": "python",
   "nbconvert_exporter": "python",
   "pygments_lexer": "ipython2",
   "version": "2.7.12"
  }
 },
 "nbformat": 4,
 "nbformat_minor": 2
}
