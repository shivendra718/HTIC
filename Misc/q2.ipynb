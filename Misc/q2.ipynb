{
 "cells": [
  {
   "cell_type": "code",
   "execution_count": 15,
   "metadata": {},
   "outputs": [
    {
     "name": "stdout",
     "output_type": "stream",
     "text": [
      "4 3\n",
      "8 7 5 6\n",
      "[7, 5, 6, 8]\n"
     ]
    }
   ],
   "source": [
    "n,d=map(int,raw_input().split())\n",
    "l=map(int, raw_input().split())\n",
    "l1=list(l)\n",
    "for i in range(d):\n",
    "    l1 = (l1[len(l1) - i:len(l1)] + l1[0:len(l1) - i]) \n",
    "print(l1)\n",
    "\n",
    "\n"
   ]
  },
  {
   "cell_type": "markdown",
   "metadata": {},
   "source": []
  }
 ],
 "metadata": {
  "kernelspec": {
   "display_name": "Python 3",
   "language": "python",
   "name": "python3"
  },
  "language_info": {
   "codemirror_mode": {
    "name": "ipython",
    "version": 2
   },
   "file_extension": ".py",
   "mimetype": "text/x-python",
   "name": "python",
   "nbconvert_exporter": "python",
   "pygments_lexer": "ipython2",
   "version": "2.7.12"
  }
 },
 "nbformat": 4,
 "nbformat_minor": 2
}
