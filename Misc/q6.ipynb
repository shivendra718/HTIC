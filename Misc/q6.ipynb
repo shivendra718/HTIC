{
 "cells": [
  {
   "cell_type": "code",
   "execution_count": 12,
   "metadata": {},
   "outputs": [
    {
     "name": "stdout",
     "output_type": "stream",
     "text": [
      "1\n",
      "abba\n",
      "['a']\n",
      "\n",
      "['b']\n",
      "\n",
      "['b']\n",
      "\n",
      "['a']\n",
      "\n",
      "['a', 'b']\n",
      "\n",
      "['b', 'b']\n",
      "\n",
      "['a', 'b']\n",
      "\n",
      "['a', 'b', 'b']\n",
      "\n",
      "['a', 'b', 'b']\n",
      "\n"
     ]
    }
   ],
   "source": [
    "cases = int(input())\n",
    "for caseNo in range(cases):\n",
    "    s = raw_input()\n",
    "    n = len(s)\n",
    "    res = 0\n",
    "    for l in range(1, n):\n",
    "        cnt = {}\n",
    "        for i in range(n - l + 1):\n",
    "            subs = list(s[i:i + l])\n",
    "            subs.sort()\n",
    "            print(subs)\n",
    "            subs = ''.join(subs)\n",
    "            print(subs)\n",
    "            if subs in cnt:\n",
    "                cnt[subs] += 1\n",
    "            else:\n",
    "                cnt[subs] = 1\n",
    "            res += cnt[subs] - 1\n",
    "    #print(res)"
   ]
  },
  {
   "cell_type": "code",
   "execution_count": null,
   "metadata": {},
   "outputs": [],
   "source": []
  },
  {
   "cell_type": "code",
   "execution_count": null,
   "metadata": {},
   "outputs": [],
   "source": []
  }
 ],
 "metadata": {
  "kernelspec": {
   "display_name": "Python 3",
   "language": "python",
   "name": "python3"
  },
  "language_info": {
   "codemirror_mode": {
    "name": "ipython",
    "version": 2
   },
   "file_extension": ".py",
   "mimetype": "text/x-python",
   "name": "python",
   "nbconvert_exporter": "python",
   "pygments_lexer": "ipython2",
   "version": "2.7.12"
  }
 },
 "nbformat": 4,
 "nbformat_minor": 2
}
