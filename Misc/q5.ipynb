{
 "cells": [
  {
   "cell_type": "code",
   "execution_count": 17,
   "metadata": {},
   "outputs": [
    {
     "name": "stdout",
     "output_type": "stream",
     "text": [
      "5\n",
      "5 4 3 2 1\n",
      "[1, 2, 3, 4, 5]\n",
      "2\n"
     ]
    }
   ],
   "source": [
    "n=int(input())\n",
    "arr=list(map(int,raw_input().split()))\n",
    "swaps=0\n",
    "for i in range(0,len(arr)-1):\n",
    "    while arr[i]!=i+1:\n",
    "        t=arr[arr[i]-1]\n",
    "        arr[arr[i]-1]=arr[i]\n",
    "        arr[i]=t\n",
    "        swaps+=1\n",
    "print(arr)\n",
    "print(swaps)\n"
   ]
  },
  {
   "cell_type": "code",
   "execution_count": null,
   "metadata": {},
   "outputs": [],
   "source": []
  },
  {
   "cell_type": "code",
   "execution_count": null,
   "metadata": {},
   "outputs": [],
   "source": []
  }
 ],
 "metadata": {
  "kernelspec": {
   "display_name": "Python 3",
   "language": "python",
   "name": "python3"
  },
  "language_info": {
   "codemirror_mode": {
    "name": "ipython",
    "version": 2
   },
   "file_extension": ".py",
   "mimetype": "text/x-python",
   "name": "python",
   "nbconvert_exporter": "python",
   "pygments_lexer": "ipython2",
   "version": "2.7.12"
  }
 },
 "nbformat": 4,
 "nbformat_minor": 2
}
