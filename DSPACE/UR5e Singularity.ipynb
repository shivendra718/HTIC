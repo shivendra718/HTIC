{
 "cells": [
  {
   "cell_type": "code",
   "execution_count": 2,
   "metadata": {},
   "outputs": [],
   "source": [
    "import urx\n",
    "import math\n",
    "import numpy as np\n",
    "import time"
   ]
  },
  {
   "cell_type": "code",
   "execution_count": 3,
   "metadata": {},
   "outputs": [],
   "source": [
    "def JointLocations(thetas):\n",
    "    \n",
    "    d1 = 0.1625\n",
    "    a2 = -0.425\n",
    "    a3 = -0.3922\n",
    "    d4 = 0.1333\n",
    "    d5 = 0.0997 \n",
    "    d6 = 0.0996 \n",
    "    \n",
    "    t1 = thetas[0]\n",
    "    t2 = thetas[1]\n",
    "    t3 = thetas[2]\n",
    "    t4 = thetas[3]\n",
    "    t5 = thetas[4]\n",
    "    t23 = t2 +  t3\n",
    "    t234 = t2 + t3 + t4\n",
    "    \n",
    "    theta1 = [0,0,d1]\n",
    "    \n",
    "    theta2 = [(a2*np.cos(t1)*np.cos(t2)),\n",
    "               (a2*np.cos(t2)*np.sin(t1)),\n",
    "               (d1+(a2*np.sin(t2)))]\n",
    "               \n",
    "    theta3 = [np.cos(t1)*((a2*np.cos(t2)) + (a3*np.cos(t23))),\n",
    "              ((a2*np.cos(t2)) + (a3*np.cos(t23))) *np.sin(t1),\n",
    "              d1 + (a2*np.sin(t2))+(a3*np.sin(t23))]\n",
    "               \n",
    "    theta4 = [(np.cos(t1)*(a2*np.cos(t2)+a3*np.cos(t23)) + d4*np.sin(t1)),\n",
    "              -d4*np.cos(t1) + ((a2*np.cos(t2)) + (a3*np.cos(t23)))*np.sin(t1),\n",
    "              d1 + a2*np.sin(t2) + a3*np.sin(t23)]\n",
    "               \n",
    "    theta5 = [ d4*np.sin(t1) + (np.cos(t1) * ((a2*np.cos(t2)) + (a3*np.cos(t23)) + (d5*np.sin(t234)))),\n",
    "              -d4*np.cos(t1) + (np.sin(t1) * ((a2*np.cos(t2)) + (a3*np.cos(t23)) + (d5*np.sin(t234)))),\n",
    "              d1 - (d5*np.cos(t234)) + (a2*np.sin(t2)) + (a3*np.sin(t23))]\n",
    "               \n",
    "    theta6 = [((d4+(d6*np.cos(t5)))*np.sin(t1)) + np.cos(t1) * ((a2*np.cos(t2)) + (a3*np.cos(t23)) + (d5*np.sin(t234)) -(d6*np.cos(t234)*np.sin(t5))),\n",
    "              (-np.cos(t1) * (d4+ (d6*np.cos(t5)))) + np.sin(t1) * ((a2*np.cos(t2)) + (a3*np.cos(t23)) + (d5*np.sin(t234)) - (d6*np.cos(t234)*np.sin(t5))),\n",
    "              d1 - (d5*np.cos(t234)) + (a2*np.sin(t2)) + (a3*np.sin(t23)) - (d6*np.sin(t234)*np.sin(t5))]\n",
    "    \n",
    "    positions = [theta1,theta2,theta3,theta4,theta5,theta6]\n",
    "    return positions\n",
    "\n",
    "def Vec2UnitVec(vec):\n",
    "    norm = np.sqrt( np.square(vec[0]) + np.square(vec[1]) + np.square(vec[2]))\n",
    "    vector = vec / norm\n",
    "    return vector\n",
    "\n",
    "def VecNorm(vec):\n",
    "    norm = np.sqrt( np.square(vec[0]) + np.square(vec[1]) + np.square(vec[2]))\n",
    "    return norm"
   ]
  },
  {
   "cell_type": "code",
   "execution_count": 1,
   "metadata": {},
   "outputs": [],
   "source": [
    "# Choose Resulatant value less than 0.1 to meet singularity"
   ]
  },
  {
   "cell_type": "code",
   "execution_count": 15,
   "metadata": {},
   "outputs": [
    {
     "name": "stderr",
     "output_type": "stream",
     "text": [
      "tried 11 times to find a packet in data, advertised packet size: -2, type: 3\n",
      "Data length: 44\n",
      "tried 11 times to find a packet in data, advertised packet size: -2, type: 3\n",
      "Data length: 68\n",
      "tried 11 times to find a packet in data, advertised packet size: -2, type: 3\n",
      "Data length: 1092\n",
      "tried 11 times to find a packet in data, advertised packet size: -2, type: 3\n",
      "Data length: 1454\n"
     ]
    },
    {
     "name": "stdout",
     "output_type": "stream",
     "text": [
      "0.6984655184353076\n"
     ]
    },
    {
     "name": "stderr",
     "output_type": "stream",
     "text": [
      "Exception in thread Thread-7:\n",
      "Traceback (most recent call last):\n",
      "  File \"E:\\ProgramFiles\\anaconda3\\lib\\threading.py\", line 926, in _bootstrap_inner\n",
      "    self.run()\n",
      "  File \"E:\\ProgramFiles\\anaconda3\\lib\\site-packages\\urx\\ursecmon.py\", line 286, in run\n",
      "    data = self._get_data()\n",
      "  File \"E:\\ProgramFiles\\anaconda3\\lib\\site-packages\\urx\\ursecmon.py\", line 333, in _get_data\n",
      "    tmp = self._s_secondary.recv(1024)\n",
      "socket.timeout: timed out\n",
      "\n",
      "Exception in thread Thread-6:\n",
      "Traceback (most recent call last):\n",
      "  File \"E:\\ProgramFiles\\anaconda3\\lib\\threading.py\", line 926, in _bootstrap_inner\n",
      "    self.run()\n",
      "  File \"E:\\ProgramFiles\\anaconda3\\lib\\site-packages\\urx\\ursecmon.py\", line 286, in run\n",
      "    data = self._get_data()\n",
      "  File \"E:\\ProgramFiles\\anaconda3\\lib\\site-packages\\urx\\ursecmon.py\", line 333, in _get_data\n",
      "    tmp = self._s_secondary.recv(1024)\n",
      "socket.timeout: timed out\n",
      "\n",
      "Exception in thread Thread-13:\n",
      "Traceback (most recent call last):\n",
      "  File \"E:\\ProgramFiles\\anaconda3\\lib\\threading.py\", line 926, in _bootstrap_inner\n",
      "    self.run()\n",
      "  File \"E:\\ProgramFiles\\anaconda3\\lib\\site-packages\\urx\\ursecmon.py\", line 286, in run\n",
      "    data = self._get_data()\n",
      "  File \"E:\\ProgramFiles\\anaconda3\\lib\\site-packages\\urx\\ursecmon.py\", line 333, in _get_data\n",
      "    tmp = self._s_secondary.recv(1024)\n",
      "socket.timeout: timed out\n",
      "Exception in thread Thread-8:\n",
      "Traceback (most recent call last):\n",
      "  File \"E:\\ProgramFiles\\anaconda3\\lib\\threading.py\", line 926, in _bootstrap_inner\n",
      "    self.run()\n",
      "  File \"E:\\ProgramFiles\\anaconda3\\lib\\site-packages\\urx\\ursecmon.py\", line 286, in run\n",
      "    data = self._get_data()\n",
      "  File \"E:\\ProgramFiles\\anaconda3\\lib\\site-packages\\urx\\ursecmon.py\", line 333, in _get_data\n",
      "    tmp = self._s_secondary.recv(1024)\n",
      "socket.timeout: timed out\n",
      "\n",
      "\n",
      "Exception in thread Thread-12:\n",
      "Traceback (most recent call last):\n",
      "  File \"E:\\ProgramFiles\\anaconda3\\lib\\threading.py\", line 926, in _bootstrap_inner\n",
      "    self.run()\n",
      "  File \"E:\\ProgramFiles\\anaconda3\\lib\\site-packages\\urx\\ursecmon.py\", line 286, in run\n",
      "    data = self._get_data()\n",
      "  File \"E:\\ProgramFiles\\anaconda3\\lib\\site-packages\\urx\\ursecmon.py\", line 333, in _get_data\n",
      "    tmp = self._s_secondary.recv(1024)\n",
      "socket.timeout: timed out\n",
      "Exception in thread Thread-10:\n",
      "Traceback (most recent call last):\n",
      "  File \"E:\\ProgramFiles\\anaconda3\\lib\\threading.py\", line 926, in _bootstrap_inner\n",
      "    self.run()\n",
      "  File \"E:\\ProgramFiles\\anaconda3\\lib\\site-packages\\urx\\ursecmon.py\", line 286, in run\n",
      "    data = self._get_data()\n",
      "  File \"E:\\ProgramFiles\\anaconda3\\lib\\site-packages\\urx\\ursecmon.py\", line 333, in _get_data\n",
      "    tmp = self._s_secondary.recv(1024)\n",
      "socket.timeout: timed out\n",
      "Exception in thread Thread-14:\n",
      "Traceback (most recent call last):\n",
      "  File \"E:\\ProgramFiles\\anaconda3\\lib\\threading.py\", line 926, in _bootstrap_inner\n",
      "    self.run()\n",
      "  File \"E:\\ProgramFiles\\anaconda3\\lib\\site-packages\\urx\\ursecmon.py\", line 286, in run\n",
      "    data = self._get_data()\n",
      "  File \"E:\\ProgramFiles\\anaconda3\\lib\\site-packages\\urx\\ursecmon.py\", line 333, in _get_data\n",
      "    tmp = self._s_secondary.recv(1024)\n",
      "socket.timeout: timed out\n",
      "\n",
      "\n",
      "\n",
      "Exception in thread Thread-11:\n",
      "Traceback (most recent call last):\n",
      "  File \"E:\\ProgramFiles\\anaconda3\\lib\\threading.py\", line 926, in _bootstrap_inner\n",
      "    self.run()\n",
      "  File \"E:\\ProgramFiles\\anaconda3\\lib\\site-packages\\urx\\ursecmon.py\", line 286, in run\n",
      "    data = self._get_data()\n",
      "  File \"E:\\ProgramFiles\\anaconda3\\lib\\site-packages\\urx\\ursecmon.py\", line 333, in _get_data\n",
      "    tmp = self._s_secondary.recv(1024)\n",
      "socket.timeout: timed out\n",
      "\n",
      "Exception in thread Thread-9:\n",
      "Traceback (most recent call last):\n",
      "  File \"E:\\ProgramFiles\\anaconda3\\lib\\threading.py\", line 926, in _bootstrap_inner\n",
      "    self.run()\n",
      "  File \"E:\\ProgramFiles\\anaconda3\\lib\\site-packages\\urx\\ursecmon.py\", line 286, in run\n",
      "    data = self._get_data()\n",
      "  File \"E:\\ProgramFiles\\anaconda3\\lib\\site-packages\\urx\\ursecmon.py\", line 333, in _get_data\n",
      "    tmp = self._s_secondary.recv(1024)\n",
      "socket.timeout: timed out\n",
      "\n"
     ]
    }
   ],
   "source": [
    "robo = urx.Robot(\"127.0.0.1\")\n",
    "while(True): #Wrist Singularity\n",
    "    Positions = JointLocations(robo.getj())\n",
    "    wristvec1 = np.asarray(Positions[3]) - np.asarray(Positions[2])\n",
    "    wristvec2 = np.asarray(Positions[5]) - np.asarray(Positions[4])\n",
    "    Resultatnt = np.cross(Vec2UnitVec( wristvec1), Vec2UnitVec( wristvec2))\n",
    "    print(VecNorm(Resultatnt))\n",
    "    break\n",
    "    "
   ]
  },
  {
   "cell_type": "code",
   "execution_count": 14,
   "metadata": {},
   "outputs": [
    {
     "name": "stderr",
     "output_type": "stream",
     "text": [
      "tried 11 times to find a packet in data, advertised packet size: -2, type: 3\n",
      "Data length: 44\n",
      "tried 11 times to find a packet in data, advertised packet size: -2, type: 3\n",
      "Data length: 68\n",
      "tried 11 times to find a packet in data, advertised packet size: -2, type: 3\n",
      "Data length: 1092\n",
      "tried 11 times to find a packet in data, advertised packet size: -2, type: 3\n",
      "Data length: 1454\n"
     ]
    },
    {
     "name": "stdout",
     "output_type": "stream",
     "text": [
      "0.06549337420930959\n"
     ]
    }
   ],
   "source": [
    "robo = urx.Robot(\"127.0.0.1\")\n",
    "while(True): #Elbow Singularity\n",
    "    Positions = JointLocations(robo.getj())\n",
    "    wristvec1 = np.asarray(Positions[1]) - np.asarray(Positions[0])\n",
    "    wristvec2 = np.asarray(Positions[2]) - np.asarray(Positions[1])\n",
    "    Resultatnt = np.cross(Vec2UnitVec( wristvec1), Vec2UnitVec( wristvec2))\n",
    "    print(VecNorm(Resultatnt))\n",
    "    break"
   ]
  },
  {
   "cell_type": "code",
   "execution_count": 9,
   "metadata": {},
   "outputs": [
    {
     "data": {
      "text/plain": [
       "[-0.49180013888025653,\n",
       " -0.49754236592673606,\n",
       " 0.48779999998804613,\n",
       " -1.2091996762909423,\n",
       " -1.209199653068139,\n",
       " 1.2092000716991733]"
      ]
     },
     "execution_count": 9,
     "metadata": {},
     "output_type": "execute_result"
    }
   ],
   "source": [
    "robo.getl()"
   ]
  },
  {
   "cell_type": "code",
   "execution_count": null,
   "metadata": {},
   "outputs": [],
   "source": []
  }
 ],
 "metadata": {
  "kernelspec": {
   "display_name": "Python 3",
   "language": "python",
   "name": "python3"
  },
  "language_info": {
   "codemirror_mode": {
    "name": "ipython",
    "version": 3
   },
   "file_extension": ".py",
   "mimetype": "text/x-python",
   "name": "python",
   "nbconvert_exporter": "python",
   "pygments_lexer": "ipython3",
   "version": "3.7.6"
  }
 },
 "nbformat": 4,
 "nbformat_minor": 4
}
