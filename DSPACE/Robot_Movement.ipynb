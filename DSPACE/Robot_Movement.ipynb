{
 "cells": [
  {
   "cell_type": "code",
   "execution_count": 3,
   "metadata": {},
   "outputs": [],
   "source": [
    "import urx\n",
    "import math\n",
    "import math3d as m3d\n",
    "import numpy as np\n",
    "import time"
   ]
  },
  {
   "cell_type": "code",
   "execution_count": 9,
   "metadata": {},
   "outputs": [
    {
     "name": "stderr",
     "output_type": "stream",
     "text": [
      "tried 11 times to find a packet in data, advertised packet size: -2, type: 3\n",
      "Data length: 68\n",
      "tried 11 times to find a packet in data, advertised packet size: -2, type: 3\n",
      "Data length: 1092\n",
      "tried 11 times to find a packet in data, advertised packet size: -2, type: 3\n",
      "Data length: 1454\n"
     ]
    }
   ],
   "source": [
    "#Connection Establishment\n",
    "robo = urx.Robot(\"172.16.101.225\")\n",
    "# robo = urx.Robot(\"127.0.0.1\")"
   ]
  },
  {
   "cell_type": "code",
   "execution_count": 11,
   "metadata": {},
   "outputs": [],
   "source": [
    "#Home position\n",
    "robo.movej(( 0,-math.pi/2,math.pi/2,0,math.pi/2,math.pi),0.2,0.2,wait=False)"
   ]
  },
  {
   "cell_type": "code",
   "execution_count": null,
   "metadata": {},
   "outputs": [],
   "source": [
    "def getcurrentdata():\n",
    "    xvalue = 0\n",
    "    yvalue = 0\n",
    "    zvalue = 0\n",
    "    \n",
    "    for i in range(10):\n",
    "        value = robo.getl()\n",
    "        xvalue += value[0]\n",
    "        yvalue += value[1]\n",
    "        zvalue += value[2]\n",
    "        time.sleep(0.2)\n",
    "    \n",
    "    store = [xvalue,yvalue,zvalue]\n",
    "    \n",
    "    return store"
   ]
  },
  {
   "cell_type": "code",
   "execution_count": null,
   "metadata": {},
   "outputs": [],
   "source": [
    "#Define movemnents : \n",
    "# Example : robo.movel((0,0,0.1,0,0,0),0.1,0.1,relative=True,wait=False) **Move 100mm in  positive z direction\n",
    "stack = []"
   ]
  },
  {
   "cell_type": "code",
   "execution_count": null,
   "metadata": {},
   "outputs": [],
   "source": [
    "#Make linear movement\n",
    "robo.movel((stack),relative=True,wait=False)"
   ]
  },
  {
   "cell_type": "code",
   "execution_count": null,
   "metadata": {},
   "outputs": [],
   "source": [
    "#record values\n",
    "current_values = getcurrentdata()\n",
    "print(\"Averaged Values : {}\".format(current_values))"
   ]
  },
  {
   "cell_type": "code",
   "execution_count": 10,
   "metadata": {},
   "outputs": [
    {
     "data": {
      "text/plain": [
       "array([ -611.32716628,  -139.97226391,  -204.29798313, -1211.48040435,\n",
       "       -1207.97440069,  1209.2648031 ])"
      ]
     },
     "execution_count": 10,
     "metadata": {},
     "output_type": "execute_result"
    }
   ],
   "source": [
    "np.asarray(robo.getl())*1000"
   ]
  },
  {
   "cell_type": "code",
   "execution_count": null,
   "metadata": {},
   "outputs": [],
   "source": [
    "np.subtract([ -591.59344691,  -134.6548425 ,  -204.56507602],[-591.5067401192478,-135.3963755895251,-204.29899430975076])"
   ]
  },
  {
   "cell_type": "code",
   "execution_count": null,
   "metadata": {},
   "outputs": [],
   "source": [
    "30 60\n",
    "30 120\n",
    "30 180\n",
    "30 240\n",
    "30 300\n",
    "30 360\n",
    "45 60\n",
    "45 120\n",
    "45 180\n",
    "45 240\n",
    "45 300\n",
    "45 360\n",
    "65 60\n",
    "65 120\n",
    "65 180\n",
    "65 240\n",
    "65 300\n",
    "65 360\n",
    "[array([-615.6572933 , -137.47226391, -195.63772909]),\n",
    " array([-615.6572933 , -142.47226391, -195.63772909]),\n",
    " array([-611.32716628, -144.97226391, -195.63772909]),\n",
    " array([-606.99703926, -142.47226391, -195.63772909]),\n",
    " array([-606.99703926, -137.47226391, -195.63772909]),\n",
    " array([-611.32716628, -134.97226391, -195.63772909]),\n",
    " array([-617.45089064, -136.43673   , -197.22691532]),\n",
    " array([-617.45089064, -143.50779782, -197.22691532]),\n",
    " array([-611.32716628, -147.04333172, -197.22691532]), \n",
    " array([-605.20344192, -143.50779782, -197.22691532]),\n",
    " array([-605.20344192, -136.43673   , -197.22691532]),\n",
    " array([-611.32716628, -132.9011961 , -197.22691532]), \n",
    " array([-619.17602195, -135.44072497, -200.07180051]),\n",
    " array([-619.17602195, -144.50380285, -200.07180051]),\n",
    " array([-611.32716628, -149.03534178, -200.07180051]),\n",
    " array([-603.47831061, -144.50380285, -200.07180051]),\n",
    " array([-603.47831061, -135.44072497, -200.07180051]),\n",
    " array([-611.32716628, -130.90918604, -200.07180051])]\n",
    "\n",
    "\n",
    "\n",
    "\n",
    "\n",
    "\n",
    "\n",
    "\n",
    "\n",
    "\n"
   ]
  },
  {
   "cell_type": "code",
   "execution_count": null,
   "metadata": {},
   "outputs": [],
   "source": [
    "#Freedrive\n",
    "robo.set_freedrive(1)"
   ]
  },
  {
   "cell_type": "code",
   "execution_count": 8,
   "metadata": {},
   "outputs": [
    {
     "data": {
      "text/plain": [
       "[-0.6047061549963848,\n",
       " -0.13445940207668816,\n",
       " 0.33802262595261556,\n",
       " -1.211541268120007,\n",
       " -1.2079236283405634,\n",
       " 1.2092274020998512]"
      ]
     },
     "execution_count": 8,
     "metadata": {},
     "output_type": "execute_result"
    },
    {
     "name": "stderr",
     "output_type": "stream",
     "text": [
      "Exception in thread Thread-6:\n",
      "Traceback (most recent call last):\n",
      "  File \"/usr/lib/python3.5/threading.py\", line 914, in _bootstrap_inner\n",
      "    self.run()\n",
      "  File \"/home/shivendra/virtual_robotics_urx/lib/python3.5/site-packages/urx/ursecmon.py\", line 286, in run\n",
      "    data = self._get_data()\n",
      "  File \"/home/shivendra/virtual_robotics_urx/lib/python3.5/site-packages/urx/ursecmon.py\", line 333, in _get_data\n",
      "    tmp = self._s_secondary.recv(1024)\n",
      "ConnectionResetError: [Errno 104] Connection reset by peer\n",
      "\n"
     ]
    }
   ],
   "source": [
    "robo.getl()"
   ]
  },
  {
   "cell_type": "code",
   "execution_count": null,
   "metadata": {},
   "outputs": [],
   "source": []
  },
  {
   "cell_type": "code",
   "execution_count": null,
   "metadata": {},
   "outputs": [],
   "source": [
    "#Robot stop;\n",
    "robo.stop()"
   ]
  }
 ],
 "metadata": {
  "kernelspec": {
   "display_name": "Python 3",
   "language": "python",
   "name": "python3"
  },
  "language_info": {
   "codemirror_mode": {
    "name": "ipython",
    "version": 3
   },
   "file_extension": ".py",
   "mimetype": "text/x-python",
   "name": "python",
   "nbconvert_exporter": "python",
   "pygments_lexer": "ipython3",
   "version": "3.5.2"
  }
 },
 "nbformat": 4,
 "nbformat_minor": 2
}
