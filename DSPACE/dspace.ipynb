{
 "cells": [
  {
   "cell_type": "code",
   "execution_count": 1,
   "metadata": {},
   "outputs": [],
   "source": [
    "import urx\n",
    "import math\n",
    "from math import *\n",
    "import math3d as m3d\n",
    "import numpy as np\n",
    "import time\n",
    "import plotly.graph_objects as go\n",
    "import sys\n",
    "import plotly.io as pio"
   ]
  },
  {
   "cell_type": "code",
   "execution_count": null,
   "metadata": {},
   "outputs": [],
   "source": [
    "#Connection Establishment\n",
    "robo = urx.Robot(\"127.0.0.1\")"
   ]
  },
  {
   "cell_type": "code",
   "execution_count": null,
   "metadata": {},
   "outputs": [],
   "source": [
    "robo.movej(( math.pi/2,-math.pi/2,math.pi/2,0,math.pi/2,math.pi),0.2,0.2,wait=False)"
   ]
  },
  {
   "cell_type": "code",
   "execution_count": null,
   "metadata": {},
   "outputs": [],
   "source": [
    "robo.movej(( math.pi,-math.pi/2,-math.pi/36,0,math.pi/2,math.pi),0.2,0.2,wait=False)"
   ]
  },
  {
   "cell_type": "code",
   "execution_count": null,
   "metadata": {},
   "outputs": [],
   "source": [
    "pio.renderers.default = \"browser\""
   ]
  },
  {
   "cell_type": "code",
   "execution_count": null,
   "metadata": {},
   "outputs": [],
   "source": [
    "current_data = robo.getl()\n",
    "print(current_data)\n"
   ]
  },
  {
   "cell_type": "code",
   "execution_count": null,
   "metadata": {},
   "outputs": [],
   "source": [
    "def EulerAngle(xtheta,ytheta,ztheta):\n",
    "    xmatrix = np.matrix([[1,0,0],[0,cos(xtheta),-sin(xtheta)],[0,sin(xtheta),cos(xtheta)]])\n",
    "    ymatrix = np.matrix([[cos(ytheta),0,sin(ytheta)],[0,1,0],[-sin(ytheta),0,cos(ytheta)]])\n",
    "    zmatrix = np.matrix([[cos(ztheta),-sin(ztheta),0],[sin(ztheta),cos(ztheta),0],[0,0,1]])\n",
    "    EulerAngleRot = zmatrix*ymatrix*xmatrix\n",
    "    return EulerAngleRot\n"
   ]
  },
  {
   "cell_type": "code",
   "execution_count": null,
   "metadata": {},
   "outputs": [],
   "source": []
  },
  {
   "cell_type": "code",
   "execution_count": 2,
   "metadata": {},
   "outputs": [],
   "source": [
    "def OrientMatixRotation(axis,rotationvec,theta):\n",
    "    comp1 = rotationvec * np.cos(theta)\n",
    "    comp2 = np.cross(rotationvec,axis) * np.sin(theta)\n",
    "    comp3 = (rotationvec * (np.dot(rotationvec,axis)))* (1 - np.cos(theta))\n",
    "    Rodrigues = comp1 + comp2 + comp3\n",
    "    return Rodrigues"
   ]
  },
  {
   "cell_type": "code",
   "execution_count": null,
   "metadata": {},
   "outputs": [],
   "source": [
    "def rodrigues_vec_to_rotation_mat(rodrigues_vec):\n",
    "    theta = np.linalg.norm(rodrigues_vec)\n",
    "    if theta < sys.float_info.epsilon:              \n",
    "        rotation_mat = np.eye(3, dtype=float)\n",
    "    else:\n",
    "        r = rodrigues_vec / theta\n",
    "        I = np.eye(3, dtype=float)\n",
    "        r_rT = np.array([\n",
    "            [r[0]*r[0], r[0]*r[1], r[0]*r[2]],\n",
    "            [r[1]*r[0], r[1]*r[1], r[1]*r[2]],\n",
    "            [r[2]*r[0], r[2]*r[1], r[2]*r[2]]\n",
    "        ])\n",
    "        r_cross = np.array([\n",
    "            [0, -r[2], r[1]],\n",
    "            [r[2], 0, -r[0]],\n",
    "            [-r[1], r[0], 0]\n",
    "        ])\n",
    "        rotation_mat = math.cos(theta) * I + (1 - math.cos(theta)) * r_rT + math.sin(theta) * r_cross\n",
    "    return rotation_mat "
   ]
  },
  {
   "cell_type": "code",
   "execution_count": 3,
   "metadata": {},
   "outputs": [],
   "source": [
    "def FigVec(fig,vector1,vector2,vector3):\n",
    "#     data = go.Scatter3d(x=[origin[0],vector1[0]],y=[origin[1],vector1[1]],z=[origin[2],vector1[2]],mode = 'markers', marker=dict(opacity = 0.5, color = ('rgb(204, 102, 0)')))\n",
    "#     data1 = go.Scatter3d(x=[origin[0],vector2[0]],y=[origin[1],vector2[1]],z=[origin[2],vector2[2]],mode = 'markers', marker=dict(opacity = 0.5, color = ('rgb(204, 102, 0)')))\n",
    "    data2 = go.Scatter3d(x=[vector3[0]],y=[vector3[1]],z=[vector3[2]],mode = 'markers', marker=dict(opacity = 0.5, color = ('rgb(204, 102, 0)')))\n",
    "#     fig.add_trace(data)\n",
    "#     fig.add_trace(data1)\n",
    "    fig.add_trace(data2)\n",
    "    return fig,[vector1,vector2,vector3]\n",
    "    "
   ]
  },
  {
   "cell_type": "code",
   "execution_count": null,
   "metadata": {},
   "outputs": [],
   "source": [
    "def rotsplit(R):\n",
    "    vectorx1 = np.asarray([R1[0,0],R1[1,0],R1[2,0]])\n",
    "    vectory1 = np.asarray([R1[0,1],R1[1,1],R1[2,1]])\n",
    "    vectorz1 = np.asarray([R1[0,2],R1[1,2],R1[2,2]])\n",
    "    return np.asarray([vectorx1,vectory1,vectorz1])"
   ]
  },
  {
   "cell_type": "code",
   "execution_count": null,
   "metadata": {},
   "outputs": [],
   "source": [
    "# xtheta = current_data[3]\n",
    "# ytheta = current_data[4]\n",
    "# ztheta = current_data[5]\n",
    "\n",
    "# R = EulerAngle(xtheta,ytheta,ztheta)\n",
    "R= np.matrix([[ -0.0000003, -0.0000000, -1.0000000],[1.0000000, -0.0000003, -0.0000003],[-0.0000003, -1.0000000,  0.0000000 ]])\n",
    "print(R)\n",
    "\n",
    "origin = [0,0,0]\n",
    "vectorx = np.asarray([R[0,0],R[1,0],R[2,0]])\n",
    "vectory = np.asarray([R[0,1],R[1,1],R[2,1]])\n",
    "vectorz = np.asarray([R[0,2],R[1,2],R[2,2]])\n",
    "\n",
    "fig = go.Figure()\n",
    "theta = np.linspace(0,2*pi,20)\n",
    "phi = np.linspace(0,pi,10)\n",
    "for i in range(0,len(theta)):\n",
    "    for j in range(0,len(phi)):\n",
    "        Rod_y = OrientMatixRotation(vectorx,vectory,theta[i])\n",
    "#         fig = FigVec(fig,vectorx,Rod_y,vectorz)\n",
    "        Rod_xy = OrientMatixRotation(Rod_y,vectorx,phi[j])\n",
    "#         print(Rod_xy)\n",
    "#         Rod_y1 = OrientMatixRotation(Rod_xy,Rod_y,theta[i])\n",
    "        Rod_y1 = OrientMatixRotation(Rod_xy,Rod_y,theta[i])\n",
    "#         print(Rod_xy)\n",
    "#         print(Rod_y1)\n",
    "#         print(vectorz)\n",
    "#         fig,r = FigVec(fig,Rod_xy,Rod_y1,vectorz)\n",
    "        fig,r = FigVec(fig,Rod_y,Rod_xy,Rod_y1)\n",
    "#         print(r)\n",
    "            \n",
    "# R1 = EulerAngle(-0.01852074617501981,-0.11105406264394302,-0.9936417750535276)\n",
    "# print(r)\n",
    "# print(R1)\n",
    "\n",
    "# print(fig.data)\n",
    "\n",
    "fig.show()\n",
    "\n"
   ]
  },
  {
   "cell_type": "code",
   "execution_count": null,
   "metadata": {},
   "outputs": [],
   "source": [
    "#stop robot\n",
    "robo.stop()"
   ]
  },
  {
   "cell_type": "code",
   "execution_count": null,
   "metadata": {},
   "outputs": [],
   "source": []
  },
  {
   "cell_type": "code",
   "execution_count": null,
   "metadata": {},
   "outputs": [],
   "source": [
    "xtheta = -1.2114564411573427\n",
    "ytheta = -1.2078672892093762\n",
    "ztheta = 1.2092725333212169\n",
    "\n",
    "R = EulerAngle(xtheta,ytheta,ztheta)\n",
    "print(R)\n",
    "\n",
    "vectorx = np.asarray([R[0,0],R[1,0],R[2,0]])\n",
    "vectory = np.asarray([R[0,1],R[1,1],R[2,1]])\n",
    "vectorz = np.asarray([R[0,2],R[1,2],R[2,2]])\n",
    "print(vectorx,vectory,vectorz)"
   ]
  },
  {
   "cell_type": "code",
   "execution_count": 7,
   "metadata": {},
   "outputs": [
    {
     "name": "stdout",
     "output_type": "stream",
     "text": [
      "[[1 0 0]\n",
      " [0 1 0]\n",
      " [0 0 1]]\n",
      "0.0\n",
      "0.16534698176788384\n",
      "0.3306939635357677\n",
      "0.4960409453036515\n",
      "0.6613879270715354\n",
      "0.8267349088394192\n",
      "0.992081890607303\n",
      "1.1574288723751869\n",
      "1.3227758541430708\n",
      "1.4881228359109546\n",
      "1.6534698176788385\n",
      "1.8188167994467224\n",
      "1.984163781214606\n",
      "2.14951076298249\n",
      "2.3148577447503738\n",
      "2.4802047265182576\n",
      "2.6455517082861415\n",
      "2.8108986900540254\n",
      "2.9762456718219092\n",
      "3.141592653589793\n"
     ]
    },
    {
     "data": {
      "application/vnd.plotly.v1+json": {
       "config": {
        "plotlyServerURL": "https://plot.ly"
       },
       "data": [
        {
         "marker": {
          "color": "rgb(204, 102, 0)",
          "opacity": 0.5
         },
         "mode": "markers",
         "type": "scatter3d",
         "x": [
          0
         ],
         "y": [
          0
         ],
         "z": [
          1
         ]
        },
        {
         "marker": {
          "color": "rgb(204, 102, 0)",
          "opacity": 0.5
         },
         "mode": "markers",
         "type": "scatter3d",
         "x": [
          0
         ],
         "y": [
          0.32469946920468346
         ],
         "z": [
          0.9458172417006346
         ]
        },
        {
         "marker": {
          "color": "rgb(204, 102, 0)",
          "opacity": 0.5
         },
         "mode": "markers",
         "type": "scatter3d",
         "x": [
          0
         ],
         "y": [
          0.6142127126896678
         ],
         "z": [
          0.7891405093963936
         ]
        },
        {
         "marker": {
          "color": "rgb(204, 102, 0)",
          "opacity": 0.5
         },
         "mode": "markers",
         "type": "scatter3d",
         "x": [
          0
         ],
         "y": [
          0.8371664782625285
         ],
         "z": [
          0.546948158122427
         ]
        },
        {
         "marker": {
          "color": "rgb(204, 102, 0)",
          "opacity": 0.5
         },
         "mode": "markers",
         "type": "scatter3d",
         "x": [
          0
         ],
         "y": [
          0.9694002659393304
         ],
         "z": [
          0.24548548714079924
         ]
        },
        {
         "marker": {
          "color": "rgb(204, 102, 0)",
          "opacity": 0.5
         },
         "mode": "markers",
         "type": "scatter3d",
         "x": [
          0
         ],
         "y": [
          0.9965844930066698
         ],
         "z": [
          -0.08257934547233227
         ]
        },
        {
         "marker": {
          "color": "rgb(204, 102, 0)",
          "opacity": 0.5
         },
         "mode": "markers",
         "type": "scatter3d",
         "x": [
          0
         ],
         "y": [
          0.9157733266550575
         ],
         "z": [
          -0.40169542465296926
         ]
        },
        {
         "marker": {
          "color": "rgb(204, 102, 0)",
          "opacity": 0.5
         },
         "mode": "markers",
         "type": "scatter3d",
         "x": [
          0
         ],
         "y": [
          0.7357239106731318
         ],
         "z": [
          -0.6772815716257409
         ]
        },
        {
         "marker": {
          "color": "rgb(204, 102, 0)",
          "opacity": 0.5
         },
         "mode": "markers",
         "type": "scatter3d",
         "x": [
          0
         ],
         "y": [
          0.4759473930370737
         ],
         "z": [
          -0.879473751206489
         ]
        },
        {
         "marker": {
          "color": "rgb(204, 102, 0)",
          "opacity": 0.5
         },
         "mode": "markers",
         "type": "scatter3d",
         "x": [
          0
         ],
         "y": [
          0.16459459028073403
         ],
         "z": [
          -0.9863613034027223
         ]
        },
        {
         "marker": {
          "color": "rgb(204, 102, 0)",
          "opacity": 0.5
         },
         "mode": "markers",
         "type": "scatter3d",
         "x": [
          0
         ],
         "y": [
          -0.16459459028073378
         ],
         "z": [
          -0.9863613034027224
         ]
        },
        {
         "marker": {
          "color": "rgb(204, 102, 0)",
          "opacity": 0.5
         },
         "mode": "markers",
         "type": "scatter3d",
         "x": [
          0
         ],
         "y": [
          -0.4759473930370735
         ],
         "z": [
          -0.8794737512064891
         ]
        },
        {
         "marker": {
          "color": "rgb(204, 102, 0)",
          "opacity": 0.5
         },
         "mode": "markers",
         "type": "scatter3d",
         "x": [
          0
         ],
         "y": [
          -0.7357239106731313
         ],
         "z": [
          -0.6772815716257414
         ]
        },
        {
         "marker": {
          "color": "rgb(204, 102, 0)",
          "opacity": 0.5
         },
         "mode": "markers",
         "type": "scatter3d",
         "x": [
          0
         ],
         "y": [
          -0.9157733266550573
         ],
         "z": [
          -0.40169542465296987
         ]
        },
        {
         "marker": {
          "color": "rgb(204, 102, 0)",
          "opacity": 0.5
         },
         "mode": "markers",
         "type": "scatter3d",
         "x": [
          0
         ],
         "y": [
          -0.9965844930066698
         ],
         "z": [
          -0.08257934547233274
         ]
        },
        {
         "marker": {
          "color": "rgb(204, 102, 0)",
          "opacity": 0.5
         },
         "mode": "markers",
         "type": "scatter3d",
         "x": [
          0
         ],
         "y": [
          -0.9694002659393305
         ],
         "z": [
          0.2454854871407988
         ]
        },
        {
         "marker": {
          "color": "rgb(204, 102, 0)",
          "opacity": 0.5
         },
         "mode": "markers",
         "type": "scatter3d",
         "x": [
          0
         ],
         "y": [
          -0.8371664782625288
         ],
         "z": [
          0.5469481581224266
         ]
        },
        {
         "marker": {
          "color": "rgb(204, 102, 0)",
          "opacity": 0.5
         },
         "mode": "markers",
         "type": "scatter3d",
         "x": [
          0
         ],
         "y": [
          -0.614212712689668
         ],
         "z": [
          0.7891405093963934
         ]
        },
        {
         "marker": {
          "color": "rgb(204, 102, 0)",
          "opacity": 0.5
         },
         "mode": "markers",
         "type": "scatter3d",
         "x": [
          0
         ],
         "y": [
          -0.32469946920468373
         ],
         "z": [
          0.9458172417006346
         ]
        },
        {
         "marker": {
          "color": "rgb(204, 102, 0)",
          "opacity": 0.5
         },
         "mode": "markers",
         "type": "scatter3d",
         "x": [
          0
         ],
         "y": [
          -2.4492935982947064e-16
         ],
         "z": [
          1
         ]
        },
        {
         "marker": {
          "color": "rgb(204, 102, 0)",
          "opacity": 0.5
         },
         "mode": "markers",
         "type": "scatter3d",
         "x": [
          0
         ],
         "y": [
          -2.4492935982947064e-16
         ],
         "z": [
          1
         ]
        },
        {
         "marker": {
          "color": "rgb(204, 102, 0)",
          "opacity": 0.5
         },
         "mode": "markers",
         "type": "scatter3d",
         "x": [
          0
         ],
         "y": [
          0.32469946920468323
         ],
         "z": [
          0.9458172417006347
         ]
        },
        {
         "marker": {
          "color": "rgb(204, 102, 0)",
          "opacity": 0.5
         },
         "mode": "markers",
         "type": "scatter3d",
         "x": [
          0
         ],
         "y": [
          0.6142127126896676
         ],
         "z": [
          0.7891405093963937
         ]
        },
        {
         "marker": {
          "color": "rgb(204, 102, 0)",
          "opacity": 0.5
         },
         "mode": "markers",
         "type": "scatter3d",
         "x": [
          0
         ],
         "y": [
          0.8371664782625284
         ],
         "z": [
          0.5469481581224273
         ]
        },
        {
         "marker": {
          "color": "rgb(204, 102, 0)",
          "opacity": 0.5
         },
         "mode": "markers",
         "type": "scatter3d",
         "x": [
          0
         ],
         "y": [
          0.9694002659393303
         ],
         "z": [
          0.24548548714079949
         ]
        },
        {
         "marker": {
          "color": "rgb(204, 102, 0)",
          "opacity": 0.5
         },
         "mode": "markers",
         "type": "scatter3d",
         "x": [
          0
         ],
         "y": [
          0.9965844930066698
         ],
         "z": [
          -0.08257934547233202
         ]
        },
        {
         "marker": {
          "color": "rgb(204, 102, 0)",
          "opacity": 0.5
         },
         "mode": "markers",
         "type": "scatter3d",
         "x": [
          0
         ],
         "y": [
          0.9157733266550576
         ],
         "z": [
          -0.40169542465296904
         ]
        },
        {
         "marker": {
          "color": "rgb(204, 102, 0)",
          "opacity": 0.5
         },
         "mode": "markers",
         "type": "scatter3d",
         "x": [
          0
         ],
         "y": [
          0.7357239106731319
         ],
         "z": [
          -0.6772815716257407
         ]
        },
        {
         "marker": {
          "color": "rgb(204, 102, 0)",
          "opacity": 0.5
         },
         "mode": "markers",
         "type": "scatter3d",
         "x": [
          0
         ],
         "y": [
          0.4759473930370739
         ],
         "z": [
          -0.8794737512064889
         ]
        },
        {
         "marker": {
          "color": "rgb(204, 102, 0)",
          "opacity": 0.5
         },
         "mode": "markers",
         "type": "scatter3d",
         "x": [
          0
         ],
         "y": [
          0.16459459028073428
         ],
         "z": [
          -0.9863613034027223
         ]
        },
        {
         "marker": {
          "color": "rgb(204, 102, 0)",
          "opacity": 0.5
         },
         "mode": "markers",
         "type": "scatter3d",
         "x": [
          0
         ],
         "y": [
          -0.16459459028073353
         ],
         "z": [
          -0.9863613034027224
         ]
        },
        {
         "marker": {
          "color": "rgb(204, 102, 0)",
          "opacity": 0.5
         },
         "mode": "markers",
         "type": "scatter3d",
         "x": [
          0
         ],
         "y": [
          -0.4759473930370733
         ],
         "z": [
          -0.8794737512064892
         ]
        },
        {
         "marker": {
          "color": "rgb(204, 102, 0)",
          "opacity": 0.5
         },
         "mode": "markers",
         "type": "scatter3d",
         "x": [
          0
         ],
         "y": [
          -0.7357239106731311
         ],
         "z": [
          -0.6772815716257417
         ]
        },
        {
         "marker": {
          "color": "rgb(204, 102, 0)",
          "opacity": 0.5
         },
         "mode": "markers",
         "type": "scatter3d",
         "x": [
          0
         ],
         "y": [
          -0.9157733266550572
         ],
         "z": [
          -0.4016954246529701
         ]
        },
        {
         "marker": {
          "color": "rgb(204, 102, 0)",
          "opacity": 0.5
         },
         "mode": "markers",
         "type": "scatter3d",
         "x": [
          0
         ],
         "y": [
          -0.9965844930066698
         ],
         "z": [
          -0.08257934547233299
         ]
        },
        {
         "marker": {
          "color": "rgb(204, 102, 0)",
          "opacity": 0.5
         },
         "mode": "markers",
         "type": "scatter3d",
         "x": [
          0
         ],
         "y": [
          -0.9694002659393306
         ],
         "z": [
          0.24548548714079854
         ]
        },
        {
         "marker": {
          "color": "rgb(204, 102, 0)",
          "opacity": 0.5
         },
         "mode": "markers",
         "type": "scatter3d",
         "x": [
          0
         ],
         "y": [
          -0.8371664782625289
         ],
         "z": [
          0.5469481581224264
         ]
        },
        {
         "marker": {
          "color": "rgb(204, 102, 0)",
          "opacity": 0.5
         },
         "mode": "markers",
         "type": "scatter3d",
         "x": [
          0
         ],
         "y": [
          -0.6142127126896683
         ],
         "z": [
          0.7891405093963932
         ]
        },
        {
         "marker": {
          "color": "rgb(204, 102, 0)",
          "opacity": 0.5
         },
         "mode": "markers",
         "type": "scatter3d",
         "x": [
          0
         ],
         "y": [
          -0.32469946920468395
         ],
         "z": [
          0.9458172417006345
         ]
        },
        {
         "marker": {
          "color": "rgb(204, 102, 0)",
          "opacity": 0.5
         },
         "mode": "markers",
         "type": "scatter3d",
         "x": [
          0
         ],
         "y": [
          -4.898587196589413e-16
         ],
         "z": [
          1
         ]
        },
        {
         "marker": {
          "color": "rgb(204, 102, 0)",
          "opacity": 0.5
         },
         "mode": "markers",
         "type": "scatter3d",
         "x": [
          -0.1645945902807339
         ],
         "y": [
          -4.831776852059821e-16
         ],
         "z": [
          0.9863613034027223
         ]
        },
        {
         "marker": {
          "color": "rgb(204, 102, 0)",
          "opacity": 0.5
         },
         "mode": "markers",
         "type": "scatter3d",
         "x": [
          -0.15567640137816982
         ],
         "y": [
          0.32469946920468296
         ],
         "z": [
          0.9329175273046058
         ]
        },
        {
         "marker": {
          "color": "rgb(204, 102, 0)",
          "opacity": 0.5
         },
         "mode": "markers",
         "type": "scatter3d",
         "x": [
          -0.12988825881802907
         ],
         "y": [
          0.6142127126896674
         ],
         "z": [
          0.7783776614161153
         ]
        },
        {
         "marker": {
          "color": "rgb(204, 102, 0)",
          "opacity": 0.5
         },
         "mode": "markers",
         "type": "scatter3d",
         "x": [
          -0.09002470799096296
         ],
         "y": [
          0.8371664782625282
         ],
         "z": [
          0.5394884981393558
         ]
        },
        {
         "marker": {
          "color": "rgb(204, 102, 0)",
          "opacity": 0.5
         },
         "mode": "markers",
         "type": "scatter3d",
         "x": [
          -0.04040558317580626
         ],
         "y": [
          0.9694002659393302
         ],
         "z": [
          0.24213738506265142
         ]
        },
        {
         "marker": {
          "color": "rgb(204, 102, 0)",
          "opacity": 0.5
         },
         "mode": "markers",
         "type": "scatter3d",
         "x": [
          0.013592113533669667
         ],
         "y": [
          0.9965844930066697
         ],
         "z": [
          -0.08145307083423287
         ]
        },
        {
         "marker": {
          "color": "rgb(204, 102, 0)",
          "opacity": 0.5
         },
         "mode": "markers",
         "type": "scatter3d",
         "x": [
          0.06611689383840084
         ],
         "y": [
          0.9157733266550576
         ],
         "z": [
          -0.39621682263161234
         ]
        },
        {
         "marker": {
          "color": "rgb(204, 102, 0)",
          "opacity": 0.5
         },
         "mode": "markers",
         "type": "scatter3d",
         "x": [
          0.11147688278643032
         ],
         "y": [
          0.735723910673132
         ],
         "z": [
          -0.6680443337594096
         ]
        },
        {
         "marker": {
          "color": "rgb(204, 102, 0)",
          "opacity": 0.5
         },
         "mode": "markers",
         "type": "scatter3d",
         "x": [
          0.14475662174249213
         ],
         "y": [
          0.47594739303707406
         ],
         "z": [
          -0.8674788755485138
         ]
        },
        {
         "marker": {
          "color": "rgb(204, 102, 0)",
          "opacity": 0.5
         },
         "mode": "markers",
         "type": "scatter3d",
         "x": [
          0.16234973460234173
         ],
         "y": [
          0.16459459028073448
         ],
         "z": [
          -0.9729086208503172
         ]
        },
        {
         "marker": {
          "color": "rgb(204, 102, 0)",
          "opacity": 0.5
         },
         "mode": "markers",
         "type": "scatter3d",
         "x": [
          0.16234973460234176
         ],
         "y": [
          -0.16459459028073328
         ],
         "z": [
          -0.9729086208503175
         ]
        },
        {
         "marker": {
          "color": "rgb(204, 102, 0)",
          "opacity": 0.5
         },
         "mode": "markers",
         "type": "scatter3d",
         "x": [
          0.14475662174249218
         ],
         "y": [
          -0.475947393037073
         ],
         "z": [
          -0.8674788755485143
         ]
        },
        {
         "marker": {
          "color": "rgb(204, 102, 0)",
          "opacity": 0.5
         },
         "mode": "markers",
         "type": "scatter3d",
         "x": [
          0.11147688278643046
         ],
         "y": [
          -0.7357239106731308
         ],
         "z": [
          -0.6680443337594109
         ]
        },
        {
         "marker": {
          "color": "rgb(204, 102, 0)",
          "opacity": 0.5
         },
         "mode": "markers",
         "type": "scatter3d",
         "x": [
          0.06611689383840103
         ],
         "y": [
          -0.915773326655057
         ],
         "z": [
          -0.39621682263161384
         ]
        },
        {
         "marker": {
          "color": "rgb(204, 102, 0)",
          "opacity": 0.5
         },
         "mode": "markers",
         "type": "scatter3d",
         "x": [
          0.013592113533669825
         ],
         "y": [
          -0.9965844930066697
         ],
         "z": [
          -0.08145307083423431
         ]
        },
        {
         "marker": {
          "color": "rgb(204, 102, 0)",
          "opacity": 0.5
         },
         "mode": "markers",
         "type": "scatter3d",
         "x": [
          -0.04040558317580611
         ],
         "y": [
          -0.9694002659393305
         ],
         "z": [
          0.24213738506265006
         ]
        },
        {
         "marker": {
          "color": "rgb(204, 102, 0)",
          "opacity": 0.5
         },
         "mode": "markers",
         "type": "scatter3d",
         "x": [
          -0.09002470799096284
         ],
         "y": [
          -0.8371664782625289
         ],
         "z": [
          0.5394884981393545
         ]
        },
        {
         "marker": {
          "color": "rgb(204, 102, 0)",
          "opacity": 0.5
         },
         "mode": "markers",
         "type": "scatter3d",
         "x": [
          -0.12988825881802898
         ],
         "y": [
          -0.6142127126896683
         ],
         "z": [
          0.7783776614161144
         ]
        },
        {
         "marker": {
          "color": "rgb(204, 102, 0)",
          "opacity": 0.5
         },
         "mode": "markers",
         "type": "scatter3d",
         "x": [
          -0.15567640137816982
         ],
         "y": [
          -0.3246994692046841
         ],
         "z": [
          0.9329175273046055
         ]
        },
        {
         "marker": {
          "color": "rgb(204, 102, 0)",
          "opacity": 0.5
         },
         "mode": "markers",
         "type": "scatter3d",
         "x": [
          -0.1645945902807339
         ],
         "y": [
          -7.281070450354526e-16
         ],
         "z": [
          0.9863613034027223
         ]
        },
        {
         "marker": {
          "color": "rgb(204, 102, 0)",
          "opacity": 0.5
         },
         "mode": "markers",
         "type": "scatter3d",
         "x": [
          -0.47594739303707345
         ],
         "y": [
          -6.886561969982315e-16
         ],
         "z": [
          0.879473751206489
         ]
        },
        {
         "marker": {
          "color": "rgb(204, 102, 0)",
          "opacity": 0.5
         },
         "mode": "markers",
         "type": "scatter3d",
         "x": [
          -0.4501592504769327
         ],
         "y": [
          0.32469946920468273
         ],
         "z": [
          0.8318214375142318
         ]
        },
        {
         "marker": {
          "color": "rgb(204, 102, 0)",
          "opacity": 0.5
         },
         "mode": "markers",
         "type": "scatter3d",
         "x": [
          -0.3755893681871618
         ],
         "y": [
          0.6142127126896672
         ],
         "z": [
          0.6940283640278463
         ]
        },
        {
         "marker": {
          "color": "rgb(204, 102, 0)",
          "opacity": 0.5
         },
         "mode": "markers",
         "type": "scatter3d",
         "x": [
          -0.26031854998479836
         ],
         "y": [
          0.837166478262528
         ],
         "z": [
          0.48102654833941133
         ]
        },
        {
         "marker": {
          "color": "rgb(204, 102, 0)",
          "opacity": 0.5
         },
         "mode": "markers",
         "type": "scatter3d",
         "x": [
          -0.11683817763309963
         ],
         "y": [
          0.9694002659393299
         ],
         "z": [
          0.21589804224247164
         ]
        },
        {
         "marker": {
          "color": "rgb(204, 102, 0)",
          "opacity": 0.5
         },
         "mode": "markers",
         "type": "scatter3d",
         "x": [
          0.039303424196264175
         ],
         "y": [
          0.9965844930066697
         ],
         "z": [
          -0.07262636673472798
         ]
        },
        {
         "marker": {
          "color": "rgb(204, 102, 0)",
          "opacity": 0.5
         },
         "mode": "markers",
         "type": "scatter3d",
         "x": [
          0.19118589015850068
         ],
         "y": [
          0.9157733266550575
         ],
         "z": [
          -0.3532805819620298
         ]
        },
        {
         "marker": {
          "color": "rgb(204, 102, 0)",
          "opacity": 0.5
         },
         "mode": "markers",
         "type": "scatter3d",
         "x": [
          0.32235039836732315
         ],
         "y": [
          0.7357239106731321
         ],
         "z": [
          -0.5956513644207162
         ]
        },
        {
         "marker": {
          "color": "rgb(204, 102, 0)",
          "opacity": 0.5
         },
         "mode": "markers",
         "type": "scatter3d",
         "x": [
          0.41858323913126405
         ],
         "y": [
          0.4759473930370742
         ],
         "z": [
          -0.7734740790612129
         ]
        },
        {
         "marker": {
          "color": "rgb(204, 102, 0)",
          "opacity": 0.5
         },
         "mode": "markers",
         "type": "scatter3d",
         "x": [
          0.4694560909471755
         ],
         "y": [
          0.16459459028073467
         ],
         "z": [
          -0.8674788755485139
         ]
        },
        {
         "marker": {
          "color": "rgb(204, 102, 0)",
          "opacity": 0.5
         },
         "mode": "markers",
         "type": "scatter3d",
         "x": [
          0.46945609094717566
         ],
         "y": [
          -0.1645945902807331
         ],
         "z": [
          -0.8674788755485142
         ]
        },
        {
         "marker": {
          "color": "rgb(204, 102, 0)",
          "opacity": 0.5
         },
         "mode": "markers",
         "type": "scatter3d",
         "x": [
          0.41858323913126433
         ],
         "y": [
          -0.4759473930370728
         ],
         "z": [
          -0.7734740790612137
         ]
        },
        {
         "marker": {
          "color": "rgb(204, 102, 0)",
          "opacity": 0.5
         },
         "mode": "markers",
         "type": "scatter3d",
         "x": [
          0.32235039836732376
         ],
         "y": [
          -0.7357239106731307
         ],
         "z": [
          -0.5956513644207176
         ]
        },
        {
         "marker": {
          "color": "rgb(204, 102, 0)",
          "opacity": 0.5
         },
         "mode": "markers",
         "type": "scatter3d",
         "x": [
          0.19118589015850138
         ],
         "y": [
          -0.9157733266550568
         ],
         "z": [
          -0.35328058196203155
         ]
        },
        {
         "marker": {
          "color": "rgb(204, 102, 0)",
          "opacity": 0.5
         },
         "mode": "markers",
         "type": "scatter3d",
         "x": [
          0.03930342419626485
         ],
         "y": [
          -0.9965844930066695
         ],
         "z": [
          -0.07262636673472973
         ]
        },
        {
         "marker": {
          "color": "rgb(204, 102, 0)",
          "opacity": 0.5
         },
         "mode": "markers",
         "type": "scatter3d",
         "x": [
          -0.11683817763309898
         ],
         "y": [
          -0.9694002659393305
         ],
         "z": [
          0.21589804224246997
         ]
        },
        {
         "marker": {
          "color": "rgb(204, 102, 0)",
          "opacity": 0.5
         },
         "mode": "markers",
         "type": "scatter3d",
         "x": [
          -0.2603185499847978
         ],
         "y": [
          -0.8371664782625289
         ],
         "z": [
          0.48102654833940983
         ]
        },
        {
         "marker": {
          "color": "rgb(204, 102, 0)",
          "opacity": 0.5
         },
         "mode": "markers",
         "type": "scatter3d",
         "x": [
          -0.3755893681871615
         ],
         "y": [
          -0.6142127126896685
         ],
         "z": [
          0.6940283640278452
         ]
        },
        {
         "marker": {
          "color": "rgb(204, 102, 0)",
          "opacity": 0.5
         },
         "mode": "markers",
         "type": "scatter3d",
         "x": [
          -0.4501592504769326
         ],
         "y": [
          -0.32469946920468434
         ],
         "z": [
          0.8318214375142313
         ]
        },
        {
         "marker": {
          "color": "rgb(204, 102, 0)",
          "opacity": 0.5
         },
         "mode": "markers",
         "type": "scatter3d",
         "x": [
          -0.47594739303707345
         ],
         "y": [
          -9.335855568277022e-16
         ],
         "z": [
          0.879473751206489
         ]
        },
        {
         "marker": {
          "color": "rgb(204, 102, 0)",
          "opacity": 0.5
         },
         "mode": "markers",
         "type": "scatter3d",
         "x": [
          -0.8371664782625284
         ],
         "y": [
          -8.21063991735458e-16
         ],
         "z": [
          0.5469481581224267
         ]
        },
        {
         "marker": {
          "color": "rgb(204, 102, 0)",
          "opacity": 0.5
         },
         "mode": "markers",
         "type": "scatter3d",
         "x": [
          -0.7918064893144992
         ],
         "y": [
          0.3246994692046825
         ],
         "z": [
          0.5173129982685964
         ]
        },
        {
         "marker": {
          "color": "rgb(204, 102, 0)",
          "opacity": 0.5
         },
         "mode": "markers",
         "type": "scatter3d",
         "x": [
          -0.6606419811056768
         ],
         "y": [
          0.6142127126896669
         ],
         "z": [
          0.4316189481141514
         ]
        },
        {
         "marker": {
          "color": "rgb(204, 102, 0)",
          "opacity": 0.5
         },
         "mode": "markers",
         "type": "scatter3d",
         "x": [
          -0.4578866633275292
         ],
         "y": [
          0.8371664782625278
         ],
         "z": [
          0.2991522876735158
         ]
        },
        {
         "marker": {
          "color": "rgb(204, 102, 0)",
          "opacity": 0.5
         },
         "mode": "markers",
         "type": "scatter3d",
         "x": [
          -0.20551222073422457
         ],
         "y": [
          0.9694002659393297
         ],
         "z": [
          0.13426783503744735
         ]
        },
        {
         "marker": {
          "color": "rgb(204, 102, 0)",
          "opacity": 0.5
         },
         "mode": "markers",
         "type": "scatter3d",
         "x": [
          0.0691326598262966
         ],
         "y": [
          0.9965844930066695
         ],
         "z": [
          -0.045166620905047125
         ]
        },
        {
         "marker": {
          "color": "rgb(204, 102, 0)",
          "opacity": 0.5
         },
         "mode": "markers",
         "type": "scatter3d",
         "x": [
          0.33628594399089673
         ],
         "y": [
          0.9157733266550574
         ],
         "z": [
          -0.21970657264014706
         ]
        },
        {
         "marker": {
          "color": "rgb(204, 102, 0)",
          "opacity": 0.5
         },
         "mode": "markers",
         "type": "scatter3d",
         "x": [
          0.5669974281100315
         ],
         "y": [
          0.735723910673132
         ],
         "z": [
          -0.37043790813096106
         ]
        },
        {
         "marker": {
          "color": "rgb(204, 102, 0)",
          "opacity": 0.5
         },
         "mode": "markers",
         "type": "scatter3d",
         "x": [
          0.7362659430218715
         ],
         "y": [
          0.4759473930370742
         ],
         "z": [
          -0.48102654833941033
         ]
        },
        {
         "marker": {
          "color": "rgb(204, 102, 0)",
          "opacity": 0.5
         },
         "mode": "markers",
         "type": "scatter3d",
         "x": [
          0.8257486186640944
         ],
         "y": [
          0.16459459028073475
         ],
         "z": [
          -0.5394884981393551
         ]
        },
        {
         "marker": {
          "color": "rgb(204, 102, 0)",
          "opacity": 0.5
         },
         "mode": "markers",
         "type": "scatter3d",
         "x": [
          0.8257486186640948
         ],
         "y": [
          -0.1645945902807329
         ],
         "z": [
          -0.5394884981393554
         ]
        },
        {
         "marker": {
          "color": "rgb(204, 102, 0)",
          "opacity": 0.5
         },
         "mode": "markers",
         "type": "scatter3d",
         "x": [
          0.736265943021872
         ],
         "y": [
          -0.47594739303707256
         ],
         "z": [
          -0.48102654833941094
         ]
        },
        {
         "marker": {
          "color": "rgb(204, 102, 0)",
          "opacity": 0.5
         },
         "mode": "markers",
         "type": "scatter3d",
         "x": [
          0.566997428110033
         ],
         "y": [
          -0.7357239106731304
         ],
         "z": [
          -0.3704379081309622
         ]
        },
        {
         "marker": {
          "color": "rgb(204, 102, 0)",
          "opacity": 0.5
         },
         "mode": "markers",
         "type": "scatter3d",
         "x": [
          0.33628594399089823
         ],
         "y": [
          -0.9157733266550565
         ],
         "z": [
          -0.21970657264014856
         ]
        },
        {
         "marker": {
          "color": "rgb(204, 102, 0)",
          "opacity": 0.5
         },
         "mode": "markers",
         "type": "scatter3d",
         "x": [
          0.06913265982629814
         ],
         "y": [
          -0.9965844930066693
         ],
         "z": [
          -0.045166620905048645
         ]
        },
        {
         "marker": {
          "color": "rgb(204, 102, 0)",
          "opacity": 0.5
         },
         "mode": "markers",
         "type": "scatter3d",
         "x": [
          -0.2055122207342231
         ],
         "y": [
          -0.9694002659393303
         ],
         "z": [
          0.1342678350374459
         ]
        },
        {
         "marker": {
          "color": "rgb(204, 102, 0)",
          "opacity": 0.5
         },
         "mode": "markers",
         "type": "scatter3d",
         "x": [
          -0.45788666332752787
         ],
         "y": [
          -0.8371664782625289
         ],
         "z": [
          0.2991522876735145
         ]
        },
        {
         "marker": {
          "color": "rgb(204, 102, 0)",
          "opacity": 0.5
         },
         "mode": "markers",
         "type": "scatter3d",
         "x": [
          -0.6606419811056761
         ],
         "y": [
          -0.6142127126896685
         ],
         "z": [
          0.4316189481141505
         ]
        },
        {
         "marker": {
          "color": "rgb(204, 102, 0)",
          "opacity": 0.5
         },
         "mode": "markers",
         "type": "scatter3d",
         "x": [
          -0.7918064893144987
         ],
         "y": [
          -0.32469946920468434
         ],
         "z": [
          0.517312998268596
         ]
        },
        {
         "marker": {
          "color": "rgb(204, 102, 0)",
          "opacity": 0.5
         },
         "mode": "markers",
         "type": "scatter3d",
         "x": [
          -0.8371664782625284
         ],
         "y": [
          -1.0659933515649286e-15
         ],
         "z": [
          0.5469481581224267
         ]
        },
        {
         "marker": {
          "color": "rgb(204, 102, 0)",
          "opacity": 0.5
         },
         "mode": "markers",
         "type": "scatter3d",
         "x": [
          -0.9965844930066695
         ],
         "y": [
          -8.412185364671165e-16
         ],
         "z": [
          -0.08257934547233246
         ]
        },
        {
         "marker": {
          "color": "rgb(204, 102, 0)",
          "opacity": 0.5
         },
         "mode": "markers",
         "type": "scatter3d",
         "x": [
          -0.9425867962971939
         ],
         "y": [
          0.3246994692046825
         ],
         "z": [
          -0.0781049687560852
         ]
        },
        {
         "marker": {
          "color": "rgb(204, 102, 0)",
          "opacity": 0.5
         },
         "mode": "markers",
         "type": "scatter3d",
         "x": [
          -0.7864451944678303
         ],
         "y": [
          0.6142127126896668
         ],
         "z": [
          -0.06516670675165706
         ]
        },
        {
         "marker": {
          "color": "rgb(204, 102, 0)",
          "opacity": 0.5
         },
         "mode": "markers",
         "type": "scatter3d",
         "x": [
          -0.5450800528633714
         ],
         "y": [
          0.8371664782625277
         ],
         "z": [
          -0.045166620905047604
         ]
        },
        {
         "marker": {
          "color": "rgb(204, 102, 0)",
          "opacity": 0.5
         },
         "mode": "markers",
         "type": "scatter3d",
         "x": [
          -0.24464702974270938
         ],
         "y": [
          0.9694002659393296
         ],
         "z": [
          -0.02027203085104363
         ]
        },
        {
         "marker": {
          "color": "rgb(204, 102, 0)",
          "opacity": 0.5
         },
         "mode": "markers",
         "type": "scatter3d",
         "x": [
          0.08229729514036621
         ],
         "y": [
          0.9965844930066694
         ],
         "z": [
          0.006819348298639089
         ]
        },
        {
         "marker": {
          "color": "rgb(204, 102, 0)",
          "opacity": 0.5
         },
         "mode": "markers",
         "type": "scatter3d",
         "x": [
          0.4003234311208777
         ],
         "y": [
          0.9157733266550573
         ],
         "z": [
          0.033171745247073094
         ]
        },
        {
         "marker": {
          "color": "rgb(204, 102, 0)",
          "opacity": 0.5
         },
         "mode": "markers",
         "type": "scatter3d",
         "x": [
          0.6749683116813989
         ],
         "y": [
          0.7357239106731319
         ],
         "z": [
          0.05592946888532656
         ]
        },
        {
         "marker": {
          "color": "rgb(204, 102, 0)",
          "opacity": 0.5
         },
         "mode": "markers",
         "type": "scatter3d",
         "x": [
          0.8764699024587925
         ],
         "y": [
          0.4759473930370741
         ],
         "z": [
          0.07262636673472897
         ]
        },
        {
         "marker": {
          "color": "rgb(204, 102, 0)",
          "opacity": 0.5
         },
         "mode": "markers",
         "type": "scatter3d",
         "x": [
          0.982992379473
         ],
         "y": [
          0.16459459028073478
         ],
         "z": [
          0.08145307083423362
         ]
        },
        {
         "marker": {
          "color": "rgb(204, 102, 0)",
          "opacity": 0.5
         },
         "mode": "markers",
         "type": "scatter3d",
         "x": [
          0.9829923794730003
         ],
         "y": [
          -0.16459459028073287
         ],
         "z": [
          0.08145307083423355
         ]
        },
        {
         "marker": {
          "color": "rgb(204, 102, 0)",
          "opacity": 0.5
         },
         "mode": "markers",
         "type": "scatter3d",
         "x": [
          0.8764699024587935
         ],
         "y": [
          -0.4759473930370725
         ],
         "z": [
          0.07262636673472873
         ]
        },
        {
         "marker": {
          "color": "rgb(204, 102, 0)",
          "opacity": 0.5
         },
         "mode": "markers",
         "type": "scatter3d",
         "x": [
          0.6749683116814008
         ],
         "y": [
          -0.7357239106731303
         ],
         "z": [
          0.055929468885326225
         ]
        },
        {
         "marker": {
          "color": "rgb(204, 102, 0)",
          "opacity": 0.5
         },
         "mode": "markers",
         "type": "scatter3d",
         "x": [
          0.40032343112087987
         ],
         "y": [
          -0.9157733266550564
         ],
         "z": [
          0.033171745247072684
         ]
        },
        {
         "marker": {
          "color": "rgb(204, 102, 0)",
          "opacity": 0.5
         },
         "mode": "markers",
         "type": "scatter3d",
         "x": [
          0.0822972951403684
         ],
         "y": [
          -0.9965844930066692
         ],
         "z": [
          0.006819348298638624
         ]
        },
        {
         "marker": {
          "color": "rgb(204, 102, 0)",
          "opacity": 0.5
         },
         "mode": "markers",
         "type": "scatter3d",
         "x": [
          -0.24464702974270727
         ],
         "y": [
          -0.9694002659393302
         ],
         "z": [
          -0.02027203085104409
         ]
        },
        {
         "marker": {
          "color": "rgb(204, 102, 0)",
          "opacity": 0.5
         },
         "mode": "markers",
         "type": "scatter3d",
         "x": [
          -0.5450800528633694
         ],
         "y": [
          -0.8371664782625288
         ],
         "z": [
          -0.045166620905048
         ]
        },
        {
         "marker": {
          "color": "rgb(204, 102, 0)",
          "opacity": 0.5
         },
         "mode": "markers",
         "type": "scatter3d",
         "x": [
          -0.786445194467829
         ],
         "y": [
          -0.6142127126896684
         ],
         "z": [
          -0.06516670675165734
         ]
        },
        {
         "marker": {
          "color": "rgb(204, 102, 0)",
          "opacity": 0.5
         },
         "mode": "markers",
         "type": "scatter3d",
         "x": [
          -0.9425867962971932
         ],
         "y": [
          -0.32469946920468434
         ],
         "z": [
          -0.07810496875608537
         ]
        },
        {
         "marker": {
          "color": "rgb(204, 102, 0)",
          "opacity": 0.5
         },
         "mode": "markers",
         "type": "scatter3d",
         "x": [
          -0.9965844930066695
         ],
         "y": [
          -1.0861478962965869e-15
         ],
         "z": [
          -0.08257934547233246
         ]
        },
        {
         "marker": {
          "color": "rgb(204, 102, 0)",
          "opacity": 0.5
         },
         "mode": "markers",
         "type": "scatter3d",
         "x": [
          -0.6142127126896673
         ],
         "y": [
          -7.356279542217445e-16
         ],
         "z": [
          -0.7891405093963934
         ]
        },
        {
         "marker": {
          "color": "rgb(204, 102, 0)",
          "opacity": 0.5
         },
         "mode": "markers",
         "type": "scatter3d",
         "x": [
          -0.5809329737336058
         ],
         "y": [
          0.32469946920468246
         ],
         "z": [
          -0.7463826999115306
         ]
        },
        {
         "marker": {
          "color": "rgb(204, 102, 0)",
          "opacity": 0.5
         },
         "mode": "markers",
         "type": "scatter3d",
         "x": [
          -0.48470013296966513
         ],
         "y": [
          0.6142127126896667
         ],
         "z": [
          -0.6227427435703996
         ]
        },
        {
         "marker": {
          "color": "rgb(204, 102, 0)",
          "opacity": 0.5
         },
         "mode": "markers",
         "type": "scatter3d",
         "x": [
          -0.33594251190099356
         ],
         "y": [
          0.8371664782625273
         ],
         "z": [
          -0.4316189481141514
         ]
        },
        {
         "marker": {
          "color": "rgb(204, 102, 0)",
          "opacity": 0.5
         },
         "mode": "markers",
         "type": "scatter3d",
         "x": [
          -0.15078030698269537
         ],
         "y": [
          0.9694002659393293
         ],
         "z": [
          -0.19372254237171227
         ]
        },
        {
         "marker": {
          "color": "rgb(204, 102, 0)",
          "opacity": 0.5
         },
         "mode": "markers",
         "type": "scatter3d",
         "x": [
          0.05072128379469778
         ],
         "y": [
          0.9965844930066691
         ],
         "z": [
          0.0651667067516569
         ]
        },
        {
         "marker": {
          "color": "rgb(204, 102, 0)",
          "opacity": 0.5
         },
         "mode": "markers",
         "type": "scatter3d",
         "x": [
          0.2467264364511276
         ],
         "y": [
          0.9157733266550571
         ],
         "z": [
          0.3169941320328446
         ]
        },
        {
         "marker": {
          "color": "rgb(204, 102, 0)",
          "opacity": 0.5
         },
         "mode": "markers",
         "type": "scatter3d",
         "x": [
          0.41599495136296716
         ],
         "y": [
          0.7357239106731316
         ],
         "z": [
          0.5344703244375272
         ]
        },
        {
         "marker": {
          "color": "rgb(204, 102, 0)",
          "opacity": 0.5
         },
         "mode": "markers",
         "type": "scatter3d",
         "x": [
          0.540183958467895
         ],
         "y": [
          0.4759473930370739
         ],
         "z": [
          0.6940283640278458
         ]
        },
        {
         "marker": {
          "color": "rgb(204, 102, 0)",
          "opacity": 0.5
         },
         "mode": "markers",
         "type": "scatter3d",
         "x": [
          0.6058356518551021
         ],
         "y": [
          0.16459459028073462
         ],
         "z": [
          0.7783776614161151
         ]
        },
        {
         "marker": {
          "color": "rgb(204, 102, 0)",
          "opacity": 0.5
         },
         "mode": "markers",
         "type": "scatter3d",
         "x": [
          0.6058356518551024
         ],
         "y": [
          -0.16459459028073292
         ],
         "z": [
          0.7783776614161152
         ]
        },
        {
         "marker": {
          "color": "rgb(204, 102, 0)",
          "opacity": 0.5
         },
         "mode": "markers",
         "type": "scatter3d",
         "x": [
          0.5401839584678957
         ],
         "y": [
          -0.4759473930370724
         ],
         "z": [
          0.6940283640278462
         ]
        },
        {
         "marker": {
          "color": "rgb(204, 102, 0)",
          "opacity": 0.5
         },
         "mode": "markers",
         "type": "scatter3d",
         "x": [
          0.4159949513629686
         ],
         "y": [
          -0.7357239106731301
         ],
         "z": [
          0.5344703244375281
         ]
        },
        {
         "marker": {
          "color": "rgb(204, 102, 0)",
          "opacity": 0.5
         },
         "mode": "markers",
         "type": "scatter3d",
         "x": [
          0.24672643645112935
         ],
         "y": [
          -0.9157733266550562
         ],
         "z": [
          0.31699413203284577
         ]
        },
        {
         "marker": {
          "color": "rgb(204, 102, 0)",
          "opacity": 0.5
         },
         "mode": "markers",
         "type": "scatter3d",
         "x": [
          0.0507212837946996
         ],
         "y": [
          -0.9965844930066688
         ],
         "z": [
          0.06516670675165794
         ]
        },
        {
         "marker": {
          "color": "rgb(204, 102, 0)",
          "opacity": 0.5
         },
         "mode": "markers",
         "type": "scatter3d",
         "x": [
          -0.1507803069826936
         ],
         "y": [
          -0.9694002659393298
         ],
         "z": [
          -0.19372254237171124
         ]
        },
        {
         "marker": {
          "color": "rgb(204, 102, 0)",
          "opacity": 0.5
         },
         "mode": "markers",
         "type": "scatter3d",
         "x": [
          -0.335942511900992
         ],
         "y": [
          -0.8371664782625284
         ],
         "z": [
          -0.43161894811415047
         ]
        },
        {
         "marker": {
          "color": "rgb(204, 102, 0)",
          "opacity": 0.5
         },
         "mode": "markers",
         "type": "scatter3d",
         "x": [
          -0.48470013296966413
         ],
         "y": [
          -0.614212712689668
         ],
         "z": [
          -0.6227427435703989
         ]
        },
        {
         "marker": {
          "color": "rgb(204, 102, 0)",
          "opacity": 0.5
         },
         "mode": "markers",
         "type": "scatter3d",
         "x": [
          -0.5809329737336053
         ],
         "y": [
          -0.3246994692046842
         ],
         "z": [
          -0.7463826999115304
         ]
        },
        {
         "marker": {
          "color": "rgb(204, 102, 0)",
          "opacity": 0.5
         },
         "mode": "markers",
         "type": "scatter3d",
         "x": [
          -0.6142127126896673
         ],
         "y": [
          -9.805573140512149e-16
         ],
         "z": [
          -0.7891405093963934
         ]
        },
        {
         "marker": {
          "color": "rgb(204, 102, 0)",
          "opacity": 0.5
         },
         "mode": "markers",
         "type": "scatter3d",
         "x": [
          0.3246994692046837
         ],
         "y": [
          -5.363140168537859e-16
         ],
         "z": [
          -0.9458172417006341
         ]
        },
        {
         "marker": {
          "color": "rgb(204, 102, 0)",
          "opacity": 0.5
         },
         "mode": "markers",
         "type": "scatter3d",
         "x": [
          0.307106356344834
         ],
         "y": [
          0.3246994692046827
         ],
         "z": [
          -0.8945702546981964
         ]
        },
        {
         "marker": {
          "color": "rgb(204, 102, 0)",
          "opacity": 0.5
         },
         "mode": "markers",
         "type": "scatter3d",
         "x": [
          0.25623350452892246
         ],
         "y": [
          0.6142127126896668
         ],
         "z": [
          -0.7463826999115306
         ]
        },
        {
         "marker": {
          "color": "rgb(204, 102, 0)",
          "opacity": 0.5
         },
         "mode": "markers",
         "type": "scatter3d",
         "x": [
          0.1775937766248312
         ],
         "y": [
          0.8371664782625274
         ],
         "z": [
          -0.5173129982685966
         ]
        },
        {
         "marker": {
          "color": "rgb(204, 102, 0)",
          "opacity": 0.5
         },
         "mode": "markers",
         "type": "scatter3d",
         "x": [
          0.07970900737207037
         ],
         "y": [
          0.9694002659393294
         ],
         "z": [
          -0.23218440632504755
         ]
        },
        {
         "marker": {
          "color": "rgb(204, 102, 0)",
          "opacity": 0.5
         },
         "mode": "markers",
         "type": "scatter3d",
         "x": [
          -0.026813469642136867
         ],
         "y": [
          0.996584493006669
         ],
         "z": [
          0.07810496875608487
         ]
        },
        {
         "marker": {
          "color": "rgb(204, 102, 0)",
          "opacity": 0.5
         },
         "mode": "markers",
         "type": "scatter3d",
         "x": [
          -0.13043029116676952
         ],
         "y": [
          0.915773326655057
         ],
         "z": [
          0.3799304585490363
         ]
        },
        {
         "marker": {
          "color": "rgb(204, 102, 0)",
          "opacity": 0.5
         },
         "mode": "markers",
         "type": "scatter3d",
         "x": [
          -0.21991296680899242
         ],
         "y": [
          0.7357239106731315
         ],
         "z": [
          0.6405845879297289
         ]
        },
        {
         "marker": {
          "color": "rgb(204, 102, 0)",
          "opacity": 0.5
         },
         "mode": "markers",
         "type": "scatter3d",
         "x": [
          -0.28556466019619936
         ],
         "y": [
          0.4759473930370737
         ],
         "z": [
          0.8318214375142315
         ]
        },
        {
         "marker": {
          "color": "rgb(204, 102, 0)",
          "opacity": 0.5
         },
         "mode": "markers",
         "type": "scatter3d",
         "x": [
          -0.3202709916589042
         ],
         "y": [
          0.16459459028073442
         ],
         "z": [
          0.9329175273046059
         ]
        },
        {
         "marker": {
          "color": "rgb(204, 102, 0)",
          "opacity": 0.5
         },
         "mode": "markers",
         "type": "scatter3d",
         "x": [
          -0.32027099165890416
         ],
         "y": [
          -0.16459459028073312
         ],
         "z": [
          0.9329175273046062
         ]
        },
        {
         "marker": {
          "color": "rgb(204, 102, 0)",
          "opacity": 0.5
         },
         "mode": "markers",
         "type": "scatter3d",
         "x": [
          -0.2855646601961992
         ],
         "y": [
          -0.4759473930370726
         ],
         "z": [
          0.8318214375142323
         ]
        },
        {
         "marker": {
          "color": "rgb(204, 102, 0)",
          "opacity": 0.5
         },
         "mode": "markers",
         "type": "scatter3d",
         "x": [
          -0.21991296680899228
         ],
         "y": [
          -0.7357239106731303
         ],
         "z": [
          0.6405845879297303
         ]
        },
        {
         "marker": {
          "color": "rgb(204, 102, 0)",
          "opacity": 0.5
         },
         "mode": "markers",
         "type": "scatter3d",
         "x": [
          -0.13043029116676932
         ],
         "y": [
          -0.9157733266550563
         ],
         "z": [
          0.37993045854903806
         ]
        },
        {
         "marker": {
          "color": "rgb(204, 102, 0)",
          "opacity": 0.5
         },
         "mode": "markers",
         "type": "scatter3d",
         "x": [
          -0.02681346964213657
         ],
         "y": [
          -0.996584493006669
         ],
         "z": [
          0.07810496875608659
         ]
        },
        {
         "marker": {
          "color": "rgb(204, 102, 0)",
          "opacity": 0.5
         },
         "mode": "markers",
         "type": "scatter3d",
         "x": [
          0.07970900737207068
         ],
         "y": [
          -0.9694002659393297
         ],
         "z": [
          -0.23218440632504583
         ]
        },
        {
         "marker": {
          "color": "rgb(204, 102, 0)",
          "opacity": 0.5
         },
         "mode": "markers",
         "type": "scatter3d",
         "x": [
          0.17759377662483145
         ],
         "y": [
          -0.8371664782625283
         ],
         "z": [
          -0.517312998268595
         ]
        },
        {
         "marker": {
          "color": "rgb(204, 102, 0)",
          "opacity": 0.5
         },
         "mode": "markers",
         "type": "scatter3d",
         "x": [
          0.25623350452892274
         ],
         "y": [
          -0.6142127126896679
         ],
         "z": [
          -0.7463826999115295
         ]
        },
        {
         "marker": {
          "color": "rgb(204, 102, 0)",
          "opacity": 0.5
         },
         "mode": "markers",
         "type": "scatter3d",
         "x": [
          0.30710635634483413
         ],
         "y": [
          -0.32469946920468395
         ],
         "z": [
          -0.894570254698196
         ]
        },
        {
         "marker": {
          "color": "rgb(204, 102, 0)",
          "opacity": 0.5
         },
         "mode": "markers",
         "type": "scatter3d",
         "x": [
          0.3246994692046837
         ],
         "y": [
          -7.812433766832562e-16
         ],
         "z": [
          -0.9458172417006341
         ]
        },
        {
         "marker": {
          "color": "rgb(204, 102, 0)",
          "opacity": 0.5
         },
         "mode": "markers",
         "type": "scatter3d",
         "x": [
          0.9965844930066692
         ],
         "y": [
          -3.138218899541001e-16
         ],
         "z": [
          -0.08257934547233167
         ]
        },
        {
         "marker": {
          "color": "rgb(204, 102, 0)",
          "opacity": 0.5
         },
         "mode": "markers",
         "type": "scatter3d",
         "x": [
          0.9425867962971933
         ],
         "y": [
          0.3246994692046828
         ],
         "z": [
          -0.07810496875608468
         ]
        },
        {
         "marker": {
          "color": "rgb(204, 102, 0)",
          "opacity": 0.5
         },
         "mode": "markers",
         "type": "scatter3d",
         "x": [
          0.7864451944678297
         ],
         "y": [
          0.6142127126896668
         ],
         "z": [
          -0.06516670675165684
         ]
        },
        {
         "marker": {
          "color": "rgb(204, 102, 0)",
          "opacity": 0.5
         },
         "mode": "markers",
         "type": "scatter3d",
         "x": [
          0.5450800528633705
         ],
         "y": [
          0.8371664782625273
         ],
         "z": [
          -0.04516662090504772
         ]
        },
        {
         "marker": {
          "color": "rgb(204, 102, 0)",
          "opacity": 0.5
         },
         "mode": "markers",
         "type": "scatter3d",
         "x": [
          0.24464702974270852
         ],
         "y": [
          0.969400265939329
         ],
         "z": [
          -0.02027203085104407
         ]
        },
        {
         "marker": {
          "color": "rgb(204, 102, 0)",
          "opacity": 0.5
         },
         "mode": "markers",
         "type": "scatter3d",
         "x": [
          -0.08229729514036709
         ],
         "y": [
          0.9965844930066686
         ],
         "z": [
          0.006819348298638381
         ]
        },
        {
         "marker": {
          "color": "rgb(204, 102, 0)",
          "opacity": 0.5
         },
         "mode": "markers",
         "type": "scatter3d",
         "x": [
          -0.4003234311208784
         ],
         "y": [
          0.9157733266550565
         ],
         "z": [
          0.0331717452470722
         ]
        },
        {
         "marker": {
          "color": "rgb(204, 102, 0)",
          "opacity": 0.5
         },
         "mode": "markers",
         "type": "scatter3d",
         "x": [
          -0.6749683116813996
         ],
         "y": [
          0.7357239106731311
         ],
         "z": [
          0.055929468885325566
         ]
        },
        {
         "marker": {
          "color": "rgb(204, 102, 0)",
          "opacity": 0.5
         },
         "mode": "markers",
         "type": "scatter3d",
         "x": [
          -0.8764699024587931
         ],
         "y": [
          0.4759473930370734
         ],
         "z": [
          0.072626366734728
         ]
        },
        {
         "marker": {
          "color": "rgb(204, 102, 0)",
          "opacity": 0.5
         },
         "mode": "markers",
         "type": "scatter3d",
         "x": [
          -0.9829923794730004
         ],
         "y": [
          0.16459459028073414
         ],
         "z": [
          0.08145307083423278
         ]
        },
        {
         "marker": {
          "color": "rgb(204, 102, 0)",
          "opacity": 0.5
         },
         "mode": "markers",
         "type": "scatter3d",
         "x": [
          -0.9829923794730006
         ],
         "y": [
          -0.16459459028073328
         ],
         "z": [
          0.08145307083423292
         ]
        },
        {
         "marker": {
          "color": "rgb(204, 102, 0)",
          "opacity": 0.5
         },
         "mode": "markers",
         "type": "scatter3d",
         "x": [
          -0.8764699024587934
         ],
         "y": [
          -0.4759473930370727
         ],
         "z": [
          0.0726263667347284
         ]
        },
        {
         "marker": {
          "color": "rgb(204, 102, 0)",
          "opacity": 0.5
         },
         "mode": "markers",
         "type": "scatter3d",
         "x": [
          -0.6749683116814006
         ],
         "y": [
          -0.7357239106731301
         ],
         "z": [
          0.055929468885326225
         ]
        },
        {
         "marker": {
          "color": "rgb(204, 102, 0)",
          "opacity": 0.5
         },
         "mode": "markers",
         "type": "scatter3d",
         "x": [
          -0.4003234311208796
         ],
         "y": [
          -0.9157733266550561
         ],
         "z": [
          0.03317174524707301
         ]
        },
        {
         "marker": {
          "color": "rgb(204, 102, 0)",
          "opacity": 0.5
         },
         "mode": "markers",
         "type": "scatter3d",
         "x": [
          -0.08229729514036811
         ],
         "y": [
          -0.9965844930066686
         ],
         "z": [
          0.006819348298639254
         ]
        },
        {
         "marker": {
          "color": "rgb(204, 102, 0)",
          "opacity": 0.5
         },
         "mode": "markers",
         "type": "scatter3d",
         "x": [
          0.24464702974270752
         ],
         "y": [
          -0.9694002659393294
         ],
         "z": [
          -0.020272030851043222
         ]
        },
        {
         "marker": {
          "color": "rgb(204, 102, 0)",
          "opacity": 0.5
         },
         "mode": "markers",
         "type": "scatter3d",
         "x": [
          0.5450800528633696
         ],
         "y": [
          -0.837166478262528
         ],
         "z": [
          -0.04516662090504698
         ]
        },
        {
         "marker": {
          "color": "rgb(204, 102, 0)",
          "opacity": 0.5
         },
         "mode": "markers",
         "type": "scatter3d",
         "x": [
          0.786445194467829
         ],
         "y": [
          -0.6142127126896675
         ],
         "z": [
          -0.06516670675165628
         ]
        },
        {
         "marker": {
          "color": "rgb(204, 102, 0)",
          "opacity": 0.5
         },
         "mode": "markers",
         "type": "scatter3d",
         "x": [
          0.9425867962971931
         ],
         "y": [
          -0.3246994692046836
         ],
         "z": [
          -0.0781049687560844
         ]
        },
        {
         "marker": {
          "color": "rgb(204, 102, 0)",
          "opacity": 0.5
         },
         "mode": "markers",
         "type": "scatter3d",
         "x": [
          0.9965844930066692
         ],
         "y": [
          -5.587512497835705e-16
         ],
         "z": [
          -0.08257934547233167
         ]
        },
        {
         "marker": {
          "color": "rgb(204, 102, 0)",
          "opacity": 0.5
         },
         "mode": "markers",
         "type": "scatter3d",
         "x": [
          0.3246994692046825
         ],
         "y": [
          -1.3716532274364994e-16
         ],
         "z": [
          0.9458172417006342
         ]
        },
        {
         "marker": {
          "color": "rgb(204, 102, 0)",
          "opacity": 0.5
         },
         "mode": "markers",
         "type": "scatter3d",
         "x": [
          0.3071063563448331
         ],
         "y": [
          0.3246994692046829
         ],
         "z": [
          0.8945702546981963
         ]
        },
        {
         "marker": {
          "color": "rgb(204, 102, 0)",
          "opacity": 0.5
         },
         "mode": "markers",
         "type": "scatter3d",
         "x": [
          0.2562335045289219
         ],
         "y": [
          0.6142127126896669
         ],
         "z": [
          0.7463826999115303
         ]
        },
        {
         "marker": {
          "color": "rgb(204, 102, 0)",
          "opacity": 0.5
         },
         "mode": "markers",
         "type": "scatter3d",
         "x": [
          0.17759377662483106
         ],
         "y": [
          0.8371664782625273
         ],
         "z": [
          0.517312998268596
         ]
        },
        {
         "marker": {
          "color": "rgb(204, 102, 0)",
          "opacity": 0.5
         },
         "mode": "markers",
         "type": "scatter3d",
         "x": [
          0.07970900737207066
         ],
         "y": [
          0.969400265939329
         ],
         "z": [
          0.23218440632504697
         ]
        },
        {
         "marker": {
          "color": "rgb(204, 102, 0)",
          "opacity": 0.5
         },
         "mode": "markers",
         "type": "scatter3d",
         "x": [
          -0.026813469642136184
         ],
         "y": [
          0.9965844930066685
         ],
         "z": [
          -0.0781049687560855
         ]
        },
        {
         "marker": {
          "color": "rgb(204, 102, 0)",
          "opacity": 0.5
         },
         "mode": "markers",
         "type": "scatter3d",
         "x": [
          -0.13043029116676852
         ],
         "y": [
          0.9157733266550563
         ],
         "z": [
          -0.3799304585490369
         ]
        },
        {
         "marker": {
          "color": "rgb(204, 102, 0)",
          "opacity": 0.5
         },
         "mode": "markers",
         "type": "scatter3d",
         "x": [
          -0.2199129668089912
         ],
         "y": [
          0.7357239106731309
         ],
         "z": [
          -0.6405845879297294
         ]
        },
        {
         "marker": {
          "color": "rgb(204, 102, 0)",
          "opacity": 0.5
         },
         "mode": "markers",
         "type": "scatter3d",
         "x": [
          -0.2855646601961981
         ],
         "y": [
          0.4759473930370732
         ],
         "z": [
          -0.831821437514232
         ]
        },
        {
         "marker": {
          "color": "rgb(204, 102, 0)",
          "opacity": 0.5
         },
         "mode": "markers",
         "type": "scatter3d",
         "x": [
          -0.32027099165890294
         ],
         "y": [
          0.16459459028073395
         ],
         "z": [
          -0.9329175273046061
         ]
        },
        {
         "marker": {
          "color": "rgb(204, 102, 0)",
          "opacity": 0.5
         },
         "mode": "markers",
         "type": "scatter3d",
         "x": [
          -0.3202709916589031
         ],
         "y": [
          -0.16459459028073342
         ],
         "z": [
          -0.9329175273046062
         ]
        },
        {
         "marker": {
          "color": "rgb(204, 102, 0)",
          "opacity": 0.5
         },
         "mode": "markers",
         "type": "scatter3d",
         "x": [
          -0.28556466019619847
         ],
         "y": [
          -0.4759473930370728
         ],
         "z": [
          -0.8318214375142321
         ]
        },
        {
         "marker": {
          "color": "rgb(204, 102, 0)",
          "opacity": 0.5
         },
         "mode": "markers",
         "type": "scatter3d",
         "x": [
          -0.21991296680899192
         ],
         "y": [
          -0.7357239106731301
         ],
         "z": [
          -0.6405845879297299
         ]
        },
        {
         "marker": {
          "color": "rgb(204, 102, 0)",
          "opacity": 0.5
         },
         "mode": "markers",
         "type": "scatter3d",
         "x": [
          -0.13043029116676938
         ],
         "y": [
          -0.9157733266550561
         ],
         "z": [
          -0.3799304585490375
         ]
        },
        {
         "marker": {
          "color": "rgb(204, 102, 0)",
          "opacity": 0.5
         },
         "mode": "markers",
         "type": "scatter3d",
         "x": [
          -0.02681346964213706
         ],
         "y": [
          -0.9965844930066685
         ],
         "z": [
          -0.078104968756086
         ]
        },
        {
         "marker": {
          "color": "rgb(204, 102, 0)",
          "opacity": 0.5
         },
         "mode": "markers",
         "type": "scatter3d",
         "x": [
          0.07970900737206982
         ],
         "y": [
          -0.9694002659393292
         ],
         "z": [
          0.23218440632504647
         ]
        },
        {
         "marker": {
          "color": "rgb(204, 102, 0)",
          "opacity": 0.5
         },
         "mode": "markers",
         "type": "scatter3d",
         "x": [
          0.1775937766248303
         ],
         "y": [
          -0.8371664782625278
         ],
         "z": [
          0.5173129982685956
         ]
        },
        {
         "marker": {
          "color": "rgb(204, 102, 0)",
          "opacity": 0.5
         },
         "mode": "markers",
         "type": "scatter3d",
         "x": [
          0.2562335045289214
         ],
         "y": [
          -0.6142127126896674
         ],
         "z": [
          0.7463826999115301
         ]
        },
        {
         "marker": {
          "color": "rgb(204, 102, 0)",
          "opacity": 0.5
         },
         "mode": "markers",
         "type": "scatter3d",
         "x": [
          0.30710635634483285
         ],
         "y": [
          -0.3246994692046834
         ],
         "z": [
          0.8945702546981963
         ]
        },
        {
         "marker": {
          "color": "rgb(204, 102, 0)",
          "opacity": 0.5
         },
         "mode": "markers",
         "type": "scatter3d",
         "x": [
          0.3246994692046825
         ],
         "y": [
          -3.820946825731202e-16
         ],
         "z": [
          0.9458172417006342
         ]
        },
        {
         "marker": {
          "color": "rgb(204, 102, 0)",
          "opacity": 0.5
         },
         "mode": "markers",
         "type": "scatter3d",
         "x": [
          -0.9157733266550571
         ],
         "y": [
          -3.155312879534672e-17
         ],
         "z": [
          0.4016954246529684
         ]
        },
        {
         "marker": {
          "color": "rgb(204, 102, 0)",
          "opacity": 0.5
         },
         "mode": "markers",
         "type": "scatter3d",
         "x": [
          -0.8661542018399003
         ],
         "y": [
          0.32469946920468296
         ],
         "z": [
          0.37993045854903584
         ]
        },
        {
         "marker": {
          "color": "rgb(204, 102, 0)",
          "opacity": 0.5
         },
         "mode": "markers",
         "type": "scatter3d",
         "x": [
          -0.7226738294882017
         ],
         "y": [
          0.614212712689667
         ],
         "z": [
          0.3169941320328443
         ]
        },
        {
         "marker": {
          "color": "rgb(204, 102, 0)",
          "opacity": 0.5
         },
         "mode": "markers",
         "type": "scatter3d",
         "x": [
          -0.5008805342716309
         ],
         "y": [
          0.8371664782625274
         ],
         "z": [
          0.21970657264014742
         ]
        },
        {
         "marker": {
          "color": "rgb(204, 102, 0)",
          "opacity": 0.5
         },
         "mode": "markers",
         "type": "scatter3d",
         "x": [
          -0.22480906120446667
         ],
         "y": [
          0.969400265939329
         ],
         "z": [
          0.09861039700316433
         ]
        },
        {
         "marker": {
          "color": "rgb(204, 102, 0)",
          "opacity": 0.5
         },
         "mode": "markers",
         "type": "scatter3d",
         "x": [
          0.0756239619161953
         ],
         "y": [
          0.9965844930066685
         ],
         "z": [
          -0.03317174524707255
         ]
        },
        {
         "marker": {
          "color": "rgb(204, 102, 0)",
          "opacity": 0.5
         },
         "mode": "markers",
         "type": "scatter3d",
         "x": [
          0.36786195533656585
         ],
         "y": [
          0.9157733266550563
         ],
         "z": [
          -0.1613592141871289
         ]
        },
        {
         "marker": {
          "color": "rgb(204, 102, 0)",
          "opacity": 0.5
         },
         "mode": "markers",
         "type": "scatter3d",
         "x": [
          0.6202363979298706
         ],
         "y": [
          0.7357239106731308
         ],
         "z": [
          -0.27206090852383186
         ]
        },
        {
         "marker": {
          "color": "rgb(204, 102, 0)",
          "opacity": 0.5
         },
         "mode": "markers",
         "type": "scatter3d",
         "x": [
          0.8053986028481689
         ],
         "y": [
          0.47594739303707306
         ],
         "z": [
          -0.35328058196202977
         ]
        },
        {
         "marker": {
          "color": "rgb(204, 102, 0)",
          "opacity": 0.5
         },
         "mode": "markers",
         "type": "scatter3d",
         "x": [
          0.9032833721009297
         ],
         "y": [
          0.16459459028073384
         ],
         "z": [
          -0.3962168226316121
         ]
        },
        {
         "marker": {
          "color": "rgb(204, 102, 0)",
          "opacity": 0.5
         },
         "mode": "markers",
         "type": "scatter3d",
         "x": [
          0.9032833721009297
         ],
         "y": [
          -0.16459459028073353
         ],
         "z": [
          -0.3962168226316123
         ]
        },
        {
         "marker": {
          "color": "rgb(204, 102, 0)",
          "opacity": 0.5
         },
         "mode": "markers",
         "type": "scatter3d",
         "x": [
          0.805398602848169
         ],
         "y": [
          -0.4759473930370729
         ],
         "z": [
          -0.35328058196203005
         ]
        },
        {
         "marker": {
          "color": "rgb(204, 102, 0)",
          "opacity": 0.5
         },
         "mode": "markers",
         "type": "scatter3d",
         "x": [
          0.6202363979298708
         ],
         "y": [
          -0.7357239106731303
         ],
         "z": [
          -0.2720609085238324
         ]
        },
        {
         "marker": {
          "color": "rgb(204, 102, 0)",
          "opacity": 0.5
         },
         "mode": "markers",
         "type": "scatter3d",
         "x": [
          0.3678619553365663
         ],
         "y": [
          -0.9157733266550561
         ],
         "z": [
          -0.16135921418712962
         ]
        },
        {
         "marker": {
          "color": "rgb(204, 102, 0)",
          "opacity": 0.5
         },
         "mode": "markers",
         "type": "scatter3d",
         "x": [
          0.07562396191619557
         ],
         "y": [
          -0.9965844930066685
         ],
         "z": [
          -0.03317174524707327
         ]
        },
        {
         "marker": {
          "color": "rgb(204, 102, 0)",
          "opacity": 0.5
         },
         "mode": "markers",
         "type": "scatter3d",
         "x": [
          -0.22480906120446642
         ],
         "y": [
          -0.9694002659393292
         ],
         "z": [
          0.09861039700316365
         ]
        },
        {
         "marker": {
          "color": "rgb(204, 102, 0)",
          "opacity": 0.5
         },
         "mode": "markers",
         "type": "scatter3d",
         "x": [
          -0.5008805342716308
         ],
         "y": [
          -0.8371664782625277
         ],
         "z": [
          0.21970657264014679
         ]
        },
        {
         "marker": {
          "color": "rgb(204, 102, 0)",
          "opacity": 0.5
         },
         "mode": "markers",
         "type": "scatter3d",
         "x": [
          -0.7226738294882015
         ],
         "y": [
          -0.6142127126896673
         ],
         "z": [
          0.3169941320328439
         ]
        },
        {
         "marker": {
          "color": "rgb(204, 102, 0)",
          "opacity": 0.5
         },
         "mode": "markers",
         "type": "scatter3d",
         "x": [
          -0.8661542018399003
         ],
         "y": [
          -0.32469946920468334
         ],
         "z": [
          0.3799304585490356
         ]
        },
        {
         "marker": {
          "color": "rgb(204, 102, 0)",
          "opacity": 0.5
         },
         "mode": "markers",
         "type": "scatter3d",
         "x": [
          -0.9157733266550571
         ],
         "y": [
          -2.76482488624817e-16
         ],
         "z": [
          0.4016954246529684
         ]
        },
        {
         "marker": {
          "color": "rgb(204, 102, 0)",
          "opacity": 0.5
         },
         "mode": "markers",
         "type": "scatter3d",
         "x": [
          -0.32469946920468246
         ],
         "y": [
          2.283174294519901e-17
         ],
         "z": [
          -0.9458172417006342
         ]
        },
        {
         "marker": {
          "color": "rgb(204, 102, 0)",
          "opacity": 0.5
         },
         "mode": "markers",
         "type": "scatter3d",
         "x": [
          -0.30710635634483296
         ],
         "y": [
          0.324699469204683
         ],
         "z": [
          -0.8945702546981963
         ]
        },
        {
         "marker": {
          "color": "rgb(204, 102, 0)",
          "opacity": 0.5
         },
         "mode": "markers",
         "type": "scatter3d",
         "x": [
          -0.25623350452892185
         ],
         "y": [
          0.614212712689667
         ],
         "z": [
          -0.7463826999115303
         ]
        },
        {
         "marker": {
          "color": "rgb(204, 102, 0)",
          "opacity": 0.5
         },
         "mode": "markers",
         "type": "scatter3d",
         "x": [
          -0.17759377662483095
         ],
         "y": [
          0.8371664782625274
         ],
         "z": [
          -0.5173129982685961
         ]
        },
        {
         "marker": {
          "color": "rgb(204, 102, 0)",
          "opacity": 0.5
         },
         "mode": "markers",
         "type": "scatter3d",
         "x": [
          -0.07970900737207061
         ],
         "y": [
          0.969400265939329
         ],
         "z": [
          -0.23218440632504717
         ]
        },
        {
         "marker": {
          "color": "rgb(204, 102, 0)",
          "opacity": 0.5
         },
         "mode": "markers",
         "type": "scatter3d",
         "x": [
          0.026813469642136184
         ],
         "y": [
          0.9965844930066685
         ],
         "z": [
          0.07810496875608516
         ]
        },
        {
         "marker": {
          "color": "rgb(204, 102, 0)",
          "opacity": 0.5
         },
         "mode": "markers",
         "type": "scatter3d",
         "x": [
          0.13043029116676844
         ],
         "y": [
          0.9157733266550563
         ],
         "z": [
          0.3799304585490364
         ]
        },
        {
         "marker": {
          "color": "rgb(204, 102, 0)",
          "opacity": 0.5
         },
         "mode": "markers",
         "type": "scatter3d",
         "x": [
          0.21991296680899106
         ],
         "y": [
          0.7357239106731308
         ],
         "z": [
          0.6405845879297288
         ]
        },
        {
         "marker": {
          "color": "rgb(204, 102, 0)",
          "opacity": 0.5
         },
         "mode": "markers",
         "type": "scatter3d",
         "x": [
          0.2855646601961978
         ],
         "y": [
          0.47594739303707306
         ],
         "z": [
          0.8318214375142312
         ]
        },
        {
         "marker": {
          "color": "rgb(204, 102, 0)",
          "opacity": 0.5
         },
         "mode": "markers",
         "type": "scatter3d",
         "x": [
          0.3202709916589026
         ],
         "y": [
          0.16459459028073378
         ],
         "z": [
          0.9329175273046052
         ]
        },
        {
         "marker": {
          "color": "rgb(204, 102, 0)",
          "opacity": 0.5
         },
         "mode": "markers",
         "type": "scatter3d",
         "x": [
          0.32027099165890277
         ],
         "y": [
          -0.1645945902807336
         ],
         "z": [
          0.9329175273046053
         ]
        },
        {
         "marker": {
          "color": "rgb(204, 102, 0)",
          "opacity": 0.5
         },
         "mode": "markers",
         "type": "scatter3d",
         "x": [
          0.2855646601961981
         ],
         "y": [
          -0.4759473930370729
         ],
         "z": [
          0.8318214375142313
         ]
        },
        {
         "marker": {
          "color": "rgb(204, 102, 0)",
          "opacity": 0.5
         },
         "mode": "markers",
         "type": "scatter3d",
         "x": [
          0.2199129668089915
         ],
         "y": [
          -0.7357239106731303
         ],
         "z": [
          0.6405845879297292
         ]
        },
        {
         "marker": {
          "color": "rgb(204, 102, 0)",
          "opacity": 0.5
         },
         "mode": "markers",
         "type": "scatter3d",
         "x": [
          0.13043029116676902
         ],
         "y": [
          -0.9157733266550561
         ],
         "z": [
          0.3799304585490368
         ]
        },
        {
         "marker": {
          "color": "rgb(204, 102, 0)",
          "opacity": 0.5
         },
         "mode": "markers",
         "type": "scatter3d",
         "x": [
          0.02681346964213674
         ],
         "y": [
          -0.9965844930066685
         ],
         "z": [
          0.07810496875608541
         ]
        },
        {
         "marker": {
          "color": "rgb(204, 102, 0)",
          "opacity": 0.5
         },
         "mode": "markers",
         "type": "scatter3d",
         "x": [
          -0.07970900737207007
         ],
         "y": [
          -0.9694002659393292
         ],
         "z": [
          -0.2321844063250469
         ]
        },
        {
         "marker": {
          "color": "rgb(204, 102, 0)",
          "opacity": 0.5
         },
         "mode": "markers",
         "type": "scatter3d",
         "x": [
          -0.17759377662483047
         ],
         "y": [
          -0.8371664782625277
         ],
         "z": [
          -0.5173129982685959
         ]
        },
        {
         "marker": {
          "color": "rgb(204, 102, 0)",
          "opacity": 0.5
         },
         "mode": "markers",
         "type": "scatter3d",
         "x": [
          -0.2562335045289215
         ],
         "y": [
          -0.6142127126896673
         ],
         "z": [
          -0.7463826999115303
         ]
        },
        {
         "marker": {
          "color": "rgb(204, 102, 0)",
          "opacity": 0.5
         },
         "mode": "markers",
         "type": "scatter3d",
         "x": [
          -0.30710635634483285
         ],
         "y": [
          -0.3246994692046833
         ],
         "z": [
          -0.8945702546981963
         ]
        },
        {
         "marker": {
          "color": "rgb(204, 102, 0)",
          "opacity": 0.5
         },
         "mode": "markers",
         "type": "scatter3d",
         "x": [
          -0.32469946920468246
         ],
         "y": [
          -2.2209761688427127e-16
         ],
         "z": [
          -0.9458172417006342
         ]
        },
        {
         "marker": {
          "color": "rgb(204, 102, 0)",
          "opacity": 0.5
         },
         "mode": "markers",
         "type": "scatter3d",
         "x": [
          0.9965844930066692
         ],
         "y": [
          5.4521741673645914e-17
         ],
         "z": [
          -0.08257934547233148
         ]
        },
        {
         "marker": {
          "color": "rgb(204, 102, 0)",
          "opacity": 0.5
         },
         "mode": "markers",
         "type": "scatter3d",
         "x": [
          0.9425867962971932
         ],
         "y": [
          0.32469946920468307
         ],
         "z": [
          -0.0781049687560844
         ]
        },
        {
         "marker": {
          "color": "rgb(204, 102, 0)",
          "opacity": 0.5
         },
         "mode": "markers",
         "type": "scatter3d",
         "x": [
          0.7864451944678296
         ],
         "y": [
          0.614212712689667
         ],
         "z": [
          -0.06516670675165655
         ]
        },
        {
         "marker": {
          "color": "rgb(204, 102, 0)",
          "opacity": 0.5
         },
         "mode": "markers",
         "type": "scatter3d",
         "x": [
          0.5450800528633705
         ],
         "y": [
          0.8371664782625274
         ],
         "z": [
          -0.04516662090504744
         ]
        },
        {
         "marker": {
          "color": "rgb(204, 102, 0)",
          "opacity": 0.5
         },
         "mode": "markers",
         "type": "scatter3d",
         "x": [
          0.24464702974270874
         ],
         "y": [
          0.969400265939329
         ],
         "z": [
          -0.020272030851043836
         ]
        },
        {
         "marker": {
          "color": "rgb(204, 102, 0)",
          "opacity": 0.5
         },
         "mode": "markers",
         "type": "scatter3d",
         "x": [
          -0.08229729514036663
         ],
         "y": [
          0.9965844930066685
         ],
         "z": [
          0.006819348298638539
         ]
        },
        {
         "marker": {
          "color": "rgb(204, 102, 0)",
          "opacity": 0.5
         },
         "mode": "markers",
         "type": "scatter3d",
         "x": [
          -0.4003234311208777
         ],
         "y": [
          0.9157733266550563
         ],
         "z": [
          0.03317174524707226
         ]
        },
        {
         "marker": {
          "color": "rgb(204, 102, 0)",
          "opacity": 0.5
         },
         "mode": "markers",
         "type": "scatter3d",
         "x": [
          -0.6749683116813986
         ],
         "y": [
          0.7357239106731308
         ],
         "z": [
          0.0559294688853255
         ]
        },
        {
         "marker": {
          "color": "rgb(204, 102, 0)",
          "opacity": 0.5
         },
         "mode": "markers",
         "type": "scatter3d",
         "x": [
          -0.8764699024587919
         ],
         "y": [
          0.475947393037073
         ],
         "z": [
          0.07262636673472783
         ]
        },
        {
         "marker": {
          "color": "rgb(204, 102, 0)",
          "opacity": 0.5
         },
         "mode": "markers",
         "type": "scatter3d",
         "x": [
          -0.9829923794729989
         ],
         "y": [
          0.16459459028073375
         ],
         "z": [
          0.0814530708342325
         ]
        },
        {
         "marker": {
          "color": "rgb(204, 102, 0)",
          "opacity": 0.5
         },
         "mode": "markers",
         "type": "scatter3d",
         "x": [
          -0.982992379472999
         ],
         "y": [
          -0.16459459028073362
         ],
         "z": [
          0.08145307083423257
         ]
        },
        {
         "marker": {
          "color": "rgb(204, 102, 0)",
          "opacity": 0.5
         },
         "mode": "markers",
         "type": "scatter3d",
         "x": [
          -0.876469902458792
         ],
         "y": [
          -0.47594739303707295
         ],
         "z": [
          0.07262636673472801
         ]
        },
        {
         "marker": {
          "color": "rgb(204, 102, 0)",
          "opacity": 0.5
         },
         "mode": "markers",
         "type": "scatter3d",
         "x": [
          -0.6749683116813991
         ],
         "y": [
          -0.7357239106731303
         ],
         "z": [
          0.055929468885325816
         ]
        },
        {
         "marker": {
          "color": "rgb(204, 102, 0)",
          "opacity": 0.5
         },
         "mode": "markers",
         "type": "scatter3d",
         "x": [
          -0.4003234311208782
         ],
         "y": [
          -0.9157733266550561
         ],
         "z": [
          0.03317174524707263
         ]
        },
        {
         "marker": {
          "color": "rgb(204, 102, 0)",
          "opacity": 0.5
         },
         "mode": "markers",
         "type": "scatter3d",
         "x": [
          -0.08229729514036696
         ],
         "y": [
          -0.9965844930066685
         ],
         "z": [
          0.0068193482986389315
         ]
        },
        {
         "marker": {
          "color": "rgb(204, 102, 0)",
          "opacity": 0.5
         },
         "mode": "markers",
         "type": "scatter3d",
         "x": [
          0.2446470297427084
         ],
         "y": [
          -0.9694002659393292
         ],
         "z": [
          -0.020272030851043454
         ]
        },
        {
         "marker": {
          "color": "rgb(204, 102, 0)",
          "opacity": 0.5
         },
         "mode": "markers",
         "type": "scatter3d",
         "x": [
          0.5450800528633702
         ],
         "y": [
          -0.8371664782625277
         ],
         "z": [
          -0.04516662090504711
         ]
        },
        {
         "marker": {
          "color": "rgb(204, 102, 0)",
          "opacity": 0.5
         },
         "mode": "markers",
         "type": "scatter3d",
         "x": [
          0.7864451944678293
         ],
         "y": [
          -0.6142127126896673
         ],
         "z": [
          -0.0651667067516563
         ]
        },
        {
         "marker": {
          "color": "rgb(204, 102, 0)",
          "opacity": 0.5
         },
         "mode": "markers",
         "type": "scatter3d",
         "x": [
          0.9425867962971932
         ],
         "y": [
          -0.32469946920468323
         ],
         "z": [
          -0.07810496875608429
         ]
        },
        {
         "marker": {
          "color": "rgb(204, 102, 0)",
          "opacity": 0.5
         },
         "mode": "markers",
         "type": "scatter3d",
         "x": [
          0.9965844930066692
         ],
         "y": [
          -1.9040761815582438e-16
         ],
         "z": [
          -0.08257934547233148
         ]
        },
        {
         "marker": {
          "color": "rgb(204, 102, 0)",
          "opacity": 0.5
         },
         "mode": "markers",
         "type": "scatter3d",
         "x": [
          -0.32469946920468373
         ],
         "y": [
          7.648586903226422e-17
         ],
         "z": [
          0.9458172417006337
         ]
        },
        {
         "marker": {
          "color": "rgb(204, 102, 0)",
          "opacity": 0.5
         },
         "mode": "markers",
         "type": "scatter3d",
         "x": [
          -0.3071063563448341
         ],
         "y": [
          0.3246994692046831
         ],
         "z": [
          0.8945702546981958
         ]
        },
        {
         "marker": {
          "color": "rgb(204, 102, 0)",
          "opacity": 0.5
         },
         "mode": "markers",
         "type": "scatter3d",
         "x": [
          -0.2562335045289227
         ],
         "y": [
          0.6142127126896672
         ],
         "z": [
          0.7463826999115302
         ]
        },
        {
         "marker": {
          "color": "rgb(204, 102, 0)",
          "opacity": 0.5
         },
         "mode": "markers",
         "type": "scatter3d",
         "x": [
          -0.17759377662483142
         ],
         "y": [
          0.8371664782625275
         ],
         "z": [
          0.5173129982685962
         ]
        },
        {
         "marker": {
          "color": "rgb(204, 102, 0)",
          "opacity": 0.5
         },
         "mode": "markers",
         "type": "scatter3d",
         "x": [
          -0.0797090073720707
         ],
         "y": [
          0.9694002659393292
         ],
         "z": [
          0.23218440632504755
         ]
        },
        {
         "marker": {
          "color": "rgb(204, 102, 0)",
          "opacity": 0.5
         },
         "mode": "markers",
         "type": "scatter3d",
         "x": [
          0.02681346964213644
         ],
         "y": [
          0.9965844930066686
         ],
         "z": [
          -0.07810496875608443
         ]
        },
        {
         "marker": {
          "color": "rgb(204, 102, 0)",
          "opacity": 0.5
         },
         "mode": "markers",
         "type": "scatter3d",
         "x": [
          0.13043029116676905
         ],
         "y": [
          0.9157733266550564
         ],
         "z": [
          -0.3799304585490353
         ]
        },
        {
         "marker": {
          "color": "rgb(204, 102, 0)",
          "opacity": 0.5
         },
         "mode": "markers",
         "type": "scatter3d",
         "x": [
          0.21991296680899183
         ],
         "y": [
          0.7357239106731309
         ],
         "z": [
          -0.6405845879297275
         ]
        },
        {
         "marker": {
          "color": "rgb(204, 102, 0)",
          "opacity": 0.5
         },
         "mode": "markers",
         "type": "scatter3d",
         "x": [
          0.2855646601961987
         ],
         "y": [
          0.47594739303707306
         ],
         "z": [
          -0.8318214375142297
         ]
        },
        {
         "marker": {
          "color": "rgb(204, 102, 0)",
          "opacity": 0.5
         },
         "mode": "markers",
         "type": "scatter3d",
         "x": [
          0.32027099165890355
         ],
         "y": [
          0.16459459028073375
         ],
         "z": [
          -0.9329175273046036
         ]
        },
        {
         "marker": {
          "color": "rgb(204, 102, 0)",
          "opacity": 0.5
         },
         "mode": "markers",
         "type": "scatter3d",
         "x": [
          0.3202709916589036
         ],
         "y": [
          -0.16459459028073367
         ],
         "z": [
          -0.9329175273046038
         ]
        },
        {
         "marker": {
          "color": "rgb(204, 102, 0)",
          "opacity": 0.5
         },
         "mode": "markers",
         "type": "scatter3d",
         "x": [
          0.28556466019619864
         ],
         "y": [
          -0.475947393037073
         ],
         "z": [
          -0.8318214375142298
         ]
        },
        {
         "marker": {
          "color": "rgb(204, 102, 0)",
          "opacity": 0.5
         },
         "mode": "markers",
         "type": "scatter3d",
         "x": [
          0.21991296680899178
         ],
         "y": [
          -0.7357239106731304
         ],
         "z": [
          -0.6405845879297279
         ]
        },
        {
         "marker": {
          "color": "rgb(204, 102, 0)",
          "opacity": 0.5
         },
         "mode": "markers",
         "type": "scatter3d",
         "x": [
          0.1304302911667689
         ],
         "y": [
          -0.9157733266550562
         ],
         "z": [
          -0.3799304585490359
         ]
        },
        {
         "marker": {
          "color": "rgb(204, 102, 0)",
          "opacity": 0.5
         },
         "mode": "markers",
         "type": "scatter3d",
         "x": [
          0.026813469642136264
         ],
         "y": [
          -0.9965844930066686
         ],
         "z": [
          -0.07810496875608482
         ]
        },
        {
         "marker": {
          "color": "rgb(204, 102, 0)",
          "opacity": 0.5
         },
         "mode": "markers",
         "type": "scatter3d",
         "x": [
          -0.0797090073720709
         ],
         "y": [
          -0.9694002659393293
         ],
         "z": [
          0.2321844063250472
         ]
        },
        {
         "marker": {
          "color": "rgb(204, 102, 0)",
          "opacity": 0.5
         },
         "mode": "markers",
         "type": "scatter3d",
         "x": [
          -0.17759377662483156
         ],
         "y": [
          -0.8371664782625278
         ],
         "z": [
          0.5173129982685958
         ]
        },
        {
         "marker": {
          "color": "rgb(204, 102, 0)",
          "opacity": 0.5
         },
         "mode": "markers",
         "type": "scatter3d",
         "x": [
          -0.25623350452892285
         ],
         "y": [
          -0.6142127126896672
         ],
         "z": [
          0.74638269991153
         ]
        },
        {
         "marker": {
          "color": "rgb(204, 102, 0)",
          "opacity": 0.5
         },
         "mode": "markers",
         "type": "scatter3d",
         "x": [
          -0.3071063563448342
         ],
         "y": [
          -0.3246994692046833
         ],
         "z": [
          0.8945702546981958
         ]
        },
        {
         "marker": {
          "color": "rgb(204, 102, 0)",
          "opacity": 0.5
         },
         "mode": "markers",
         "type": "scatter3d",
         "x": [
          -0.32469946920468373
         ],
         "y": [
          -1.684434907972061e-16
         ],
         "z": [
          0.9458172417006337
         ]
        },
        {
         "marker": {
          "color": "rgb(204, 102, 0)",
          "opacity": 0.5
         },
         "mode": "markers",
         "type": "scatter3d",
         "x": [
          -0.614212712689667
         ],
         "y": [
          9.212985703924367e-17
         ],
         "z": [
          -0.789140509396393
         ]
        },
        {
         "marker": {
          "color": "rgb(204, 102, 0)",
          "opacity": 0.5
         },
         "mode": "markers",
         "type": "scatter3d",
         "x": [
          -0.5809329737336053
         ],
         "y": [
          0.3246994692046831
         ],
         "z": [
          -0.7463826999115302
         ]
        },
        {
         "marker": {
          "color": "rgb(204, 102, 0)",
          "opacity": 0.5
         },
         "mode": "markers",
         "type": "scatter3d",
         "x": [
          -0.4847001329696647
         ],
         "y": [
          0.6142127126896672
         ],
         "z": [
          -0.622742743570399
         ]
        },
        {
         "marker": {
          "color": "rgb(204, 102, 0)",
          "opacity": 0.5
         },
         "mode": "markers",
         "type": "scatter3d",
         "x": [
          -0.33594251190099317
         ],
         "y": [
          0.8371664782625274
         ],
         "z": [
          -0.4316189481141512
         ]
        },
        {
         "marker": {
          "color": "rgb(204, 102, 0)",
          "opacity": 0.5
         },
         "mode": "markers",
         "type": "scatter3d",
         "x": [
          -0.15078030698269515
         ],
         "y": [
          0.969400265939329
         ],
         "z": [
          -0.1937225423717124
         ]
        },
        {
         "marker": {
          "color": "rgb(204, 102, 0)",
          "opacity": 0.5
         },
         "mode": "markers",
         "type": "scatter3d",
         "x": [
          0.05072128379469771
         ],
         "y": [
          0.9965844930066685
         ],
         "z": [
          0.06516670675165635
         ]
        },
        {
         "marker": {
          "color": "rgb(204, 102, 0)",
          "opacity": 0.5
         },
         "mode": "markers",
         "type": "scatter3d",
         "x": [
          0.24672643645112716
         ],
         "y": [
          0.9157733266550563
         ],
         "z": [
          0.3169941320328436
         ]
        },
        {
         "marker": {
          "color": "rgb(204, 102, 0)",
          "opacity": 0.5
         },
         "mode": "markers",
         "type": "scatter3d",
         "x": [
          0.41599495136296627
         ],
         "y": [
          0.7357239106731307
         ],
         "z": [
          0.5344703244375257
         ]
        },
        {
         "marker": {
          "color": "rgb(204, 102, 0)",
          "opacity": 0.5
         },
         "mode": "markers",
         "type": "scatter3d",
         "x": [
          0.5401839584678938
         ],
         "y": [
          0.475947393037073
         ],
         "z": [
          0.694028364027844
         ]
        },
        {
         "marker": {
          "color": "rgb(204, 102, 0)",
          "opacity": 0.5
         },
         "mode": "markers",
         "type": "scatter3d",
         "x": [
          0.6058356518551007
         ],
         "y": [
          0.16459459028073373
         ],
         "z": [
          0.778377661416113
         ]
        },
        {
         "marker": {
          "color": "rgb(204, 102, 0)",
          "opacity": 0.5
         },
         "mode": "markers",
         "type": "scatter3d",
         "x": [
          0.6058356518551008
         ],
         "y": [
          -0.16459459028073364
         ],
         "z": [
          0.7783776614161131
         ]
        },
        {
         "marker": {
          "color": "rgb(204, 102, 0)",
          "opacity": 0.5
         },
         "mode": "markers",
         "type": "scatter3d",
         "x": [
          0.5401839584678939
         ],
         "y": [
          -0.47594739303707295
         ],
         "z": [
          0.6940283640278438
         ]
        },
        {
         "marker": {
          "color": "rgb(204, 102, 0)",
          "opacity": 0.5
         },
         "mode": "markers",
         "type": "scatter3d",
         "x": [
          0.4159949513629667
         ],
         "y": [
          -0.7357239106731304
         ],
         "z": [
          0.534470324437526
         ]
        },
        {
         "marker": {
          "color": "rgb(204, 102, 0)",
          "opacity": 0.5
         },
         "mode": "markers",
         "type": "scatter3d",
         "x": [
          0.2467264364511276
         ],
         "y": [
          -0.9157733266550561
         ],
         "z": [
          0.3169941320328439
         ]
        },
        {
         "marker": {
          "color": "rgb(204, 102, 0)",
          "opacity": 0.5
         },
         "mode": "markers",
         "type": "scatter3d",
         "x": [
          0.050721283794698084
         ],
         "y": [
          -0.9965844930066685
         ],
         "z": [
          0.06516670675165642
         ]
        },
        {
         "marker": {
          "color": "rgb(204, 102, 0)",
          "opacity": 0.5
         },
         "mode": "markers",
         "type": "scatter3d",
         "x": [
          -0.15078030698269482
         ],
         "y": [
          -0.9694002659393292
         ],
         "z": [
          -0.19372254237171235
         ]
        },
        {
         "marker": {
          "color": "rgb(204, 102, 0)",
          "opacity": 0.5
         },
         "mode": "markers",
         "type": "scatter3d",
         "x": [
          -0.3359425119009928
         ],
         "y": [
          -0.8371664782625277
         ],
         "z": [
          -0.4316189481141511
         ]
        },
        {
         "marker": {
          "color": "rgb(204, 102, 0)",
          "opacity": 0.5
         },
         "mode": "markers",
         "type": "scatter3d",
         "x": [
          -0.4847001329696646
         ],
         "y": [
          -0.6142127126896672
         ],
         "z": [
          -0.6227427435703992
         ]
        },
        {
         "marker": {
          "color": "rgb(204, 102, 0)",
          "opacity": 0.5
         },
         "mode": "markers",
         "type": "scatter3d",
         "x": [
          -0.5809329737336053
         ],
         "y": [
          -0.3246994692046832
         ],
         "z": [
          -0.7463826999115302
         ]
        },
        {
         "marker": {
          "color": "rgb(204, 102, 0)",
          "opacity": 0.5
         },
         "mode": "markers",
         "type": "scatter3d",
         "x": [
          -0.614212712689667
         ],
         "y": [
          -1.5279950279022664e-16
         ],
         "z": [
          -0.789140509396393
         ]
        },
        {
         "marker": {
          "color": "rgb(204, 102, 0)",
          "opacity": 0.5
         },
         "mode": "markers",
         "type": "scatter3d",
         "x": [
          0.9965844930066688
         ],
         "y": [
          1.0348828739339626e-16
         ],
         "z": [
          0.08257934547233213
         ]
        },
        {
         "marker": {
          "color": "rgb(204, 102, 0)",
          "opacity": 0.5
         },
         "mode": "markers",
         "type": "scatter3d",
         "x": [
          0.942586796297193
         ],
         "y": [
          0.3246994692046831
         ],
         "z": [
          0.07810496875608494
         ]
        },
        {
         "marker": {
          "color": "rgb(204, 102, 0)",
          "opacity": 0.5
         },
         "mode": "markers",
         "type": "scatter3d",
         "x": [
          0.7864451944678293
         ],
         "y": [
          0.6142127126896672
         ],
         "z": [
          0.06516670675165691
         ]
        },
        {
         "marker": {
          "color": "rgb(204, 102, 0)",
          "opacity": 0.5
         },
         "mode": "markers",
         "type": "scatter3d",
         "x": [
          0.5450800528633707
         ],
         "y": [
          0.8371664782625275
         ],
         "z": [
          0.045166620905047604
         ]
        },
        {
         "marker": {
          "color": "rgb(204, 102, 0)",
          "opacity": 0.5
         },
         "mode": "markers",
         "type": "scatter3d",
         "x": [
          0.24464702974270935
         ],
         "y": [
          0.969400265939329
         ],
         "z": [
          0.020272030851043784
         ]
        },
        {
         "marker": {
          "color": "rgb(204, 102, 0)",
          "opacity": 0.5
         },
         "mode": "markers",
         "type": "scatter3d",
         "x": [
          -0.08229729514036557
         ],
         "y": [
          0.9965844930066685
         ],
         "z": [
          -0.0068193482986387876
         ]
        },
        {
         "marker": {
          "color": "rgb(204, 102, 0)",
          "opacity": 0.5
         },
         "mode": "markers",
         "type": "scatter3d",
         "x": [
          -0.4003234311208763
         ],
         "y": [
          0.9157733266550563
         ],
         "z": [
          -0.03317174524707266
         ]
        },
        {
         "marker": {
          "color": "rgb(204, 102, 0)",
          "opacity": 0.5
         },
         "mode": "markers",
         "type": "scatter3d",
         "x": [
          -0.6749683116813968
         ],
         "y": [
          0.7357239106731307
         ],
         "z": [
          -0.05592946888532602
         ]
        },
        {
         "marker": {
          "color": "rgb(204, 102, 0)",
          "opacity": 0.5
         },
         "mode": "markers",
         "type": "scatter3d",
         "x": [
          -0.8764699024587896
         ],
         "y": [
          0.47594739303707295
         ],
         "z": [
          -0.07262636673472839
         ]
        },
        {
         "marker": {
          "color": "rgb(204, 102, 0)",
          "opacity": 0.5
         },
         "mode": "markers",
         "type": "scatter3d",
         "x": [
          -0.9829923794729967
         ],
         "y": [
          0.1645945902807337
         ],
         "z": [
          -0.08145307083423302
         ]
        },
        {
         "marker": {
          "color": "rgb(204, 102, 0)",
          "opacity": 0.5
         },
         "mode": "markers",
         "type": "scatter3d",
         "x": [
          -0.9829923794729968
         ],
         "y": [
          -0.16459459028073367
         ],
         "z": [
          -0.081453070834233
         ]
        },
        {
         "marker": {
          "color": "rgb(204, 102, 0)",
          "opacity": 0.5
         },
         "mode": "markers",
         "type": "scatter3d",
         "x": [
          -0.8764699024587898
         ],
         "y": [
          -0.475947393037073
         ],
         "z": [
          -0.07262636673472829
         ]
        },
        {
         "marker": {
          "color": "rgb(204, 102, 0)",
          "opacity": 0.5
         },
         "mode": "markers",
         "type": "scatter3d",
         "x": [
          -0.6749683116813971
         ],
         "y": [
          -0.7357239106731304
         ],
         "z": [
          -0.05592946888532591
         ]
        },
        {
         "marker": {
          "color": "rgb(204, 102, 0)",
          "opacity": 0.5
         },
         "mode": "markers",
         "type": "scatter3d",
         "x": [
          -0.4003234311208767
         ],
         "y": [
          -0.9157733266550561
         ],
         "z": [
          -0.03317174524707252
         ]
        },
        {
         "marker": {
          "color": "rgb(204, 102, 0)",
          "opacity": 0.5
         },
         "mode": "markers",
         "type": "scatter3d",
         "x": [
          -0.08229729514036585
         ],
         "y": [
          -0.9965844930066685
         ],
         "z": [
          -0.006819348298638617
         ]
        },
        {
         "marker": {
          "color": "rgb(204, 102, 0)",
          "opacity": 0.5
         },
         "mode": "markers",
         "type": "scatter3d",
         "x": [
          0.24464702974270908
         ],
         "y": [
          -0.9694002659393292
         ],
         "z": [
          0.020272030851043947
         ]
        },
        {
         "marker": {
          "color": "rgb(204, 102, 0)",
          "opacity": 0.5
         },
         "mode": "markers",
         "type": "scatter3d",
         "x": [
          0.5450800528633705
         ],
         "y": [
          -0.8371664782625275
         ],
         "z": [
          0.04516662090504774
         ]
        },
        {
         "marker": {
          "color": "rgb(204, 102, 0)",
          "opacity": 0.5
         },
         "mode": "markers",
         "type": "scatter3d",
         "x": [
          0.7864451944678293
         ],
         "y": [
          -0.6142127126896672
         ],
         "z": [
          0.06516670675165702
         ]
        },
        {
         "marker": {
          "color": "rgb(204, 102, 0)",
          "opacity": 0.5
         },
         "mode": "markers",
         "type": "scatter3d",
         "x": [
          0.942586796297193
         ],
         "y": [
          -0.3246994692046832
         ],
         "z": [
          0.078104968756085
         ]
        },
        {
         "marker": {
          "color": "rgb(204, 102, 0)",
          "opacity": 0.5
         },
         "mode": "markers",
         "type": "scatter3d",
         "x": [
          0.9965844930066688
         ],
         "y": [
          -1.4144107243607403e-16
         ],
         "z": [
          0.08257934547233213
         ]
        },
        {
         "marker": {
          "color": "rgb(204, 102, 0)",
          "opacity": 0.5
         },
         "mode": "markers",
         "type": "scatter3d",
         "x": [
          -0.8371664782625272
         ],
         "y": [
          1.1161687995177543e-16
         ],
         "z": [
          0.5469481581224266
         ]
        },
        {
         "marker": {
          "color": "rgb(204, 102, 0)",
          "opacity": 0.5
         },
         "mode": "markers",
         "type": "scatter3d",
         "x": [
          -0.7918064893144979
         ],
         "y": [
          0.3246994692046831
         ],
         "z": [
          0.5173129982685961
         ]
        },
        {
         "marker": {
          "color": "rgb(204, 102, 0)",
          "opacity": 0.5
         },
         "mode": "markers",
         "type": "scatter3d",
         "x": [
          -0.6606419811056757
         ],
         "y": [
          0.6142127126896672
         ],
         "z": [
          0.4316189481141511
         ]
        },
        {
         "marker": {
          "color": "rgb(204, 102, 0)",
          "opacity": 0.5
         },
         "mode": "markers",
         "type": "scatter3d",
         "x": [
          -0.4578866633275286
         ],
         "y": [
          0.8371664782625275
         ],
         "z": [
          0.2991522876735156
         ]
        },
        {
         "marker": {
          "color": "rgb(204, 102, 0)",
          "opacity": 0.5
         },
         "mode": "markers",
         "type": "scatter3d",
         "x": [
          -0.20551222073422465
         ],
         "y": [
          0.969400265939329
         ],
         "z": [
          0.1342678350374474
         ]
        },
        {
         "marker": {
          "color": "rgb(204, 102, 0)",
          "opacity": 0.5
         },
         "mode": "markers",
         "type": "scatter3d",
         "x": [
          0.0691326598262957
         ],
         "y": [
          0.9965844930066685
         ],
         "z": [
          -0.04516662090504676
         ]
        },
        {
         "marker": {
          "color": "rgb(204, 102, 0)",
          "opacity": 0.5
         },
         "mode": "markers",
         "type": "scatter3d",
         "x": [
          0.3362859439908949
         ],
         "y": [
          0.9157733266550563
         ],
         "z": [
          -0.21970657264014634
         ]
        },
        {
         "marker": {
          "color": "rgb(204, 102, 0)",
          "opacity": 0.5
         },
         "mode": "markers",
         "type": "scatter3d",
         "x": [
          0.566997428110029
         ],
         "y": [
          0.7357239106731307
         ],
         "z": [
          -0.3704379081309599
         ]
        },
        {
         "marker": {
          "color": "rgb(204, 102, 0)",
          "opacity": 0.5
         },
         "mode": "markers",
         "type": "scatter3d",
         "x": [
          0.7362659430218681
         ],
         "y": [
          0.47594739303707295
         ],
         "z": [
          -0.4810265483394088
         ]
        },
        {
         "marker": {
          "color": "rgb(204, 102, 0)",
          "opacity": 0.5
         },
         "mode": "markers",
         "type": "scatter3d",
         "x": [
          0.8257486186640906
         ],
         "y": [
          0.1645945902807337
         ],
         "z": [
          -0.5394884981393533
         ]
        },
        {
         "marker": {
          "color": "rgb(204, 102, 0)",
          "opacity": 0.5
         },
         "mode": "markers",
         "type": "scatter3d",
         "x": [
          0.8257486186640907
         ],
         "y": [
          -0.16459459028073367
         ],
         "z": [
          -0.5394884981393534
         ]
        },
        {
         "marker": {
          "color": "rgb(204, 102, 0)",
          "opacity": 0.5
         },
         "mode": "markers",
         "type": "scatter3d",
         "x": [
          0.736265943021868
         ],
         "y": [
          -0.475947393037073
         ],
         "z": [
          -0.48102654833940883
         ]
        },
        {
         "marker": {
          "color": "rgb(204, 102, 0)",
          "opacity": 0.5
         },
         "mode": "markers",
         "type": "scatter3d",
         "x": [
          0.5669974281100292
         ],
         "y": [
          -0.7357239106731304
         ],
         "z": [
          -0.37043790813096017
         ]
        },
        {
         "marker": {
          "color": "rgb(204, 102, 0)",
          "opacity": 0.5
         },
         "mode": "markers",
         "type": "scatter3d",
         "x": [
          0.3362859439908952
         ],
         "y": [
          -0.9157733266550561
         ],
         "z": [
          -0.21970657264014667
         ]
        },
        {
         "marker": {
          "color": "rgb(204, 102, 0)",
          "opacity": 0.5
         },
         "mode": "markers",
         "type": "scatter3d",
         "x": [
          0.06913265982629582
         ],
         "y": [
          -0.9965844930066685
         ],
         "z": [
          -0.045166620905047014
         ]
        },
        {
         "marker": {
          "color": "rgb(204, 102, 0)",
          "opacity": 0.5
         },
         "mode": "markers",
         "type": "scatter3d",
         "x": [
          -0.20551222073422454
         ],
         "y": [
          -0.9694002659393292
         ],
         "z": [
          0.1342678350374472
         ]
        },
        {
         "marker": {
          "color": "rgb(204, 102, 0)",
          "opacity": 0.5
         },
         "mode": "markers",
         "type": "scatter3d",
         "x": [
          -0.4578866633275285
         ],
         "y": [
          -0.8371664782625275
         ],
         "z": [
          0.29915228767351537
         ]
        },
        {
         "marker": {
          "color": "rgb(204, 102, 0)",
          "opacity": 0.5
         },
         "mode": "markers",
         "type": "scatter3d",
         "x": [
          -0.6606419811056757
         ],
         "y": [
          -0.6142127126896672
         ],
         "z": [
          0.43161894811415097
         ]
        },
        {
         "marker": {
          "color": "rgb(204, 102, 0)",
          "opacity": 0.5
         },
         "mode": "markers",
         "type": "scatter3d",
         "x": [
          -0.7918064893144979
         ],
         "y": [
          -0.3246994692046832
         ],
         "z": [
          0.5173129982685961
         ]
        },
        {
         "marker": {
          "color": "rgb(204, 102, 0)",
          "opacity": 0.5
         },
         "mode": "markers",
         "type": "scatter3d",
         "x": [
          -0.8371664782625272
         ],
         "y": [
          -1.3331247987769487e-16
         ],
         "z": [
          0.5469481581224266
         ]
        },
        {
         "marker": {
          "color": "rgb(204, 102, 0)",
          "opacity": 0.5
         },
         "mode": "markers",
         "type": "scatter3d",
         "x": [
          0.4759473930370722
         ],
         "y": [
          1.1724482676067567e-16
         ],
         "z": [
          -0.8794737512064882
         ]
        },
        {
         "marker": {
          "color": "rgb(204, 102, 0)",
          "opacity": 0.5
         },
         "mode": "markers",
         "type": "scatter3d",
         "x": [
          0.45015925047693145
         ],
         "y": [
          0.3246994692046831
         ],
         "z": [
          -0.831821437514231
         ]
        },
        {
         "marker": {
          "color": "rgb(204, 102, 0)",
          "opacity": 0.5
         },
         "mode": "markers",
         "type": "scatter3d",
         "x": [
          0.37558936818716077
         ],
         "y": [
          0.614212712689667
         ],
         "z": [
          -0.6940283640278455
         ]
        },
        {
         "marker": {
          "color": "rgb(204, 102, 0)",
          "opacity": 0.5
         },
         "mode": "markers",
         "type": "scatter3d",
         "x": [
          0.26031854998479775
         ],
         "y": [
          0.8371664782625274
         ],
         "z": [
          -0.481026548339411
         ]
        },
        {
         "marker": {
          "color": "rgb(204, 102, 0)",
          "opacity": 0.5
         },
         "mode": "markers",
         "type": "scatter3d",
         "x": [
          0.11683817763309964
         ],
         "y": [
          0.9694002659393289
         ],
         "z": [
          -0.21589804224247192
         ]
        },
        {
         "marker": {
          "color": "rgb(204, 102, 0)",
          "opacity": 0.5
         },
         "mode": "markers",
         "type": "scatter3d",
         "x": [
          -0.03930342419626348
         ],
         "y": [
          0.9965844930066684
         ],
         "z": [
          0.07262636673472697
         ]
        },
        {
         "marker": {
          "color": "rgb(204, 102, 0)",
          "opacity": 0.5
         },
         "mode": "markers",
         "type": "scatter3d",
         "x": [
          -0.19118589015849927
         ],
         "y": [
          0.9157733266550562
         ],
         "z": [
          0.353280581962028
         ]
        },
        {
         "marker": {
          "color": "rgb(204, 102, 0)",
          "opacity": 0.5
         },
         "mode": "markers",
         "type": "scatter3d",
         "x": [
          -0.32235039836732104
         ],
         "y": [
          0.7357239106731306
         ],
         "z": [
          0.5956513644207135
         ]
        },
        {
         "marker": {
          "color": "rgb(204, 102, 0)",
          "opacity": 0.5
         },
         "mode": "markers",
         "type": "scatter3d",
         "x": [
          -0.4185832391312615
         ],
         "y": [
          0.4759473930370729
         ],
         "z": [
          0.7734740790612097
         ]
        },
        {
         "marker": {
          "color": "rgb(204, 102, 0)",
          "opacity": 0.5
         },
         "mode": "markers",
         "type": "scatter3d",
         "x": [
          -0.4694560909471726
         ],
         "y": [
          0.16459459028073367
         ],
         "z": [
          0.8674788755485101
         ]
        },
        {
         "marker": {
          "color": "rgb(204, 102, 0)",
          "opacity": 0.5
         },
         "mode": "markers",
         "type": "scatter3d",
         "x": [
          -0.46945609094717267
         ],
         "y": [
          -0.16459459028073364
         ],
         "z": [
          0.8674788755485102
         ]
        },
        {
         "marker": {
          "color": "rgb(204, 102, 0)",
          "opacity": 0.5
         },
         "mode": "markers",
         "type": "scatter3d",
         "x": [
          -0.41858323913126144
         ],
         "y": [
          -0.47594739303707295
         ],
         "z": [
          0.7734740790612098
         ]
        },
        {
         "marker": {
          "color": "rgb(204, 102, 0)",
          "opacity": 0.5
         },
         "mode": "markers",
         "type": "scatter3d",
         "x": [
          -0.3223503983673212
         ],
         "y": [
          -0.7357239106731303
         ],
         "z": [
          0.5956513644207139
         ]
        },
        {
         "marker": {
          "color": "rgb(204, 102, 0)",
          "opacity": 0.5
         },
         "mode": "markers",
         "type": "scatter3d",
         "x": [
          -0.19118589015849938
         ],
         "y": [
          -0.915773326655056
         ],
         "z": [
          0.35328058196202844
         ]
        },
        {
         "marker": {
          "color": "rgb(204, 102, 0)",
          "opacity": 0.5
         },
         "mode": "markers",
         "type": "scatter3d",
         "x": [
          -0.039303424196263495
         ],
         "y": [
          -0.9965844930066684
         ],
         "z": [
          0.07262636673472722
         ]
        },
        {
         "marker": {
          "color": "rgb(204, 102, 0)",
          "opacity": 0.5
         },
         "mode": "markers",
         "type": "scatter3d",
         "x": [
          0.11683817763309963
         ],
         "y": [
          -0.969400265939329
         ],
         "z": [
          -0.2158980422424717
         ]
        },
        {
         "marker": {
          "color": "rgb(204, 102, 0)",
          "opacity": 0.5
         },
         "mode": "markers",
         "type": "scatter3d",
         "x": [
          0.26031854998479775
         ],
         "y": [
          -0.8371664782625274
         ],
         "z": [
          -0.4810265483394107
         ]
        },
        {
         "marker": {
          "color": "rgb(204, 102, 0)",
          "opacity": 0.5
         },
         "mode": "markers",
         "type": "scatter3d",
         "x": [
          0.3755893681871608
         ],
         "y": [
          -0.614212712689667
         ],
         "z": [
          -0.6940283640278453
         ]
        },
        {
         "marker": {
          "color": "rgb(204, 102, 0)",
          "opacity": 0.5
         },
         "mode": "markers",
         "type": "scatter3d",
         "x": [
          0.45015925047693156
         ],
         "y": [
          -0.3246994692046832
         ],
         "z": [
          -0.831821437514231
         ]
        },
        {
         "marker": {
          "color": "rgb(204, 102, 0)",
          "opacity": 0.5
         },
         "mode": "markers",
         "type": "scatter3d",
         "x": [
          0.4759473930370722
         ],
         "y": [
          -1.2768453306879463e-16
         ],
         "z": [
          -0.8794737512064882
         ]
        },
        {
         "marker": {
          "color": "rgb(204, 102, 0)",
          "opacity": 0.5
         },
         "mode": "markers",
         "type": "scatter3d",
         "x": [
          -0.16459459028073264
         ],
         "y": [
          1.2076623287496063e-16
         ],
         "z": [
          0.986361303402721
         ]
        },
        {
         "marker": {
          "color": "rgb(204, 102, 0)",
          "opacity": 0.5
         },
         "mode": "markers",
         "type": "scatter3d",
         "x": [
          -0.15567640137816863
         ],
         "y": [
          0.3246994692046831
         ],
         "z": [
          0.9329175273046045
         ]
        },
        {
         "marker": {
          "color": "rgb(204, 102, 0)",
          "opacity": 0.5
         },
         "mode": "markers",
         "type": "scatter3d",
         "x": [
          -0.12988825881802807
         ],
         "y": [
          0.6142127126896672
         ],
         "z": [
          0.7783776614161143
         ]
        },
        {
         "marker": {
          "color": "rgb(204, 102, 0)",
          "opacity": 0.5
         },
         "mode": "markers",
         "type": "scatter3d",
         "x": [
          -0.09002470799096235
         ],
         "y": [
          0.8371664782625275
         ],
         "z": [
          0.5394884981393554
         ]
        },
        {
         "marker": {
          "color": "rgb(204, 102, 0)",
          "opacity": 0.5
         },
         "mode": "markers",
         "type": "scatter3d",
         "x": [
          -0.0404055831758061
         ],
         "y": [
          0.969400265939329
         ],
         "z": [
          0.24213738506265195
         ]
        },
        {
         "marker": {
          "color": "rgb(204, 102, 0)",
          "opacity": 0.5
         },
         "mode": "markers",
         "type": "scatter3d",
         "x": [
          0.013592113533669318
         ],
         "y": [
          0.9965844930066685
         ],
         "z": [
          -0.08145307083423134
         ]
        },
        {
         "marker": {
          "color": "rgb(204, 102, 0)",
          "opacity": 0.5
         },
         "mode": "markers",
         "type": "scatter3d",
         "x": [
          0.0661168938384
         ],
         "y": [
          0.9157733266550563
         ],
         "z": [
          -0.39621682263160973
         ]
        },
        {
         "marker": {
          "color": "rgb(204, 102, 0)",
          "opacity": 0.5
         },
         "mode": "markers",
         "type": "scatter3d",
         "x": [
          0.11147688278642902
         ],
         "y": [
          0.7357239106731307
         ],
         "z": [
          -0.6680443337594061
         ]
        },
        {
         "marker": {
          "color": "rgb(204, 102, 0)",
          "opacity": 0.5
         },
         "mode": "markers",
         "type": "scatter3d",
         "x": [
          0.1447566217424905
         ],
         "y": [
          0.47594739303707295
         ],
         "z": [
          -0.8674788755485092
         ]
        },
        {
         "marker": {
          "color": "rgb(204, 102, 0)",
          "opacity": 0.5
         },
         "mode": "markers",
         "type": "scatter3d",
         "x": [
          0.1623497346023399
         ],
         "y": [
          0.1645945902807337
         ],
         "z": [
          -0.9729086208503123
         ]
        },
        {
         "marker": {
          "color": "rgb(204, 102, 0)",
          "opacity": 0.5
         },
         "mode": "markers",
         "type": "scatter3d",
         "x": [
          0.16234973460233992
         ],
         "y": [
          -0.16459459028073367
         ],
         "z": [
          -0.9729086208503124
         ]
        },
        {
         "marker": {
          "color": "rgb(204, 102, 0)",
          "opacity": 0.5
         },
         "mode": "markers",
         "type": "scatter3d",
         "x": [
          0.14475662174249046
         ],
         "y": [
          -0.475947393037073
         ],
         "z": [
          -0.8674788755485093
         ]
        },
        {
         "marker": {
          "color": "rgb(204, 102, 0)",
          "opacity": 0.5
         },
         "mode": "markers",
         "type": "scatter3d",
         "x": [
          0.11147688278642902
         ],
         "y": [
          -0.7357239106731304
         ],
         "z": [
          -0.6680443337594064
         ]
        },
        {
         "marker": {
          "color": "rgb(204, 102, 0)",
          "opacity": 0.5
         },
         "mode": "markers",
         "type": "scatter3d",
         "x": [
          0.06611689383840001
         ],
         "y": [
          -0.9157733266550561
         ],
         "z": [
          -0.3962168226316101
         ]
        },
        {
         "marker": {
          "color": "rgb(204, 102, 0)",
          "opacity": 0.5
         },
         "mode": "markers",
         "type": "scatter3d",
         "x": [
          0.013592113533669296
         ],
         "y": [
          -0.9965844930066685
         ],
         "z": [
          -0.08145307083423159
         ]
        },
        {
         "marker": {
          "color": "rgb(204, 102, 0)",
          "opacity": 0.5
         },
         "mode": "markers",
         "type": "scatter3d",
         "x": [
          -0.04040558317580612
         ],
         "y": [
          -0.9694002659393292
         ],
         "z": [
          0.24213738506265173
         ]
        },
        {
         "marker": {
          "color": "rgb(204, 102, 0)",
          "opacity": 0.5
         },
         "mode": "markers",
         "type": "scatter3d",
         "x": [
          -0.09002470799096236
         ],
         "y": [
          -0.8371664782625275
         ],
         "z": [
          0.5394884981393552
         ]
        },
        {
         "marker": {
          "color": "rgb(204, 102, 0)",
          "opacity": 0.5
         },
         "mode": "markers",
         "type": "scatter3d",
         "x": [
          -0.1298882588180281
         ],
         "y": [
          -0.6142127126896672
         ],
         "z": [
          0.7783776614161143
         ]
        },
        {
         "marker": {
          "color": "rgb(204, 102, 0)",
          "opacity": 0.5
         },
         "mode": "markers",
         "type": "scatter3d",
         "x": [
          -0.15567640137816868
         ],
         "y": [
          -0.3246994692046832
         ],
         "z": [
          0.9329175273046045
         ]
        },
        {
         "marker": {
          "color": "rgb(204, 102, 0)",
          "opacity": 0.5
         },
         "mode": "markers",
         "type": "scatter3d",
         "x": [
          -0.16459459028073264
         ],
         "y": [
          -1.2416312695450967e-16
         ],
         "z": [
          0.986361303402721
         ]
        },
        {
         "marker": {
          "color": "rgb(204, 102, 0)",
          "opacity": 0.5
         },
         "mode": "markers",
         "type": "scatter3d",
         "x": [
          -1.1774624347167614e-15
         ],
         "y": [
          1.2246970373740773e-16
         ],
         "z": [
          -0.9999999999999982
         ]
        },
        {
         "marker": {
          "color": "rgb(204, 102, 0)",
          "opacity": 0.5
         },
         "mode": "markers",
         "type": "scatter3d",
         "x": [
          -1.1169483602375957e-15
         ],
         "y": [
          0.32469946920468307
         ],
         "z": [
          -0.9458172417006331
         ]
        },
        {
         "marker": {
          "color": "rgb(204, 102, 0)",
          "opacity": 0.5
         },
         "mode": "markers",
         "type": "scatter3d",
         "x": [
          -9.353955996871776e-16
         ],
         "y": [
          0.6142127126896669
         ],
         "z": [
          -0.7891405093963925
         ]
        },
        {
         "marker": {
          "color": "rgb(204, 102, 0)",
          "opacity": 0.5
         },
         "mode": "markers",
         "type": "scatter3d",
         "x": [
          -6.524782117524799e-16
         ],
         "y": [
          0.8371664782625273
         ],
         "z": [
          -0.5469481581224268
         ]
        },
        {
         "marker": {
          "color": "rgb(204, 102, 0)",
          "opacity": 0.5
         },
         "mode": "markers",
         "type": "scatter3d",
         "x": [
          -2.988546853318087e-16
         ],
         "y": [
          0.9694002659393288
         ],
         "z": [
          -0.24548548714080015
         ]
        },
        {
         "marker": {
          "color": "rgb(204, 102, 0)",
          "opacity": 0.5
         },
         "mode": "markers",
         "type": "scatter3d",
         "x": [
          8.715438345279484e-17
         ],
         "y": [
          0.9965844930066683
         ],
         "z": [
          0.08257934547233015
         ]
        },
        {
         "marker": {
          "color": "rgb(204, 102, 0)",
          "opacity": 0.5
         },
         "mode": "markers",
         "type": "scatter3d",
         "x": [
          4.637189224506919e-16
         ],
         "y": [
          0.9157733266550561
         ],
         "z": [
          0.4016954246529659
         ]
        },
        {
         "marker": {
          "color": "rgb(204, 102, 0)",
          "opacity": 0.5
         },
         "mode": "markers",
         "type": "scatter3d",
         "x": [
          7.9003232086061285e-16
         ],
         "y": [
          0.7357239106731306
         ],
         "z": [
          0.6772815716257365
         ]
        },
        {
         "marker": {
          "color": "rgb(204, 102, 0)",
          "opacity": 0.5
         },
         "mode": "markers",
         "type": "scatter3d",
         "x": [
          1.0307334586907793e-15
         ],
         "y": [
          0.47594739303707284
         ],
         "z": [
          0.8794737512064839
         ]
        },
        {
         "marker": {
          "color": "rgb(204, 102, 0)",
          "opacity": 0.5
         },
         "mode": "markers",
         "type": "scatter3d",
         "x": [
          1.1597386327943229e-15
         ],
         "y": [
          0.16459459028073367
         ],
         "z": [
          0.9863613034027167
         ]
        },
        {
         "marker": {
          "color": "rgb(204, 102, 0)",
          "opacity": 0.5
         },
         "mode": "markers",
         "type": "scatter3d",
         "x": [
          1.1630681308356036e-15
         ],
         "y": [
          -0.16459459028073364
         ],
         "z": [
          0.9863613034027168
         ]
        },
        {
         "marker": {
          "color": "rgb(204, 102, 0)",
          "opacity": 0.5
         },
         "mode": "markers",
         "type": "scatter3d",
         "x": [
          1.0403611500393638e-15
         ],
         "y": [
          -0.4759473930370729
         ],
         "z": [
          0.8794737512064837
         ]
        },
        {
         "marker": {
          "color": "rgb(204, 102, 0)",
          "opacity": 0.5
         },
         "mode": "markers",
         "type": "scatter3d",
         "x": [
          8.049148957698591e-16
         ],
         "y": [
          -0.7357239106731303
         ],
         "z": [
          0.6772815716257369
         ]
        },
        {
         "marker": {
          "color": "rgb(204, 102, 0)",
          "opacity": 0.5
         },
         "mode": "markers",
         "type": "scatter3d",
         "x": [
          4.822436230022396e-16
         ],
         "y": [
          -0.9157733266550558
         ],
         "z": [
          0.4016954246529663
         ]
        },
        {
         "marker": {
          "color": "rgb(204, 102, 0)",
          "opacity": 0.5
         },
         "mode": "markers",
         "type": "scatter3d",
         "x": [
          1.0731377090153864e-16
         ],
         "y": [
          -0.9965844930066683
         ],
         "z": [
          0.08257934547233037
         ]
        },
        {
         "marker": {
          "color": "rgb(204, 102, 0)",
          "opacity": 0.5
         },
         "mode": "markers",
         "type": "scatter3d",
         "x": [
          -2.7924519342106564e-16
         ],
         "y": [
          -0.9694002659393289
         ],
         "z": [
          -0.24548548714079993
         ]
        },
        {
         "marker": {
          "color": "rgb(204, 102, 0)",
          "opacity": 0.5
         },
         "mode": "markers",
         "type": "scatter3d",
         "x": [
          -6.355436081008838e-16
         ],
         "y": [
          -0.8371664782625273
         ],
         "z": [
          -0.5469481581224266
         ]
        },
        {
         "marker": {
          "color": "rgb(204, 102, 0)",
          "opacity": 0.5
         },
         "mode": "markers",
         "type": "scatter3d",
         "x": [
          -9.229710113678287e-16
         ],
         "y": [
          -0.6142127126896669
         ],
         "z": [
          -0.7891405093963925
         ]
        },
        {
         "marker": {
          "color": "rgb(204, 102, 0)",
          "opacity": 0.5
         },
         "mode": "markers",
         "type": "scatter3d",
         "x": [
          -1.1103801841822465e-15
         ],
         "y": [
          -0.3246994692046831
         ],
         "z": [
          -0.9458172417006331
         ]
        },
        {
         "marker": {
          "color": "rgb(204, 102, 0)",
          "opacity": 0.5
         },
         "mode": "markers",
         "type": "scatter3d",
         "x": [
          -1.1774624347167614e-15
         ],
         "y": [
          -1.2245965609206251e-16
         ],
         "z": [
          -0.9999999999999982
         ]
        }
       ],
       "layout": {
        "template": {
         "data": {
          "bar": [
           {
            "error_x": {
             "color": "#2a3f5f"
            },
            "error_y": {
             "color": "#2a3f5f"
            },
            "marker": {
             "line": {
              "color": "#E5ECF6",
              "width": 0.5
             }
            },
            "type": "bar"
           }
          ],
          "barpolar": [
           {
            "marker": {
             "line": {
              "color": "#E5ECF6",
              "width": 0.5
             }
            },
            "type": "barpolar"
           }
          ],
          "carpet": [
           {
            "aaxis": {
             "endlinecolor": "#2a3f5f",
             "gridcolor": "white",
             "linecolor": "white",
             "minorgridcolor": "white",
             "startlinecolor": "#2a3f5f"
            },
            "baxis": {
             "endlinecolor": "#2a3f5f",
             "gridcolor": "white",
             "linecolor": "white",
             "minorgridcolor": "white",
             "startlinecolor": "#2a3f5f"
            },
            "type": "carpet"
           }
          ],
          "choropleth": [
           {
            "colorbar": {
             "outlinewidth": 0,
             "ticks": ""
            },
            "type": "choropleth"
           }
          ],
          "contour": [
           {
            "colorbar": {
             "outlinewidth": 0,
             "ticks": ""
            },
            "colorscale": [
             [
              0,
              "#0d0887"
             ],
             [
              0.1111111111111111,
              "#46039f"
             ],
             [
              0.2222222222222222,
              "#7201a8"
             ],
             [
              0.3333333333333333,
              "#9c179e"
             ],
             [
              0.4444444444444444,
              "#bd3786"
             ],
             [
              0.5555555555555556,
              "#d8576b"
             ],
             [
              0.6666666666666666,
              "#ed7953"
             ],
             [
              0.7777777777777778,
              "#fb9f3a"
             ],
             [
              0.8888888888888888,
              "#fdca26"
             ],
             [
              1,
              "#f0f921"
             ]
            ],
            "type": "contour"
           }
          ],
          "contourcarpet": [
           {
            "colorbar": {
             "outlinewidth": 0,
             "ticks": ""
            },
            "type": "contourcarpet"
           }
          ],
          "heatmap": [
           {
            "colorbar": {
             "outlinewidth": 0,
             "ticks": ""
            },
            "colorscale": [
             [
              0,
              "#0d0887"
             ],
             [
              0.1111111111111111,
              "#46039f"
             ],
             [
              0.2222222222222222,
              "#7201a8"
             ],
             [
              0.3333333333333333,
              "#9c179e"
             ],
             [
              0.4444444444444444,
              "#bd3786"
             ],
             [
              0.5555555555555556,
              "#d8576b"
             ],
             [
              0.6666666666666666,
              "#ed7953"
             ],
             [
              0.7777777777777778,
              "#fb9f3a"
             ],
             [
              0.8888888888888888,
              "#fdca26"
             ],
             [
              1,
              "#f0f921"
             ]
            ],
            "type": "heatmap"
           }
          ],
          "heatmapgl": [
           {
            "colorbar": {
             "outlinewidth": 0,
             "ticks": ""
            },
            "colorscale": [
             [
              0,
              "#0d0887"
             ],
             [
              0.1111111111111111,
              "#46039f"
             ],
             [
              0.2222222222222222,
              "#7201a8"
             ],
             [
              0.3333333333333333,
              "#9c179e"
             ],
             [
              0.4444444444444444,
              "#bd3786"
             ],
             [
              0.5555555555555556,
              "#d8576b"
             ],
             [
              0.6666666666666666,
              "#ed7953"
             ],
             [
              0.7777777777777778,
              "#fb9f3a"
             ],
             [
              0.8888888888888888,
              "#fdca26"
             ],
             [
              1,
              "#f0f921"
             ]
            ],
            "type": "heatmapgl"
           }
          ],
          "histogram": [
           {
            "marker": {
             "colorbar": {
              "outlinewidth": 0,
              "ticks": ""
             }
            },
            "type": "histogram"
           }
          ],
          "histogram2d": [
           {
            "colorbar": {
             "outlinewidth": 0,
             "ticks": ""
            },
            "colorscale": [
             [
              0,
              "#0d0887"
             ],
             [
              0.1111111111111111,
              "#46039f"
             ],
             [
              0.2222222222222222,
              "#7201a8"
             ],
             [
              0.3333333333333333,
              "#9c179e"
             ],
             [
              0.4444444444444444,
              "#bd3786"
             ],
             [
              0.5555555555555556,
              "#d8576b"
             ],
             [
              0.6666666666666666,
              "#ed7953"
             ],
             [
              0.7777777777777778,
              "#fb9f3a"
             ],
             [
              0.8888888888888888,
              "#fdca26"
             ],
             [
              1,
              "#f0f921"
             ]
            ],
            "type": "histogram2d"
           }
          ],
          "histogram2dcontour": [
           {
            "colorbar": {
             "outlinewidth": 0,
             "ticks": ""
            },
            "colorscale": [
             [
              0,
              "#0d0887"
             ],
             [
              0.1111111111111111,
              "#46039f"
             ],
             [
              0.2222222222222222,
              "#7201a8"
             ],
             [
              0.3333333333333333,
              "#9c179e"
             ],
             [
              0.4444444444444444,
              "#bd3786"
             ],
             [
              0.5555555555555556,
              "#d8576b"
             ],
             [
              0.6666666666666666,
              "#ed7953"
             ],
             [
              0.7777777777777778,
              "#fb9f3a"
             ],
             [
              0.8888888888888888,
              "#fdca26"
             ],
             [
              1,
              "#f0f921"
             ]
            ],
            "type": "histogram2dcontour"
           }
          ],
          "mesh3d": [
           {
            "colorbar": {
             "outlinewidth": 0,
             "ticks": ""
            },
            "type": "mesh3d"
           }
          ],
          "parcoords": [
           {
            "line": {
             "colorbar": {
              "outlinewidth": 0,
              "ticks": ""
             }
            },
            "type": "parcoords"
           }
          ],
          "pie": [
           {
            "automargin": true,
            "type": "pie"
           }
          ],
          "scatter": [
           {
            "marker": {
             "colorbar": {
              "outlinewidth": 0,
              "ticks": ""
             }
            },
            "type": "scatter"
           }
          ],
          "scatter3d": [
           {
            "line": {
             "colorbar": {
              "outlinewidth": 0,
              "ticks": ""
             }
            },
            "marker": {
             "colorbar": {
              "outlinewidth": 0,
              "ticks": ""
             }
            },
            "type": "scatter3d"
           }
          ],
          "scattercarpet": [
           {
            "marker": {
             "colorbar": {
              "outlinewidth": 0,
              "ticks": ""
             }
            },
            "type": "scattercarpet"
           }
          ],
          "scattergeo": [
           {
            "marker": {
             "colorbar": {
              "outlinewidth": 0,
              "ticks": ""
             }
            },
            "type": "scattergeo"
           }
          ],
          "scattergl": [
           {
            "marker": {
             "colorbar": {
              "outlinewidth": 0,
              "ticks": ""
             }
            },
            "type": "scattergl"
           }
          ],
          "scattermapbox": [
           {
            "marker": {
             "colorbar": {
              "outlinewidth": 0,
              "ticks": ""
             }
            },
            "type": "scattermapbox"
           }
          ],
          "scatterpolar": [
           {
            "marker": {
             "colorbar": {
              "outlinewidth": 0,
              "ticks": ""
             }
            },
            "type": "scatterpolar"
           }
          ],
          "scatterpolargl": [
           {
            "marker": {
             "colorbar": {
              "outlinewidth": 0,
              "ticks": ""
             }
            },
            "type": "scatterpolargl"
           }
          ],
          "scatterternary": [
           {
            "marker": {
             "colorbar": {
              "outlinewidth": 0,
              "ticks": ""
             }
            },
            "type": "scatterternary"
           }
          ],
          "surface": [
           {
            "colorbar": {
             "outlinewidth": 0,
             "ticks": ""
            },
            "colorscale": [
             [
              0,
              "#0d0887"
             ],
             [
              0.1111111111111111,
              "#46039f"
             ],
             [
              0.2222222222222222,
              "#7201a8"
             ],
             [
              0.3333333333333333,
              "#9c179e"
             ],
             [
              0.4444444444444444,
              "#bd3786"
             ],
             [
              0.5555555555555556,
              "#d8576b"
             ],
             [
              0.6666666666666666,
              "#ed7953"
             ],
             [
              0.7777777777777778,
              "#fb9f3a"
             ],
             [
              0.8888888888888888,
              "#fdca26"
             ],
             [
              1,
              "#f0f921"
             ]
            ],
            "type": "surface"
           }
          ],
          "table": [
           {
            "cells": {
             "fill": {
              "color": "#EBF0F8"
             },
             "line": {
              "color": "white"
             }
            },
            "header": {
             "fill": {
              "color": "#C8D4E3"
             },
             "line": {
              "color": "white"
             }
            },
            "type": "table"
           }
          ]
         },
         "layout": {
          "annotationdefaults": {
           "arrowcolor": "#2a3f5f",
           "arrowhead": 0,
           "arrowwidth": 1
          },
          "coloraxis": {
           "colorbar": {
            "outlinewidth": 0,
            "ticks": ""
           }
          },
          "colorscale": {
           "diverging": [
            [
             0,
             "#8e0152"
            ],
            [
             0.1,
             "#c51b7d"
            ],
            [
             0.2,
             "#de77ae"
            ],
            [
             0.3,
             "#f1b6da"
            ],
            [
             0.4,
             "#fde0ef"
            ],
            [
             0.5,
             "#f7f7f7"
            ],
            [
             0.6,
             "#e6f5d0"
            ],
            [
             0.7,
             "#b8e186"
            ],
            [
             0.8,
             "#7fbc41"
            ],
            [
             0.9,
             "#4d9221"
            ],
            [
             1,
             "#276419"
            ]
           ],
           "sequential": [
            [
             0,
             "#0d0887"
            ],
            [
             0.1111111111111111,
             "#46039f"
            ],
            [
             0.2222222222222222,
             "#7201a8"
            ],
            [
             0.3333333333333333,
             "#9c179e"
            ],
            [
             0.4444444444444444,
             "#bd3786"
            ],
            [
             0.5555555555555556,
             "#d8576b"
            ],
            [
             0.6666666666666666,
             "#ed7953"
            ],
            [
             0.7777777777777778,
             "#fb9f3a"
            ],
            [
             0.8888888888888888,
             "#fdca26"
            ],
            [
             1,
             "#f0f921"
            ]
           ],
           "sequentialminus": [
            [
             0,
             "#0d0887"
            ],
            [
             0.1111111111111111,
             "#46039f"
            ],
            [
             0.2222222222222222,
             "#7201a8"
            ],
            [
             0.3333333333333333,
             "#9c179e"
            ],
            [
             0.4444444444444444,
             "#bd3786"
            ],
            [
             0.5555555555555556,
             "#d8576b"
            ],
            [
             0.6666666666666666,
             "#ed7953"
            ],
            [
             0.7777777777777778,
             "#fb9f3a"
            ],
            [
             0.8888888888888888,
             "#fdca26"
            ],
            [
             1,
             "#f0f921"
            ]
           ]
          },
          "colorway": [
           "#636efa",
           "#EF553B",
           "#00cc96",
           "#ab63fa",
           "#FFA15A",
           "#19d3f3",
           "#FF6692",
           "#B6E880",
           "#FF97FF",
           "#FECB52"
          ],
          "font": {
           "color": "#2a3f5f"
          },
          "geo": {
           "bgcolor": "white",
           "lakecolor": "white",
           "landcolor": "#E5ECF6",
           "showlakes": true,
           "showland": true,
           "subunitcolor": "white"
          },
          "hoverlabel": {
           "align": "left"
          },
          "hovermode": "closest",
          "mapbox": {
           "style": "light"
          },
          "paper_bgcolor": "white",
          "plot_bgcolor": "#E5ECF6",
          "polar": {
           "angularaxis": {
            "gridcolor": "white",
            "linecolor": "white",
            "ticks": ""
           },
           "bgcolor": "#E5ECF6",
           "radialaxis": {
            "gridcolor": "white",
            "linecolor": "white",
            "ticks": ""
           }
          },
          "scene": {
           "xaxis": {
            "backgroundcolor": "#E5ECF6",
            "gridcolor": "white",
            "gridwidth": 2,
            "linecolor": "white",
            "showbackground": true,
            "ticks": "",
            "zerolinecolor": "white"
           },
           "yaxis": {
            "backgroundcolor": "#E5ECF6",
            "gridcolor": "white",
            "gridwidth": 2,
            "linecolor": "white",
            "showbackground": true,
            "ticks": "",
            "zerolinecolor": "white"
           },
           "zaxis": {
            "backgroundcolor": "#E5ECF6",
            "gridcolor": "white",
            "gridwidth": 2,
            "linecolor": "white",
            "showbackground": true,
            "ticks": "",
            "zerolinecolor": "white"
           }
          },
          "shapedefaults": {
           "line": {
            "color": "#2a3f5f"
           }
          },
          "ternary": {
           "aaxis": {
            "gridcolor": "white",
            "linecolor": "white",
            "ticks": ""
           },
           "baxis": {
            "gridcolor": "white",
            "linecolor": "white",
            "ticks": ""
           },
           "bgcolor": "#E5ECF6",
           "caxis": {
            "gridcolor": "white",
            "linecolor": "white",
            "ticks": ""
           }
          },
          "title": {
           "x": 0.05
          },
          "xaxis": {
           "automargin": true,
           "gridcolor": "white",
           "linecolor": "white",
           "ticks": "",
           "title": {
            "standoff": 15
           },
           "zerolinecolor": "white",
           "zerolinewidth": 2
          },
          "yaxis": {
           "automargin": true,
           "gridcolor": "white",
           "linecolor": "white",
           "ticks": "",
           "title": {
            "standoff": 15
           },
           "zerolinecolor": "white",
           "zerolinewidth": 2
          }
         }
        }
       }
      },
      "text/html": [
       "<div>\n",
       "        \n",
       "        \n",
       "            <div id=\"3ac0fbcf-64bc-493b-a7ef-d51c9706661b\" class=\"plotly-graph-div\" style=\"height:525px; width:100%;\"></div>\n",
       "            <script type=\"text/javascript\">\n",
       "                require([\"plotly\"], function(Plotly) {\n",
       "                    window.PLOTLYENV=window.PLOTLYENV || {};\n",
       "                    \n",
       "                if (document.getElementById(\"3ac0fbcf-64bc-493b-a7ef-d51c9706661b\")) {\n",
       "                    Plotly.newPlot(\n",
       "                        '3ac0fbcf-64bc-493b-a7ef-d51c9706661b',\n",
       "                        [{\"marker\": {\"color\": \"rgb(204, 102, 0)\", \"opacity\": 0.5}, \"mode\": \"markers\", \"type\": \"scatter3d\", \"x\": [0.0], \"y\": [0.0], \"z\": [1.0]}, {\"marker\": {\"color\": \"rgb(204, 102, 0)\", \"opacity\": 0.5}, \"mode\": \"markers\", \"type\": \"scatter3d\", \"x\": [0.0], \"y\": [0.32469946920468346], \"z\": [0.9458172417006346]}, {\"marker\": {\"color\": \"rgb(204, 102, 0)\", \"opacity\": 0.5}, \"mode\": \"markers\", \"type\": \"scatter3d\", \"x\": [0.0], \"y\": [0.6142127126896678], \"z\": [0.7891405093963936]}, {\"marker\": {\"color\": \"rgb(204, 102, 0)\", \"opacity\": 0.5}, \"mode\": \"markers\", \"type\": \"scatter3d\", \"x\": [0.0], \"y\": [0.8371664782625285], \"z\": [0.546948158122427]}, {\"marker\": {\"color\": \"rgb(204, 102, 0)\", \"opacity\": 0.5}, \"mode\": \"markers\", \"type\": \"scatter3d\", \"x\": [0.0], \"y\": [0.9694002659393304], \"z\": [0.24548548714079924]}, {\"marker\": {\"color\": \"rgb(204, 102, 0)\", \"opacity\": 0.5}, \"mode\": \"markers\", \"type\": \"scatter3d\", \"x\": [0.0], \"y\": [0.9965844930066698], \"z\": [-0.08257934547233227]}, {\"marker\": {\"color\": \"rgb(204, 102, 0)\", \"opacity\": 0.5}, \"mode\": \"markers\", \"type\": \"scatter3d\", \"x\": [0.0], \"y\": [0.9157733266550575], \"z\": [-0.40169542465296926]}, {\"marker\": {\"color\": \"rgb(204, 102, 0)\", \"opacity\": 0.5}, \"mode\": \"markers\", \"type\": \"scatter3d\", \"x\": [0.0], \"y\": [0.7357239106731318], \"z\": [-0.6772815716257409]}, {\"marker\": {\"color\": \"rgb(204, 102, 0)\", \"opacity\": 0.5}, \"mode\": \"markers\", \"type\": \"scatter3d\", \"x\": [0.0], \"y\": [0.4759473930370737], \"z\": [-0.879473751206489]}, {\"marker\": {\"color\": \"rgb(204, 102, 0)\", \"opacity\": 0.5}, \"mode\": \"markers\", \"type\": \"scatter3d\", \"x\": [0.0], \"y\": [0.16459459028073403], \"z\": [-0.9863613034027223]}, {\"marker\": {\"color\": \"rgb(204, 102, 0)\", \"opacity\": 0.5}, \"mode\": \"markers\", \"type\": \"scatter3d\", \"x\": [0.0], \"y\": [-0.16459459028073378], \"z\": [-0.9863613034027224]}, {\"marker\": {\"color\": \"rgb(204, 102, 0)\", \"opacity\": 0.5}, \"mode\": \"markers\", \"type\": \"scatter3d\", \"x\": [0.0], \"y\": [-0.4759473930370735], \"z\": [-0.8794737512064891]}, {\"marker\": {\"color\": \"rgb(204, 102, 0)\", \"opacity\": 0.5}, \"mode\": \"markers\", \"type\": \"scatter3d\", \"x\": [0.0], \"y\": [-0.7357239106731313], \"z\": [-0.6772815716257414]}, {\"marker\": {\"color\": \"rgb(204, 102, 0)\", \"opacity\": 0.5}, \"mode\": \"markers\", \"type\": \"scatter3d\", \"x\": [0.0], \"y\": [-0.9157733266550573], \"z\": [-0.40169542465296987]}, {\"marker\": {\"color\": \"rgb(204, 102, 0)\", \"opacity\": 0.5}, \"mode\": \"markers\", \"type\": \"scatter3d\", \"x\": [0.0], \"y\": [-0.9965844930066698], \"z\": [-0.08257934547233274]}, {\"marker\": {\"color\": \"rgb(204, 102, 0)\", \"opacity\": 0.5}, \"mode\": \"markers\", \"type\": \"scatter3d\", \"x\": [0.0], \"y\": [-0.9694002659393305], \"z\": [0.2454854871407988]}, {\"marker\": {\"color\": \"rgb(204, 102, 0)\", \"opacity\": 0.5}, \"mode\": \"markers\", \"type\": \"scatter3d\", \"x\": [0.0], \"y\": [-0.8371664782625288], \"z\": [0.5469481581224266]}, {\"marker\": {\"color\": \"rgb(204, 102, 0)\", \"opacity\": 0.5}, \"mode\": \"markers\", \"type\": \"scatter3d\", \"x\": [0.0], \"y\": [-0.614212712689668], \"z\": [0.7891405093963934]}, {\"marker\": {\"color\": \"rgb(204, 102, 0)\", \"opacity\": 0.5}, \"mode\": \"markers\", \"type\": \"scatter3d\", \"x\": [0.0], \"y\": [-0.32469946920468373], \"z\": [0.9458172417006346]}, {\"marker\": {\"color\": \"rgb(204, 102, 0)\", \"opacity\": 0.5}, \"mode\": \"markers\", \"type\": \"scatter3d\", \"x\": [0.0], \"y\": [-2.4492935982947064e-16], \"z\": [1.0]}, {\"marker\": {\"color\": \"rgb(204, 102, 0)\", \"opacity\": 0.5}, \"mode\": \"markers\", \"type\": \"scatter3d\", \"x\": [0.0], \"y\": [-2.4492935982947064e-16], \"z\": [1.0]}, {\"marker\": {\"color\": \"rgb(204, 102, 0)\", \"opacity\": 0.5}, \"mode\": \"markers\", \"type\": \"scatter3d\", \"x\": [0.0], \"y\": [0.32469946920468323], \"z\": [0.9458172417006347]}, {\"marker\": {\"color\": \"rgb(204, 102, 0)\", \"opacity\": 0.5}, \"mode\": \"markers\", \"type\": \"scatter3d\", \"x\": [0.0], \"y\": [0.6142127126896676], \"z\": [0.7891405093963937]}, {\"marker\": {\"color\": \"rgb(204, 102, 0)\", \"opacity\": 0.5}, \"mode\": \"markers\", \"type\": \"scatter3d\", \"x\": [0.0], \"y\": [0.8371664782625284], \"z\": [0.5469481581224273]}, {\"marker\": {\"color\": \"rgb(204, 102, 0)\", \"opacity\": 0.5}, \"mode\": \"markers\", \"type\": \"scatter3d\", \"x\": [0.0], \"y\": [0.9694002659393303], \"z\": [0.24548548714079949]}, {\"marker\": {\"color\": \"rgb(204, 102, 0)\", \"opacity\": 0.5}, \"mode\": \"markers\", \"type\": \"scatter3d\", \"x\": [0.0], \"y\": [0.9965844930066698], \"z\": [-0.08257934547233202]}, {\"marker\": {\"color\": \"rgb(204, 102, 0)\", \"opacity\": 0.5}, \"mode\": \"markers\", \"type\": \"scatter3d\", \"x\": [0.0], \"y\": [0.9157733266550576], \"z\": [-0.40169542465296904]}, {\"marker\": {\"color\": \"rgb(204, 102, 0)\", \"opacity\": 0.5}, \"mode\": \"markers\", \"type\": \"scatter3d\", \"x\": [0.0], \"y\": [0.7357239106731319], \"z\": [-0.6772815716257407]}, {\"marker\": {\"color\": \"rgb(204, 102, 0)\", \"opacity\": 0.5}, \"mode\": \"markers\", \"type\": \"scatter3d\", \"x\": [0.0], \"y\": [0.4759473930370739], \"z\": [-0.8794737512064889]}, {\"marker\": {\"color\": \"rgb(204, 102, 0)\", \"opacity\": 0.5}, \"mode\": \"markers\", \"type\": \"scatter3d\", \"x\": [0.0], \"y\": [0.16459459028073428], \"z\": [-0.9863613034027223]}, {\"marker\": {\"color\": \"rgb(204, 102, 0)\", \"opacity\": 0.5}, \"mode\": \"markers\", \"type\": \"scatter3d\", \"x\": [0.0], \"y\": [-0.16459459028073353], \"z\": [-0.9863613034027224]}, {\"marker\": {\"color\": \"rgb(204, 102, 0)\", \"opacity\": 0.5}, \"mode\": \"markers\", \"type\": \"scatter3d\", \"x\": [0.0], \"y\": [-0.4759473930370733], \"z\": [-0.8794737512064892]}, {\"marker\": {\"color\": \"rgb(204, 102, 0)\", \"opacity\": 0.5}, \"mode\": \"markers\", \"type\": \"scatter3d\", \"x\": [0.0], \"y\": [-0.7357239106731311], \"z\": [-0.6772815716257417]}, {\"marker\": {\"color\": \"rgb(204, 102, 0)\", \"opacity\": 0.5}, \"mode\": \"markers\", \"type\": \"scatter3d\", \"x\": [0.0], \"y\": [-0.9157733266550572], \"z\": [-0.4016954246529701]}, {\"marker\": {\"color\": \"rgb(204, 102, 0)\", \"opacity\": 0.5}, \"mode\": \"markers\", \"type\": \"scatter3d\", \"x\": [0.0], \"y\": [-0.9965844930066698], \"z\": [-0.08257934547233299]}, {\"marker\": {\"color\": \"rgb(204, 102, 0)\", \"opacity\": 0.5}, \"mode\": \"markers\", \"type\": \"scatter3d\", \"x\": [0.0], \"y\": [-0.9694002659393306], \"z\": [0.24548548714079854]}, {\"marker\": {\"color\": \"rgb(204, 102, 0)\", \"opacity\": 0.5}, \"mode\": \"markers\", \"type\": \"scatter3d\", \"x\": [0.0], \"y\": [-0.8371664782625289], \"z\": [0.5469481581224264]}, {\"marker\": {\"color\": \"rgb(204, 102, 0)\", \"opacity\": 0.5}, \"mode\": \"markers\", \"type\": \"scatter3d\", \"x\": [0.0], \"y\": [-0.6142127126896683], \"z\": [0.7891405093963932]}, {\"marker\": {\"color\": \"rgb(204, 102, 0)\", \"opacity\": 0.5}, \"mode\": \"markers\", \"type\": \"scatter3d\", \"x\": [0.0], \"y\": [-0.32469946920468395], \"z\": [0.9458172417006345]}, {\"marker\": {\"color\": \"rgb(204, 102, 0)\", \"opacity\": 0.5}, \"mode\": \"markers\", \"type\": \"scatter3d\", \"x\": [0.0], \"y\": [-4.898587196589413e-16], \"z\": [1.0]}, {\"marker\": {\"color\": \"rgb(204, 102, 0)\", \"opacity\": 0.5}, \"mode\": \"markers\", \"type\": \"scatter3d\", \"x\": [-0.1645945902807339], \"y\": [-4.831776852059821e-16], \"z\": [0.9863613034027223]}, {\"marker\": {\"color\": \"rgb(204, 102, 0)\", \"opacity\": 0.5}, \"mode\": \"markers\", \"type\": \"scatter3d\", \"x\": [-0.15567640137816982], \"y\": [0.32469946920468296], \"z\": [0.9329175273046058]}, {\"marker\": {\"color\": \"rgb(204, 102, 0)\", \"opacity\": 0.5}, \"mode\": \"markers\", \"type\": \"scatter3d\", \"x\": [-0.12988825881802907], \"y\": [0.6142127126896674], \"z\": [0.7783776614161153]}, {\"marker\": {\"color\": \"rgb(204, 102, 0)\", \"opacity\": 0.5}, \"mode\": \"markers\", \"type\": \"scatter3d\", \"x\": [-0.09002470799096296], \"y\": [0.8371664782625282], \"z\": [0.5394884981393558]}, {\"marker\": {\"color\": \"rgb(204, 102, 0)\", \"opacity\": 0.5}, \"mode\": \"markers\", \"type\": \"scatter3d\", \"x\": [-0.04040558317580626], \"y\": [0.9694002659393302], \"z\": [0.24213738506265142]}, {\"marker\": {\"color\": \"rgb(204, 102, 0)\", \"opacity\": 0.5}, \"mode\": \"markers\", \"type\": \"scatter3d\", \"x\": [0.013592113533669667], \"y\": [0.9965844930066697], \"z\": [-0.08145307083423287]}, {\"marker\": {\"color\": \"rgb(204, 102, 0)\", \"opacity\": 0.5}, \"mode\": \"markers\", \"type\": \"scatter3d\", \"x\": [0.06611689383840084], \"y\": [0.9157733266550576], \"z\": [-0.39621682263161234]}, {\"marker\": {\"color\": \"rgb(204, 102, 0)\", \"opacity\": 0.5}, \"mode\": \"markers\", \"type\": \"scatter3d\", \"x\": [0.11147688278643032], \"y\": [0.735723910673132], \"z\": [-0.6680443337594096]}, {\"marker\": {\"color\": \"rgb(204, 102, 0)\", \"opacity\": 0.5}, \"mode\": \"markers\", \"type\": \"scatter3d\", \"x\": [0.14475662174249213], \"y\": [0.47594739303707406], \"z\": [-0.8674788755485138]}, {\"marker\": {\"color\": \"rgb(204, 102, 0)\", \"opacity\": 0.5}, \"mode\": \"markers\", \"type\": \"scatter3d\", \"x\": [0.16234973460234173], \"y\": [0.16459459028073448], \"z\": [-0.9729086208503172]}, {\"marker\": {\"color\": \"rgb(204, 102, 0)\", \"opacity\": 0.5}, \"mode\": \"markers\", \"type\": \"scatter3d\", \"x\": [0.16234973460234176], \"y\": [-0.16459459028073328], \"z\": [-0.9729086208503175]}, {\"marker\": {\"color\": \"rgb(204, 102, 0)\", \"opacity\": 0.5}, \"mode\": \"markers\", \"type\": \"scatter3d\", \"x\": [0.14475662174249218], \"y\": [-0.475947393037073], \"z\": [-0.8674788755485143]}, {\"marker\": {\"color\": \"rgb(204, 102, 0)\", \"opacity\": 0.5}, \"mode\": \"markers\", \"type\": \"scatter3d\", \"x\": [0.11147688278643046], \"y\": [-0.7357239106731308], \"z\": [-0.6680443337594109]}, {\"marker\": {\"color\": \"rgb(204, 102, 0)\", \"opacity\": 0.5}, \"mode\": \"markers\", \"type\": \"scatter3d\", \"x\": [0.06611689383840103], \"y\": [-0.915773326655057], \"z\": [-0.39621682263161384]}, {\"marker\": {\"color\": \"rgb(204, 102, 0)\", \"opacity\": 0.5}, \"mode\": \"markers\", \"type\": \"scatter3d\", \"x\": [0.013592113533669825], \"y\": [-0.9965844930066697], \"z\": [-0.08145307083423431]}, {\"marker\": {\"color\": \"rgb(204, 102, 0)\", \"opacity\": 0.5}, \"mode\": \"markers\", \"type\": \"scatter3d\", \"x\": [-0.04040558317580611], \"y\": [-0.9694002659393305], \"z\": [0.24213738506265006]}, {\"marker\": {\"color\": \"rgb(204, 102, 0)\", \"opacity\": 0.5}, \"mode\": \"markers\", \"type\": \"scatter3d\", \"x\": [-0.09002470799096284], \"y\": [-0.8371664782625289], \"z\": [0.5394884981393545]}, {\"marker\": {\"color\": \"rgb(204, 102, 0)\", \"opacity\": 0.5}, \"mode\": \"markers\", \"type\": \"scatter3d\", \"x\": [-0.12988825881802898], \"y\": [-0.6142127126896683], \"z\": [0.7783776614161144]}, {\"marker\": {\"color\": \"rgb(204, 102, 0)\", \"opacity\": 0.5}, \"mode\": \"markers\", \"type\": \"scatter3d\", \"x\": [-0.15567640137816982], \"y\": [-0.3246994692046841], \"z\": [0.9329175273046055]}, {\"marker\": {\"color\": \"rgb(204, 102, 0)\", \"opacity\": 0.5}, \"mode\": \"markers\", \"type\": \"scatter3d\", \"x\": [-0.1645945902807339], \"y\": [-7.281070450354526e-16], \"z\": [0.9863613034027223]}, {\"marker\": {\"color\": \"rgb(204, 102, 0)\", \"opacity\": 0.5}, \"mode\": \"markers\", \"type\": \"scatter3d\", \"x\": [-0.47594739303707345], \"y\": [-6.886561969982315e-16], \"z\": [0.879473751206489]}, {\"marker\": {\"color\": \"rgb(204, 102, 0)\", \"opacity\": 0.5}, \"mode\": \"markers\", \"type\": \"scatter3d\", \"x\": [-0.4501592504769327], \"y\": [0.32469946920468273], \"z\": [0.8318214375142318]}, {\"marker\": {\"color\": \"rgb(204, 102, 0)\", \"opacity\": 0.5}, \"mode\": \"markers\", \"type\": \"scatter3d\", \"x\": [-0.3755893681871618], \"y\": [0.6142127126896672], \"z\": [0.6940283640278463]}, {\"marker\": {\"color\": \"rgb(204, 102, 0)\", \"opacity\": 0.5}, \"mode\": \"markers\", \"type\": \"scatter3d\", \"x\": [-0.26031854998479836], \"y\": [0.837166478262528], \"z\": [0.48102654833941133]}, {\"marker\": {\"color\": \"rgb(204, 102, 0)\", \"opacity\": 0.5}, \"mode\": \"markers\", \"type\": \"scatter3d\", \"x\": [-0.11683817763309963], \"y\": [0.9694002659393299], \"z\": [0.21589804224247164]}, {\"marker\": {\"color\": \"rgb(204, 102, 0)\", \"opacity\": 0.5}, \"mode\": \"markers\", \"type\": \"scatter3d\", \"x\": [0.039303424196264175], \"y\": [0.9965844930066697], \"z\": [-0.07262636673472798]}, {\"marker\": {\"color\": \"rgb(204, 102, 0)\", \"opacity\": 0.5}, \"mode\": \"markers\", \"type\": \"scatter3d\", \"x\": [0.19118589015850068], \"y\": [0.9157733266550575], \"z\": [-0.3532805819620298]}, {\"marker\": {\"color\": \"rgb(204, 102, 0)\", \"opacity\": 0.5}, \"mode\": \"markers\", \"type\": \"scatter3d\", \"x\": [0.32235039836732315], \"y\": [0.7357239106731321], \"z\": [-0.5956513644207162]}, {\"marker\": {\"color\": \"rgb(204, 102, 0)\", \"opacity\": 0.5}, \"mode\": \"markers\", \"type\": \"scatter3d\", \"x\": [0.41858323913126405], \"y\": [0.4759473930370742], \"z\": [-0.7734740790612129]}, {\"marker\": {\"color\": \"rgb(204, 102, 0)\", \"opacity\": 0.5}, \"mode\": \"markers\", \"type\": \"scatter3d\", \"x\": [0.4694560909471755], \"y\": [0.16459459028073467], \"z\": [-0.8674788755485139]}, {\"marker\": {\"color\": \"rgb(204, 102, 0)\", \"opacity\": 0.5}, \"mode\": \"markers\", \"type\": \"scatter3d\", \"x\": [0.46945609094717566], \"y\": [-0.1645945902807331], \"z\": [-0.8674788755485142]}, {\"marker\": {\"color\": \"rgb(204, 102, 0)\", \"opacity\": 0.5}, \"mode\": \"markers\", \"type\": \"scatter3d\", \"x\": [0.41858323913126433], \"y\": [-0.4759473930370728], \"z\": [-0.7734740790612137]}, {\"marker\": {\"color\": \"rgb(204, 102, 0)\", \"opacity\": 0.5}, \"mode\": \"markers\", \"type\": \"scatter3d\", \"x\": [0.32235039836732376], \"y\": [-0.7357239106731307], \"z\": [-0.5956513644207176]}, {\"marker\": {\"color\": \"rgb(204, 102, 0)\", \"opacity\": 0.5}, \"mode\": \"markers\", \"type\": \"scatter3d\", \"x\": [0.19118589015850138], \"y\": [-0.9157733266550568], \"z\": [-0.35328058196203155]}, {\"marker\": {\"color\": \"rgb(204, 102, 0)\", \"opacity\": 0.5}, \"mode\": \"markers\", \"type\": \"scatter3d\", \"x\": [0.03930342419626485], \"y\": [-0.9965844930066695], \"z\": [-0.07262636673472973]}, {\"marker\": {\"color\": \"rgb(204, 102, 0)\", \"opacity\": 0.5}, \"mode\": \"markers\", \"type\": \"scatter3d\", \"x\": [-0.11683817763309898], \"y\": [-0.9694002659393305], \"z\": [0.21589804224246997]}, {\"marker\": {\"color\": \"rgb(204, 102, 0)\", \"opacity\": 0.5}, \"mode\": \"markers\", \"type\": \"scatter3d\", \"x\": [-0.2603185499847978], \"y\": [-0.8371664782625289], \"z\": [0.48102654833940983]}, {\"marker\": {\"color\": \"rgb(204, 102, 0)\", \"opacity\": 0.5}, \"mode\": \"markers\", \"type\": \"scatter3d\", \"x\": [-0.3755893681871615], \"y\": [-0.6142127126896685], \"z\": [0.6940283640278452]}, {\"marker\": {\"color\": \"rgb(204, 102, 0)\", \"opacity\": 0.5}, \"mode\": \"markers\", \"type\": \"scatter3d\", \"x\": [-0.4501592504769326], \"y\": [-0.32469946920468434], \"z\": [0.8318214375142313]}, {\"marker\": {\"color\": \"rgb(204, 102, 0)\", \"opacity\": 0.5}, \"mode\": \"markers\", \"type\": \"scatter3d\", \"x\": [-0.47594739303707345], \"y\": [-9.335855568277022e-16], \"z\": [0.879473751206489]}, {\"marker\": {\"color\": \"rgb(204, 102, 0)\", \"opacity\": 0.5}, \"mode\": \"markers\", \"type\": \"scatter3d\", \"x\": [-0.8371664782625284], \"y\": [-8.21063991735458e-16], \"z\": [0.5469481581224267]}, {\"marker\": {\"color\": \"rgb(204, 102, 0)\", \"opacity\": 0.5}, \"mode\": \"markers\", \"type\": \"scatter3d\", \"x\": [-0.7918064893144992], \"y\": [0.3246994692046825], \"z\": [0.5173129982685964]}, {\"marker\": {\"color\": \"rgb(204, 102, 0)\", \"opacity\": 0.5}, \"mode\": \"markers\", \"type\": \"scatter3d\", \"x\": [-0.6606419811056768], \"y\": [0.6142127126896669], \"z\": [0.4316189481141514]}, {\"marker\": {\"color\": \"rgb(204, 102, 0)\", \"opacity\": 0.5}, \"mode\": \"markers\", \"type\": \"scatter3d\", \"x\": [-0.4578866633275292], \"y\": [0.8371664782625278], \"z\": [0.2991522876735158]}, {\"marker\": {\"color\": \"rgb(204, 102, 0)\", \"opacity\": 0.5}, \"mode\": \"markers\", \"type\": \"scatter3d\", \"x\": [-0.20551222073422457], \"y\": [0.9694002659393297], \"z\": [0.13426783503744735]}, {\"marker\": {\"color\": \"rgb(204, 102, 0)\", \"opacity\": 0.5}, \"mode\": \"markers\", \"type\": \"scatter3d\", \"x\": [0.0691326598262966], \"y\": [0.9965844930066695], \"z\": [-0.045166620905047125]}, {\"marker\": {\"color\": \"rgb(204, 102, 0)\", \"opacity\": 0.5}, \"mode\": \"markers\", \"type\": \"scatter3d\", \"x\": [0.33628594399089673], \"y\": [0.9157733266550574], \"z\": [-0.21970657264014706]}, {\"marker\": {\"color\": \"rgb(204, 102, 0)\", \"opacity\": 0.5}, \"mode\": \"markers\", \"type\": \"scatter3d\", \"x\": [0.5669974281100315], \"y\": [0.735723910673132], \"z\": [-0.37043790813096106]}, {\"marker\": {\"color\": \"rgb(204, 102, 0)\", \"opacity\": 0.5}, \"mode\": \"markers\", \"type\": \"scatter3d\", \"x\": [0.7362659430218715], \"y\": [0.4759473930370742], \"z\": [-0.48102654833941033]}, {\"marker\": {\"color\": \"rgb(204, 102, 0)\", \"opacity\": 0.5}, \"mode\": \"markers\", \"type\": \"scatter3d\", \"x\": [0.8257486186640944], \"y\": [0.16459459028073475], \"z\": [-0.5394884981393551]}, {\"marker\": {\"color\": \"rgb(204, 102, 0)\", \"opacity\": 0.5}, \"mode\": \"markers\", \"type\": \"scatter3d\", \"x\": [0.8257486186640948], \"y\": [-0.1645945902807329], \"z\": [-0.5394884981393554]}, {\"marker\": {\"color\": \"rgb(204, 102, 0)\", \"opacity\": 0.5}, \"mode\": \"markers\", \"type\": \"scatter3d\", \"x\": [0.736265943021872], \"y\": [-0.47594739303707256], \"z\": [-0.48102654833941094]}, {\"marker\": {\"color\": \"rgb(204, 102, 0)\", \"opacity\": 0.5}, \"mode\": \"markers\", \"type\": \"scatter3d\", \"x\": [0.566997428110033], \"y\": [-0.7357239106731304], \"z\": [-0.3704379081309622]}, {\"marker\": {\"color\": \"rgb(204, 102, 0)\", \"opacity\": 0.5}, \"mode\": \"markers\", \"type\": \"scatter3d\", \"x\": [0.33628594399089823], \"y\": [-0.9157733266550565], \"z\": [-0.21970657264014856]}, {\"marker\": {\"color\": \"rgb(204, 102, 0)\", \"opacity\": 0.5}, \"mode\": \"markers\", \"type\": \"scatter3d\", \"x\": [0.06913265982629814], \"y\": [-0.9965844930066693], \"z\": [-0.045166620905048645]}, {\"marker\": {\"color\": \"rgb(204, 102, 0)\", \"opacity\": 0.5}, \"mode\": \"markers\", \"type\": \"scatter3d\", \"x\": [-0.2055122207342231], \"y\": [-0.9694002659393303], \"z\": [0.1342678350374459]}, {\"marker\": {\"color\": \"rgb(204, 102, 0)\", \"opacity\": 0.5}, \"mode\": \"markers\", \"type\": \"scatter3d\", \"x\": [-0.45788666332752787], \"y\": [-0.8371664782625289], \"z\": [0.2991522876735145]}, {\"marker\": {\"color\": \"rgb(204, 102, 0)\", \"opacity\": 0.5}, \"mode\": \"markers\", \"type\": \"scatter3d\", \"x\": [-0.6606419811056761], \"y\": [-0.6142127126896685], \"z\": [0.4316189481141505]}, {\"marker\": {\"color\": \"rgb(204, 102, 0)\", \"opacity\": 0.5}, \"mode\": \"markers\", \"type\": \"scatter3d\", \"x\": [-0.7918064893144987], \"y\": [-0.32469946920468434], \"z\": [0.517312998268596]}, {\"marker\": {\"color\": \"rgb(204, 102, 0)\", \"opacity\": 0.5}, \"mode\": \"markers\", \"type\": \"scatter3d\", \"x\": [-0.8371664782625284], \"y\": [-1.0659933515649286e-15], \"z\": [0.5469481581224267]}, {\"marker\": {\"color\": \"rgb(204, 102, 0)\", \"opacity\": 0.5}, \"mode\": \"markers\", \"type\": \"scatter3d\", \"x\": [-0.9965844930066695], \"y\": [-8.412185364671165e-16], \"z\": [-0.08257934547233246]}, {\"marker\": {\"color\": \"rgb(204, 102, 0)\", \"opacity\": 0.5}, \"mode\": \"markers\", \"type\": \"scatter3d\", \"x\": [-0.9425867962971939], \"y\": [0.3246994692046825], \"z\": [-0.0781049687560852]}, {\"marker\": {\"color\": \"rgb(204, 102, 0)\", \"opacity\": 0.5}, \"mode\": \"markers\", \"type\": \"scatter3d\", \"x\": [-0.7864451944678303], \"y\": [0.6142127126896668], \"z\": [-0.06516670675165706]}, {\"marker\": {\"color\": \"rgb(204, 102, 0)\", \"opacity\": 0.5}, \"mode\": \"markers\", \"type\": \"scatter3d\", \"x\": [-0.5450800528633714], \"y\": [0.8371664782625277], \"z\": [-0.045166620905047604]}, {\"marker\": {\"color\": \"rgb(204, 102, 0)\", \"opacity\": 0.5}, \"mode\": \"markers\", \"type\": \"scatter3d\", \"x\": [-0.24464702974270938], \"y\": [0.9694002659393296], \"z\": [-0.02027203085104363]}, {\"marker\": {\"color\": \"rgb(204, 102, 0)\", \"opacity\": 0.5}, \"mode\": \"markers\", \"type\": \"scatter3d\", \"x\": [0.08229729514036621], \"y\": [0.9965844930066694], \"z\": [0.006819348298639089]}, {\"marker\": {\"color\": \"rgb(204, 102, 0)\", \"opacity\": 0.5}, \"mode\": \"markers\", \"type\": \"scatter3d\", \"x\": [0.4003234311208777], \"y\": [0.9157733266550573], \"z\": [0.033171745247073094]}, {\"marker\": {\"color\": \"rgb(204, 102, 0)\", \"opacity\": 0.5}, \"mode\": \"markers\", \"type\": \"scatter3d\", \"x\": [0.6749683116813989], \"y\": [0.7357239106731319], \"z\": [0.05592946888532656]}, {\"marker\": {\"color\": \"rgb(204, 102, 0)\", \"opacity\": 0.5}, \"mode\": \"markers\", \"type\": \"scatter3d\", \"x\": [0.8764699024587925], \"y\": [0.4759473930370741], \"z\": [0.07262636673472897]}, {\"marker\": {\"color\": \"rgb(204, 102, 0)\", \"opacity\": 0.5}, \"mode\": \"markers\", \"type\": \"scatter3d\", \"x\": [0.982992379473], \"y\": [0.16459459028073478], \"z\": [0.08145307083423362]}, {\"marker\": {\"color\": \"rgb(204, 102, 0)\", \"opacity\": 0.5}, \"mode\": \"markers\", \"type\": \"scatter3d\", \"x\": [0.9829923794730003], \"y\": [-0.16459459028073287], \"z\": [0.08145307083423355]}, {\"marker\": {\"color\": \"rgb(204, 102, 0)\", \"opacity\": 0.5}, \"mode\": \"markers\", \"type\": \"scatter3d\", \"x\": [0.8764699024587935], \"y\": [-0.4759473930370725], \"z\": [0.07262636673472873]}, {\"marker\": {\"color\": \"rgb(204, 102, 0)\", \"opacity\": 0.5}, \"mode\": \"markers\", \"type\": \"scatter3d\", \"x\": [0.6749683116814008], \"y\": [-0.7357239106731303], \"z\": [0.055929468885326225]}, {\"marker\": {\"color\": \"rgb(204, 102, 0)\", \"opacity\": 0.5}, \"mode\": \"markers\", \"type\": \"scatter3d\", \"x\": [0.40032343112087987], \"y\": [-0.9157733266550564], \"z\": [0.033171745247072684]}, {\"marker\": {\"color\": \"rgb(204, 102, 0)\", \"opacity\": 0.5}, \"mode\": \"markers\", \"type\": \"scatter3d\", \"x\": [0.0822972951403684], \"y\": [-0.9965844930066692], \"z\": [0.006819348298638624]}, {\"marker\": {\"color\": \"rgb(204, 102, 0)\", \"opacity\": 0.5}, \"mode\": \"markers\", \"type\": \"scatter3d\", \"x\": [-0.24464702974270727], \"y\": [-0.9694002659393302], \"z\": [-0.02027203085104409]}, {\"marker\": {\"color\": \"rgb(204, 102, 0)\", \"opacity\": 0.5}, \"mode\": \"markers\", \"type\": \"scatter3d\", \"x\": [-0.5450800528633694], \"y\": [-0.8371664782625288], \"z\": [-0.045166620905048]}, {\"marker\": {\"color\": \"rgb(204, 102, 0)\", \"opacity\": 0.5}, \"mode\": \"markers\", \"type\": \"scatter3d\", \"x\": [-0.786445194467829], \"y\": [-0.6142127126896684], \"z\": [-0.06516670675165734]}, {\"marker\": {\"color\": \"rgb(204, 102, 0)\", \"opacity\": 0.5}, \"mode\": \"markers\", \"type\": \"scatter3d\", \"x\": [-0.9425867962971932], \"y\": [-0.32469946920468434], \"z\": [-0.07810496875608537]}, {\"marker\": {\"color\": \"rgb(204, 102, 0)\", \"opacity\": 0.5}, \"mode\": \"markers\", \"type\": \"scatter3d\", \"x\": [-0.9965844930066695], \"y\": [-1.0861478962965869e-15], \"z\": [-0.08257934547233246]}, {\"marker\": {\"color\": \"rgb(204, 102, 0)\", \"opacity\": 0.5}, \"mode\": \"markers\", \"type\": \"scatter3d\", \"x\": [-0.6142127126896673], \"y\": [-7.356279542217445e-16], \"z\": [-0.7891405093963934]}, {\"marker\": {\"color\": \"rgb(204, 102, 0)\", \"opacity\": 0.5}, \"mode\": \"markers\", \"type\": \"scatter3d\", \"x\": [-0.5809329737336058], \"y\": [0.32469946920468246], \"z\": [-0.7463826999115306]}, {\"marker\": {\"color\": \"rgb(204, 102, 0)\", \"opacity\": 0.5}, \"mode\": \"markers\", \"type\": \"scatter3d\", \"x\": [-0.48470013296966513], \"y\": [0.6142127126896667], \"z\": [-0.6227427435703996]}, {\"marker\": {\"color\": \"rgb(204, 102, 0)\", \"opacity\": 0.5}, \"mode\": \"markers\", \"type\": \"scatter3d\", \"x\": [-0.33594251190099356], \"y\": [0.8371664782625273], \"z\": [-0.4316189481141514]}, {\"marker\": {\"color\": \"rgb(204, 102, 0)\", \"opacity\": 0.5}, \"mode\": \"markers\", \"type\": \"scatter3d\", \"x\": [-0.15078030698269537], \"y\": [0.9694002659393293], \"z\": [-0.19372254237171227]}, {\"marker\": {\"color\": \"rgb(204, 102, 0)\", \"opacity\": 0.5}, \"mode\": \"markers\", \"type\": \"scatter3d\", \"x\": [0.05072128379469778], \"y\": [0.9965844930066691], \"z\": [0.0651667067516569]}, {\"marker\": {\"color\": \"rgb(204, 102, 0)\", \"opacity\": 0.5}, \"mode\": \"markers\", \"type\": \"scatter3d\", \"x\": [0.2467264364511276], \"y\": [0.9157733266550571], \"z\": [0.3169941320328446]}, {\"marker\": {\"color\": \"rgb(204, 102, 0)\", \"opacity\": 0.5}, \"mode\": \"markers\", \"type\": \"scatter3d\", \"x\": [0.41599495136296716], \"y\": [0.7357239106731316], \"z\": [0.5344703244375272]}, {\"marker\": {\"color\": \"rgb(204, 102, 0)\", \"opacity\": 0.5}, \"mode\": \"markers\", \"type\": \"scatter3d\", \"x\": [0.540183958467895], \"y\": [0.4759473930370739], \"z\": [0.6940283640278458]}, {\"marker\": {\"color\": \"rgb(204, 102, 0)\", \"opacity\": 0.5}, \"mode\": \"markers\", \"type\": \"scatter3d\", \"x\": [0.6058356518551021], \"y\": [0.16459459028073462], \"z\": [0.7783776614161151]}, {\"marker\": {\"color\": \"rgb(204, 102, 0)\", \"opacity\": 0.5}, \"mode\": \"markers\", \"type\": \"scatter3d\", \"x\": [0.6058356518551024], \"y\": [-0.16459459028073292], \"z\": [0.7783776614161152]}, {\"marker\": {\"color\": \"rgb(204, 102, 0)\", \"opacity\": 0.5}, \"mode\": \"markers\", \"type\": \"scatter3d\", \"x\": [0.5401839584678957], \"y\": [-0.4759473930370724], \"z\": [0.6940283640278462]}, {\"marker\": {\"color\": \"rgb(204, 102, 0)\", \"opacity\": 0.5}, \"mode\": \"markers\", \"type\": \"scatter3d\", \"x\": [0.4159949513629686], \"y\": [-0.7357239106731301], \"z\": [0.5344703244375281]}, {\"marker\": {\"color\": \"rgb(204, 102, 0)\", \"opacity\": 0.5}, \"mode\": \"markers\", \"type\": \"scatter3d\", \"x\": [0.24672643645112935], \"y\": [-0.9157733266550562], \"z\": [0.31699413203284577]}, {\"marker\": {\"color\": \"rgb(204, 102, 0)\", \"opacity\": 0.5}, \"mode\": \"markers\", \"type\": \"scatter3d\", \"x\": [0.0507212837946996], \"y\": [-0.9965844930066688], \"z\": [0.06516670675165794]}, {\"marker\": {\"color\": \"rgb(204, 102, 0)\", \"opacity\": 0.5}, \"mode\": \"markers\", \"type\": \"scatter3d\", \"x\": [-0.1507803069826936], \"y\": [-0.9694002659393298], \"z\": [-0.19372254237171124]}, {\"marker\": {\"color\": \"rgb(204, 102, 0)\", \"opacity\": 0.5}, \"mode\": \"markers\", \"type\": \"scatter3d\", \"x\": [-0.335942511900992], \"y\": [-0.8371664782625284], \"z\": [-0.43161894811415047]}, {\"marker\": {\"color\": \"rgb(204, 102, 0)\", \"opacity\": 0.5}, \"mode\": \"markers\", \"type\": \"scatter3d\", \"x\": [-0.48470013296966413], \"y\": [-0.614212712689668], \"z\": [-0.6227427435703989]}, {\"marker\": {\"color\": \"rgb(204, 102, 0)\", \"opacity\": 0.5}, \"mode\": \"markers\", \"type\": \"scatter3d\", \"x\": [-0.5809329737336053], \"y\": [-0.3246994692046842], \"z\": [-0.7463826999115304]}, {\"marker\": {\"color\": \"rgb(204, 102, 0)\", \"opacity\": 0.5}, \"mode\": \"markers\", \"type\": \"scatter3d\", \"x\": [-0.6142127126896673], \"y\": [-9.805573140512149e-16], \"z\": [-0.7891405093963934]}, {\"marker\": {\"color\": \"rgb(204, 102, 0)\", \"opacity\": 0.5}, \"mode\": \"markers\", \"type\": \"scatter3d\", \"x\": [0.3246994692046837], \"y\": [-5.363140168537859e-16], \"z\": [-0.9458172417006341]}, {\"marker\": {\"color\": \"rgb(204, 102, 0)\", \"opacity\": 0.5}, \"mode\": \"markers\", \"type\": \"scatter3d\", \"x\": [0.307106356344834], \"y\": [0.3246994692046827], \"z\": [-0.8945702546981964]}, {\"marker\": {\"color\": \"rgb(204, 102, 0)\", \"opacity\": 0.5}, \"mode\": \"markers\", \"type\": \"scatter3d\", \"x\": [0.25623350452892246], \"y\": [0.6142127126896668], \"z\": [-0.7463826999115306]}, {\"marker\": {\"color\": \"rgb(204, 102, 0)\", \"opacity\": 0.5}, \"mode\": \"markers\", \"type\": \"scatter3d\", \"x\": [0.1775937766248312], \"y\": [0.8371664782625274], \"z\": [-0.5173129982685966]}, {\"marker\": {\"color\": \"rgb(204, 102, 0)\", \"opacity\": 0.5}, \"mode\": \"markers\", \"type\": \"scatter3d\", \"x\": [0.07970900737207037], \"y\": [0.9694002659393294], \"z\": [-0.23218440632504755]}, {\"marker\": {\"color\": \"rgb(204, 102, 0)\", \"opacity\": 0.5}, \"mode\": \"markers\", \"type\": \"scatter3d\", \"x\": [-0.026813469642136867], \"y\": [0.996584493006669], \"z\": [0.07810496875608487]}, {\"marker\": {\"color\": \"rgb(204, 102, 0)\", \"opacity\": 0.5}, \"mode\": \"markers\", \"type\": \"scatter3d\", \"x\": [-0.13043029116676952], \"y\": [0.915773326655057], \"z\": [0.3799304585490363]}, {\"marker\": {\"color\": \"rgb(204, 102, 0)\", \"opacity\": 0.5}, \"mode\": \"markers\", \"type\": \"scatter3d\", \"x\": [-0.21991296680899242], \"y\": [0.7357239106731315], \"z\": [0.6405845879297289]}, {\"marker\": {\"color\": \"rgb(204, 102, 0)\", \"opacity\": 0.5}, \"mode\": \"markers\", \"type\": \"scatter3d\", \"x\": [-0.28556466019619936], \"y\": [0.4759473930370737], \"z\": [0.8318214375142315]}, {\"marker\": {\"color\": \"rgb(204, 102, 0)\", \"opacity\": 0.5}, \"mode\": \"markers\", \"type\": \"scatter3d\", \"x\": [-0.3202709916589042], \"y\": [0.16459459028073442], \"z\": [0.9329175273046059]}, {\"marker\": {\"color\": \"rgb(204, 102, 0)\", \"opacity\": 0.5}, \"mode\": \"markers\", \"type\": \"scatter3d\", \"x\": [-0.32027099165890416], \"y\": [-0.16459459028073312], \"z\": [0.9329175273046062]}, {\"marker\": {\"color\": \"rgb(204, 102, 0)\", \"opacity\": 0.5}, \"mode\": \"markers\", \"type\": \"scatter3d\", \"x\": [-0.2855646601961992], \"y\": [-0.4759473930370726], \"z\": [0.8318214375142323]}, {\"marker\": {\"color\": \"rgb(204, 102, 0)\", \"opacity\": 0.5}, \"mode\": \"markers\", \"type\": \"scatter3d\", \"x\": [-0.21991296680899228], \"y\": [-0.7357239106731303], \"z\": [0.6405845879297303]}, {\"marker\": {\"color\": \"rgb(204, 102, 0)\", \"opacity\": 0.5}, \"mode\": \"markers\", \"type\": \"scatter3d\", \"x\": [-0.13043029116676932], \"y\": [-0.9157733266550563], \"z\": [0.37993045854903806]}, {\"marker\": {\"color\": \"rgb(204, 102, 0)\", \"opacity\": 0.5}, \"mode\": \"markers\", \"type\": \"scatter3d\", \"x\": [-0.02681346964213657], \"y\": [-0.996584493006669], \"z\": [0.07810496875608659]}, {\"marker\": {\"color\": \"rgb(204, 102, 0)\", \"opacity\": 0.5}, \"mode\": \"markers\", \"type\": \"scatter3d\", \"x\": [0.07970900737207068], \"y\": [-0.9694002659393297], \"z\": [-0.23218440632504583]}, {\"marker\": {\"color\": \"rgb(204, 102, 0)\", \"opacity\": 0.5}, \"mode\": \"markers\", \"type\": \"scatter3d\", \"x\": [0.17759377662483145], \"y\": [-0.8371664782625283], \"z\": [-0.517312998268595]}, {\"marker\": {\"color\": \"rgb(204, 102, 0)\", \"opacity\": 0.5}, \"mode\": \"markers\", \"type\": \"scatter3d\", \"x\": [0.25623350452892274], \"y\": [-0.6142127126896679], \"z\": [-0.7463826999115295]}, {\"marker\": {\"color\": \"rgb(204, 102, 0)\", \"opacity\": 0.5}, \"mode\": \"markers\", \"type\": \"scatter3d\", \"x\": [0.30710635634483413], \"y\": [-0.32469946920468395], \"z\": [-0.894570254698196]}, {\"marker\": {\"color\": \"rgb(204, 102, 0)\", \"opacity\": 0.5}, \"mode\": \"markers\", \"type\": \"scatter3d\", \"x\": [0.3246994692046837], \"y\": [-7.812433766832562e-16], \"z\": [-0.9458172417006341]}, {\"marker\": {\"color\": \"rgb(204, 102, 0)\", \"opacity\": 0.5}, \"mode\": \"markers\", \"type\": \"scatter3d\", \"x\": [0.9965844930066692], \"y\": [-3.138218899541001e-16], \"z\": [-0.08257934547233167]}, {\"marker\": {\"color\": \"rgb(204, 102, 0)\", \"opacity\": 0.5}, \"mode\": \"markers\", \"type\": \"scatter3d\", \"x\": [0.9425867962971933], \"y\": [0.3246994692046828], \"z\": [-0.07810496875608468]}, {\"marker\": {\"color\": \"rgb(204, 102, 0)\", \"opacity\": 0.5}, \"mode\": \"markers\", \"type\": \"scatter3d\", \"x\": [0.7864451944678297], \"y\": [0.6142127126896668], \"z\": [-0.06516670675165684]}, {\"marker\": {\"color\": \"rgb(204, 102, 0)\", \"opacity\": 0.5}, \"mode\": \"markers\", \"type\": \"scatter3d\", \"x\": [0.5450800528633705], \"y\": [0.8371664782625273], \"z\": [-0.04516662090504772]}, {\"marker\": {\"color\": \"rgb(204, 102, 0)\", \"opacity\": 0.5}, \"mode\": \"markers\", \"type\": \"scatter3d\", \"x\": [0.24464702974270852], \"y\": [0.969400265939329], \"z\": [-0.02027203085104407]}, {\"marker\": {\"color\": \"rgb(204, 102, 0)\", \"opacity\": 0.5}, \"mode\": \"markers\", \"type\": \"scatter3d\", \"x\": [-0.08229729514036709], \"y\": [0.9965844930066686], \"z\": [0.006819348298638381]}, {\"marker\": {\"color\": \"rgb(204, 102, 0)\", \"opacity\": 0.5}, \"mode\": \"markers\", \"type\": \"scatter3d\", \"x\": [-0.4003234311208784], \"y\": [0.9157733266550565], \"z\": [0.0331717452470722]}, {\"marker\": {\"color\": \"rgb(204, 102, 0)\", \"opacity\": 0.5}, \"mode\": \"markers\", \"type\": \"scatter3d\", \"x\": [-0.6749683116813996], \"y\": [0.7357239106731311], \"z\": [0.055929468885325566]}, {\"marker\": {\"color\": \"rgb(204, 102, 0)\", \"opacity\": 0.5}, \"mode\": \"markers\", \"type\": \"scatter3d\", \"x\": [-0.8764699024587931], \"y\": [0.4759473930370734], \"z\": [0.072626366734728]}, {\"marker\": {\"color\": \"rgb(204, 102, 0)\", \"opacity\": 0.5}, \"mode\": \"markers\", \"type\": \"scatter3d\", \"x\": [-0.9829923794730004], \"y\": [0.16459459028073414], \"z\": [0.08145307083423278]}, {\"marker\": {\"color\": \"rgb(204, 102, 0)\", \"opacity\": 0.5}, \"mode\": \"markers\", \"type\": \"scatter3d\", \"x\": [-0.9829923794730006], \"y\": [-0.16459459028073328], \"z\": [0.08145307083423292]}, {\"marker\": {\"color\": \"rgb(204, 102, 0)\", \"opacity\": 0.5}, \"mode\": \"markers\", \"type\": \"scatter3d\", \"x\": [-0.8764699024587934], \"y\": [-0.4759473930370727], \"z\": [0.0726263667347284]}, {\"marker\": {\"color\": \"rgb(204, 102, 0)\", \"opacity\": 0.5}, \"mode\": \"markers\", \"type\": \"scatter3d\", \"x\": [-0.6749683116814006], \"y\": [-0.7357239106731301], \"z\": [0.055929468885326225]}, {\"marker\": {\"color\": \"rgb(204, 102, 0)\", \"opacity\": 0.5}, \"mode\": \"markers\", \"type\": \"scatter3d\", \"x\": [-0.4003234311208796], \"y\": [-0.9157733266550561], \"z\": [0.03317174524707301]}, {\"marker\": {\"color\": \"rgb(204, 102, 0)\", \"opacity\": 0.5}, \"mode\": \"markers\", \"type\": \"scatter3d\", \"x\": [-0.08229729514036811], \"y\": [-0.9965844930066686], \"z\": [0.006819348298639254]}, {\"marker\": {\"color\": \"rgb(204, 102, 0)\", \"opacity\": 0.5}, \"mode\": \"markers\", \"type\": \"scatter3d\", \"x\": [0.24464702974270752], \"y\": [-0.9694002659393294], \"z\": [-0.020272030851043222]}, {\"marker\": {\"color\": \"rgb(204, 102, 0)\", \"opacity\": 0.5}, \"mode\": \"markers\", \"type\": \"scatter3d\", \"x\": [0.5450800528633696], \"y\": [-0.837166478262528], \"z\": [-0.04516662090504698]}, {\"marker\": {\"color\": \"rgb(204, 102, 0)\", \"opacity\": 0.5}, \"mode\": \"markers\", \"type\": \"scatter3d\", \"x\": [0.786445194467829], \"y\": [-0.6142127126896675], \"z\": [-0.06516670675165628]}, {\"marker\": {\"color\": \"rgb(204, 102, 0)\", \"opacity\": 0.5}, \"mode\": \"markers\", \"type\": \"scatter3d\", \"x\": [0.9425867962971931], \"y\": [-0.3246994692046836], \"z\": [-0.0781049687560844]}, {\"marker\": {\"color\": \"rgb(204, 102, 0)\", \"opacity\": 0.5}, \"mode\": \"markers\", \"type\": \"scatter3d\", \"x\": [0.9965844930066692], \"y\": [-5.587512497835705e-16], \"z\": [-0.08257934547233167]}, {\"marker\": {\"color\": \"rgb(204, 102, 0)\", \"opacity\": 0.5}, \"mode\": \"markers\", \"type\": \"scatter3d\", \"x\": [0.3246994692046825], \"y\": [-1.3716532274364994e-16], \"z\": [0.9458172417006342]}, {\"marker\": {\"color\": \"rgb(204, 102, 0)\", \"opacity\": 0.5}, \"mode\": \"markers\", \"type\": \"scatter3d\", \"x\": [0.3071063563448331], \"y\": [0.3246994692046829], \"z\": [0.8945702546981963]}, {\"marker\": {\"color\": \"rgb(204, 102, 0)\", \"opacity\": 0.5}, \"mode\": \"markers\", \"type\": \"scatter3d\", \"x\": [0.2562335045289219], \"y\": [0.6142127126896669], \"z\": [0.7463826999115303]}, {\"marker\": {\"color\": \"rgb(204, 102, 0)\", \"opacity\": 0.5}, \"mode\": \"markers\", \"type\": \"scatter3d\", \"x\": [0.17759377662483106], \"y\": [0.8371664782625273], \"z\": [0.517312998268596]}, {\"marker\": {\"color\": \"rgb(204, 102, 0)\", \"opacity\": 0.5}, \"mode\": \"markers\", \"type\": \"scatter3d\", \"x\": [0.07970900737207066], \"y\": [0.969400265939329], \"z\": [0.23218440632504697]}, {\"marker\": {\"color\": \"rgb(204, 102, 0)\", \"opacity\": 0.5}, \"mode\": \"markers\", \"type\": \"scatter3d\", \"x\": [-0.026813469642136184], \"y\": [0.9965844930066685], \"z\": [-0.0781049687560855]}, {\"marker\": {\"color\": \"rgb(204, 102, 0)\", \"opacity\": 0.5}, \"mode\": \"markers\", \"type\": \"scatter3d\", \"x\": [-0.13043029116676852], \"y\": [0.9157733266550563], \"z\": [-0.3799304585490369]}, {\"marker\": {\"color\": \"rgb(204, 102, 0)\", \"opacity\": 0.5}, \"mode\": \"markers\", \"type\": \"scatter3d\", \"x\": [-0.2199129668089912], \"y\": [0.7357239106731309], \"z\": [-0.6405845879297294]}, {\"marker\": {\"color\": \"rgb(204, 102, 0)\", \"opacity\": 0.5}, \"mode\": \"markers\", \"type\": \"scatter3d\", \"x\": [-0.2855646601961981], \"y\": [0.4759473930370732], \"z\": [-0.831821437514232]}, {\"marker\": {\"color\": \"rgb(204, 102, 0)\", \"opacity\": 0.5}, \"mode\": \"markers\", \"type\": \"scatter3d\", \"x\": [-0.32027099165890294], \"y\": [0.16459459028073395], \"z\": [-0.9329175273046061]}, {\"marker\": {\"color\": \"rgb(204, 102, 0)\", \"opacity\": 0.5}, \"mode\": \"markers\", \"type\": \"scatter3d\", \"x\": [-0.3202709916589031], \"y\": [-0.16459459028073342], \"z\": [-0.9329175273046062]}, {\"marker\": {\"color\": \"rgb(204, 102, 0)\", \"opacity\": 0.5}, \"mode\": \"markers\", \"type\": \"scatter3d\", \"x\": [-0.28556466019619847], \"y\": [-0.4759473930370728], \"z\": [-0.8318214375142321]}, {\"marker\": {\"color\": \"rgb(204, 102, 0)\", \"opacity\": 0.5}, \"mode\": \"markers\", \"type\": \"scatter3d\", \"x\": [-0.21991296680899192], \"y\": [-0.7357239106731301], \"z\": [-0.6405845879297299]}, {\"marker\": {\"color\": \"rgb(204, 102, 0)\", \"opacity\": 0.5}, \"mode\": \"markers\", \"type\": \"scatter3d\", \"x\": [-0.13043029116676938], \"y\": [-0.9157733266550561], \"z\": [-0.3799304585490375]}, {\"marker\": {\"color\": \"rgb(204, 102, 0)\", \"opacity\": 0.5}, \"mode\": \"markers\", \"type\": \"scatter3d\", \"x\": [-0.02681346964213706], \"y\": [-0.9965844930066685], \"z\": [-0.078104968756086]}, {\"marker\": {\"color\": \"rgb(204, 102, 0)\", \"opacity\": 0.5}, \"mode\": \"markers\", \"type\": \"scatter3d\", \"x\": [0.07970900737206982], \"y\": [-0.9694002659393292], \"z\": [0.23218440632504647]}, {\"marker\": {\"color\": \"rgb(204, 102, 0)\", \"opacity\": 0.5}, \"mode\": \"markers\", \"type\": \"scatter3d\", \"x\": [0.1775937766248303], \"y\": [-0.8371664782625278], \"z\": [0.5173129982685956]}, {\"marker\": {\"color\": \"rgb(204, 102, 0)\", \"opacity\": 0.5}, \"mode\": \"markers\", \"type\": \"scatter3d\", \"x\": [0.2562335045289214], \"y\": [-0.6142127126896674], \"z\": [0.7463826999115301]}, {\"marker\": {\"color\": \"rgb(204, 102, 0)\", \"opacity\": 0.5}, \"mode\": \"markers\", \"type\": \"scatter3d\", \"x\": [0.30710635634483285], \"y\": [-0.3246994692046834], \"z\": [0.8945702546981963]}, {\"marker\": {\"color\": \"rgb(204, 102, 0)\", \"opacity\": 0.5}, \"mode\": \"markers\", \"type\": \"scatter3d\", \"x\": [0.3246994692046825], \"y\": [-3.820946825731202e-16], \"z\": [0.9458172417006342]}, {\"marker\": {\"color\": \"rgb(204, 102, 0)\", \"opacity\": 0.5}, \"mode\": \"markers\", \"type\": \"scatter3d\", \"x\": [-0.9157733266550571], \"y\": [-3.155312879534672e-17], \"z\": [0.4016954246529684]}, {\"marker\": {\"color\": \"rgb(204, 102, 0)\", \"opacity\": 0.5}, \"mode\": \"markers\", \"type\": \"scatter3d\", \"x\": [-0.8661542018399003], \"y\": [0.32469946920468296], \"z\": [0.37993045854903584]}, {\"marker\": {\"color\": \"rgb(204, 102, 0)\", \"opacity\": 0.5}, \"mode\": \"markers\", \"type\": \"scatter3d\", \"x\": [-0.7226738294882017], \"y\": [0.614212712689667], \"z\": [0.3169941320328443]}, {\"marker\": {\"color\": \"rgb(204, 102, 0)\", \"opacity\": 0.5}, \"mode\": \"markers\", \"type\": \"scatter3d\", \"x\": [-0.5008805342716309], \"y\": [0.8371664782625274], \"z\": [0.21970657264014742]}, {\"marker\": {\"color\": \"rgb(204, 102, 0)\", \"opacity\": 0.5}, \"mode\": \"markers\", \"type\": \"scatter3d\", \"x\": [-0.22480906120446667], \"y\": [0.969400265939329], \"z\": [0.09861039700316433]}, {\"marker\": {\"color\": \"rgb(204, 102, 0)\", \"opacity\": 0.5}, \"mode\": \"markers\", \"type\": \"scatter3d\", \"x\": [0.0756239619161953], \"y\": [0.9965844930066685], \"z\": [-0.03317174524707255]}, {\"marker\": {\"color\": \"rgb(204, 102, 0)\", \"opacity\": 0.5}, \"mode\": \"markers\", \"type\": \"scatter3d\", \"x\": [0.36786195533656585], \"y\": [0.9157733266550563], \"z\": [-0.1613592141871289]}, {\"marker\": {\"color\": \"rgb(204, 102, 0)\", \"opacity\": 0.5}, \"mode\": \"markers\", \"type\": \"scatter3d\", \"x\": [0.6202363979298706], \"y\": [0.7357239106731308], \"z\": [-0.27206090852383186]}, {\"marker\": {\"color\": \"rgb(204, 102, 0)\", \"opacity\": 0.5}, \"mode\": \"markers\", \"type\": \"scatter3d\", \"x\": [0.8053986028481689], \"y\": [0.47594739303707306], \"z\": [-0.35328058196202977]}, {\"marker\": {\"color\": \"rgb(204, 102, 0)\", \"opacity\": 0.5}, \"mode\": \"markers\", \"type\": \"scatter3d\", \"x\": [0.9032833721009297], \"y\": [0.16459459028073384], \"z\": [-0.3962168226316121]}, {\"marker\": {\"color\": \"rgb(204, 102, 0)\", \"opacity\": 0.5}, \"mode\": \"markers\", \"type\": \"scatter3d\", \"x\": [0.9032833721009297], \"y\": [-0.16459459028073353], \"z\": [-0.3962168226316123]}, {\"marker\": {\"color\": \"rgb(204, 102, 0)\", \"opacity\": 0.5}, \"mode\": \"markers\", \"type\": \"scatter3d\", \"x\": [0.805398602848169], \"y\": [-0.4759473930370729], \"z\": [-0.35328058196203005]}, {\"marker\": {\"color\": \"rgb(204, 102, 0)\", \"opacity\": 0.5}, \"mode\": \"markers\", \"type\": \"scatter3d\", \"x\": [0.6202363979298708], \"y\": [-0.7357239106731303], \"z\": [-0.2720609085238324]}, {\"marker\": {\"color\": \"rgb(204, 102, 0)\", \"opacity\": 0.5}, \"mode\": \"markers\", \"type\": \"scatter3d\", \"x\": [0.3678619553365663], \"y\": [-0.9157733266550561], \"z\": [-0.16135921418712962]}, {\"marker\": {\"color\": \"rgb(204, 102, 0)\", \"opacity\": 0.5}, \"mode\": \"markers\", \"type\": \"scatter3d\", \"x\": [0.07562396191619557], \"y\": [-0.9965844930066685], \"z\": [-0.03317174524707327]}, {\"marker\": {\"color\": \"rgb(204, 102, 0)\", \"opacity\": 0.5}, \"mode\": \"markers\", \"type\": \"scatter3d\", \"x\": [-0.22480906120446642], \"y\": [-0.9694002659393292], \"z\": [0.09861039700316365]}, {\"marker\": {\"color\": \"rgb(204, 102, 0)\", \"opacity\": 0.5}, \"mode\": \"markers\", \"type\": \"scatter3d\", \"x\": [-0.5008805342716308], \"y\": [-0.8371664782625277], \"z\": [0.21970657264014679]}, {\"marker\": {\"color\": \"rgb(204, 102, 0)\", \"opacity\": 0.5}, \"mode\": \"markers\", \"type\": \"scatter3d\", \"x\": [-0.7226738294882015], \"y\": [-0.6142127126896673], \"z\": [0.3169941320328439]}, {\"marker\": {\"color\": \"rgb(204, 102, 0)\", \"opacity\": 0.5}, \"mode\": \"markers\", \"type\": \"scatter3d\", \"x\": [-0.8661542018399003], \"y\": [-0.32469946920468334], \"z\": [0.3799304585490356]}, {\"marker\": {\"color\": \"rgb(204, 102, 0)\", \"opacity\": 0.5}, \"mode\": \"markers\", \"type\": \"scatter3d\", \"x\": [-0.9157733266550571], \"y\": [-2.76482488624817e-16], \"z\": [0.4016954246529684]}, {\"marker\": {\"color\": \"rgb(204, 102, 0)\", \"opacity\": 0.5}, \"mode\": \"markers\", \"type\": \"scatter3d\", \"x\": [-0.32469946920468246], \"y\": [2.283174294519901e-17], \"z\": [-0.9458172417006342]}, {\"marker\": {\"color\": \"rgb(204, 102, 0)\", \"opacity\": 0.5}, \"mode\": \"markers\", \"type\": \"scatter3d\", \"x\": [-0.30710635634483296], \"y\": [0.324699469204683], \"z\": [-0.8945702546981963]}, {\"marker\": {\"color\": \"rgb(204, 102, 0)\", \"opacity\": 0.5}, \"mode\": \"markers\", \"type\": \"scatter3d\", \"x\": [-0.25623350452892185], \"y\": [0.614212712689667], \"z\": [-0.7463826999115303]}, {\"marker\": {\"color\": \"rgb(204, 102, 0)\", \"opacity\": 0.5}, \"mode\": \"markers\", \"type\": \"scatter3d\", \"x\": [-0.17759377662483095], \"y\": [0.8371664782625274], \"z\": [-0.5173129982685961]}, {\"marker\": {\"color\": \"rgb(204, 102, 0)\", \"opacity\": 0.5}, \"mode\": \"markers\", \"type\": \"scatter3d\", \"x\": [-0.07970900737207061], \"y\": [0.969400265939329], \"z\": [-0.23218440632504717]}, {\"marker\": {\"color\": \"rgb(204, 102, 0)\", \"opacity\": 0.5}, \"mode\": \"markers\", \"type\": \"scatter3d\", \"x\": [0.026813469642136184], \"y\": [0.9965844930066685], \"z\": [0.07810496875608516]}, {\"marker\": {\"color\": \"rgb(204, 102, 0)\", \"opacity\": 0.5}, \"mode\": \"markers\", \"type\": \"scatter3d\", \"x\": [0.13043029116676844], \"y\": [0.9157733266550563], \"z\": [0.3799304585490364]}, {\"marker\": {\"color\": \"rgb(204, 102, 0)\", \"opacity\": 0.5}, \"mode\": \"markers\", \"type\": \"scatter3d\", \"x\": [0.21991296680899106], \"y\": [0.7357239106731308], \"z\": [0.6405845879297288]}, {\"marker\": {\"color\": \"rgb(204, 102, 0)\", \"opacity\": 0.5}, \"mode\": \"markers\", \"type\": \"scatter3d\", \"x\": [0.2855646601961978], \"y\": [0.47594739303707306], \"z\": [0.8318214375142312]}, {\"marker\": {\"color\": \"rgb(204, 102, 0)\", \"opacity\": 0.5}, \"mode\": \"markers\", \"type\": \"scatter3d\", \"x\": [0.3202709916589026], \"y\": [0.16459459028073378], \"z\": [0.9329175273046052]}, {\"marker\": {\"color\": \"rgb(204, 102, 0)\", \"opacity\": 0.5}, \"mode\": \"markers\", \"type\": \"scatter3d\", \"x\": [0.32027099165890277], \"y\": [-0.1645945902807336], \"z\": [0.9329175273046053]}, {\"marker\": {\"color\": \"rgb(204, 102, 0)\", \"opacity\": 0.5}, \"mode\": \"markers\", \"type\": \"scatter3d\", \"x\": [0.2855646601961981], \"y\": [-0.4759473930370729], \"z\": [0.8318214375142313]}, {\"marker\": {\"color\": \"rgb(204, 102, 0)\", \"opacity\": 0.5}, \"mode\": \"markers\", \"type\": \"scatter3d\", \"x\": [0.2199129668089915], \"y\": [-0.7357239106731303], \"z\": [0.6405845879297292]}, {\"marker\": {\"color\": \"rgb(204, 102, 0)\", \"opacity\": 0.5}, \"mode\": \"markers\", \"type\": \"scatter3d\", \"x\": [0.13043029116676902], \"y\": [-0.9157733266550561], \"z\": [0.3799304585490368]}, {\"marker\": {\"color\": \"rgb(204, 102, 0)\", \"opacity\": 0.5}, \"mode\": \"markers\", \"type\": \"scatter3d\", \"x\": [0.02681346964213674], \"y\": [-0.9965844930066685], \"z\": [0.07810496875608541]}, {\"marker\": {\"color\": \"rgb(204, 102, 0)\", \"opacity\": 0.5}, \"mode\": \"markers\", \"type\": \"scatter3d\", \"x\": [-0.07970900737207007], \"y\": [-0.9694002659393292], \"z\": [-0.2321844063250469]}, {\"marker\": {\"color\": \"rgb(204, 102, 0)\", \"opacity\": 0.5}, \"mode\": \"markers\", \"type\": \"scatter3d\", \"x\": [-0.17759377662483047], \"y\": [-0.8371664782625277], \"z\": [-0.5173129982685959]}, {\"marker\": {\"color\": \"rgb(204, 102, 0)\", \"opacity\": 0.5}, \"mode\": \"markers\", \"type\": \"scatter3d\", \"x\": [-0.2562335045289215], \"y\": [-0.6142127126896673], \"z\": [-0.7463826999115303]}, {\"marker\": {\"color\": \"rgb(204, 102, 0)\", \"opacity\": 0.5}, \"mode\": \"markers\", \"type\": \"scatter3d\", \"x\": [-0.30710635634483285], \"y\": [-0.3246994692046833], \"z\": [-0.8945702546981963]}, {\"marker\": {\"color\": \"rgb(204, 102, 0)\", \"opacity\": 0.5}, \"mode\": \"markers\", \"type\": \"scatter3d\", \"x\": [-0.32469946920468246], \"y\": [-2.2209761688427127e-16], \"z\": [-0.9458172417006342]}, {\"marker\": {\"color\": \"rgb(204, 102, 0)\", \"opacity\": 0.5}, \"mode\": \"markers\", \"type\": \"scatter3d\", \"x\": [0.9965844930066692], \"y\": [5.4521741673645914e-17], \"z\": [-0.08257934547233148]}, {\"marker\": {\"color\": \"rgb(204, 102, 0)\", \"opacity\": 0.5}, \"mode\": \"markers\", \"type\": \"scatter3d\", \"x\": [0.9425867962971932], \"y\": [0.32469946920468307], \"z\": [-0.0781049687560844]}, {\"marker\": {\"color\": \"rgb(204, 102, 0)\", \"opacity\": 0.5}, \"mode\": \"markers\", \"type\": \"scatter3d\", \"x\": [0.7864451944678296], \"y\": [0.614212712689667], \"z\": [-0.06516670675165655]}, {\"marker\": {\"color\": \"rgb(204, 102, 0)\", \"opacity\": 0.5}, \"mode\": \"markers\", \"type\": \"scatter3d\", \"x\": [0.5450800528633705], \"y\": [0.8371664782625274], \"z\": [-0.04516662090504744]}, {\"marker\": {\"color\": \"rgb(204, 102, 0)\", \"opacity\": 0.5}, \"mode\": \"markers\", \"type\": \"scatter3d\", \"x\": [0.24464702974270874], \"y\": [0.969400265939329], \"z\": [-0.020272030851043836]}, {\"marker\": {\"color\": \"rgb(204, 102, 0)\", \"opacity\": 0.5}, \"mode\": \"markers\", \"type\": \"scatter3d\", \"x\": [-0.08229729514036663], \"y\": [0.9965844930066685], \"z\": [0.006819348298638539]}, {\"marker\": {\"color\": \"rgb(204, 102, 0)\", \"opacity\": 0.5}, \"mode\": \"markers\", \"type\": \"scatter3d\", \"x\": [-0.4003234311208777], \"y\": [0.9157733266550563], \"z\": [0.03317174524707226]}, {\"marker\": {\"color\": \"rgb(204, 102, 0)\", \"opacity\": 0.5}, \"mode\": \"markers\", \"type\": \"scatter3d\", \"x\": [-0.6749683116813986], \"y\": [0.7357239106731308], \"z\": [0.0559294688853255]}, {\"marker\": {\"color\": \"rgb(204, 102, 0)\", \"opacity\": 0.5}, \"mode\": \"markers\", \"type\": \"scatter3d\", \"x\": [-0.8764699024587919], \"y\": [0.475947393037073], \"z\": [0.07262636673472783]}, {\"marker\": {\"color\": \"rgb(204, 102, 0)\", \"opacity\": 0.5}, \"mode\": \"markers\", \"type\": \"scatter3d\", \"x\": [-0.9829923794729989], \"y\": [0.16459459028073375], \"z\": [0.0814530708342325]}, {\"marker\": {\"color\": \"rgb(204, 102, 0)\", \"opacity\": 0.5}, \"mode\": \"markers\", \"type\": \"scatter3d\", \"x\": [-0.982992379472999], \"y\": [-0.16459459028073362], \"z\": [0.08145307083423257]}, {\"marker\": {\"color\": \"rgb(204, 102, 0)\", \"opacity\": 0.5}, \"mode\": \"markers\", \"type\": \"scatter3d\", \"x\": [-0.876469902458792], \"y\": [-0.47594739303707295], \"z\": [0.07262636673472801]}, {\"marker\": {\"color\": \"rgb(204, 102, 0)\", \"opacity\": 0.5}, \"mode\": \"markers\", \"type\": \"scatter3d\", \"x\": [-0.6749683116813991], \"y\": [-0.7357239106731303], \"z\": [0.055929468885325816]}, {\"marker\": {\"color\": \"rgb(204, 102, 0)\", \"opacity\": 0.5}, \"mode\": \"markers\", \"type\": \"scatter3d\", \"x\": [-0.4003234311208782], \"y\": [-0.9157733266550561], \"z\": [0.03317174524707263]}, {\"marker\": {\"color\": \"rgb(204, 102, 0)\", \"opacity\": 0.5}, \"mode\": \"markers\", \"type\": \"scatter3d\", \"x\": [-0.08229729514036696], \"y\": [-0.9965844930066685], \"z\": [0.0068193482986389315]}, {\"marker\": {\"color\": \"rgb(204, 102, 0)\", \"opacity\": 0.5}, \"mode\": \"markers\", \"type\": \"scatter3d\", \"x\": [0.2446470297427084], \"y\": [-0.9694002659393292], \"z\": [-0.020272030851043454]}, {\"marker\": {\"color\": \"rgb(204, 102, 0)\", \"opacity\": 0.5}, \"mode\": \"markers\", \"type\": \"scatter3d\", \"x\": [0.5450800528633702], \"y\": [-0.8371664782625277], \"z\": [-0.04516662090504711]}, {\"marker\": {\"color\": \"rgb(204, 102, 0)\", \"opacity\": 0.5}, \"mode\": \"markers\", \"type\": \"scatter3d\", \"x\": [0.7864451944678293], \"y\": [-0.6142127126896673], \"z\": [-0.0651667067516563]}, {\"marker\": {\"color\": \"rgb(204, 102, 0)\", \"opacity\": 0.5}, \"mode\": \"markers\", \"type\": \"scatter3d\", \"x\": [0.9425867962971932], \"y\": [-0.32469946920468323], \"z\": [-0.07810496875608429]}, {\"marker\": {\"color\": \"rgb(204, 102, 0)\", \"opacity\": 0.5}, \"mode\": \"markers\", \"type\": \"scatter3d\", \"x\": [0.9965844930066692], \"y\": [-1.9040761815582438e-16], \"z\": [-0.08257934547233148]}, {\"marker\": {\"color\": \"rgb(204, 102, 0)\", \"opacity\": 0.5}, \"mode\": \"markers\", \"type\": \"scatter3d\", \"x\": [-0.32469946920468373], \"y\": [7.648586903226422e-17], \"z\": [0.9458172417006337]}, {\"marker\": {\"color\": \"rgb(204, 102, 0)\", \"opacity\": 0.5}, \"mode\": \"markers\", \"type\": \"scatter3d\", \"x\": [-0.3071063563448341], \"y\": [0.3246994692046831], \"z\": [0.8945702546981958]}, {\"marker\": {\"color\": \"rgb(204, 102, 0)\", \"opacity\": 0.5}, \"mode\": \"markers\", \"type\": \"scatter3d\", \"x\": [-0.2562335045289227], \"y\": [0.6142127126896672], \"z\": [0.7463826999115302]}, {\"marker\": {\"color\": \"rgb(204, 102, 0)\", \"opacity\": 0.5}, \"mode\": \"markers\", \"type\": \"scatter3d\", \"x\": [-0.17759377662483142], \"y\": [0.8371664782625275], \"z\": [0.5173129982685962]}, {\"marker\": {\"color\": \"rgb(204, 102, 0)\", \"opacity\": 0.5}, \"mode\": \"markers\", \"type\": \"scatter3d\", \"x\": [-0.0797090073720707], \"y\": [0.9694002659393292], \"z\": [0.23218440632504755]}, {\"marker\": {\"color\": \"rgb(204, 102, 0)\", \"opacity\": 0.5}, \"mode\": \"markers\", \"type\": \"scatter3d\", \"x\": [0.02681346964213644], \"y\": [0.9965844930066686], \"z\": [-0.07810496875608443]}, {\"marker\": {\"color\": \"rgb(204, 102, 0)\", \"opacity\": 0.5}, \"mode\": \"markers\", \"type\": \"scatter3d\", \"x\": [0.13043029116676905], \"y\": [0.9157733266550564], \"z\": [-0.3799304585490353]}, {\"marker\": {\"color\": \"rgb(204, 102, 0)\", \"opacity\": 0.5}, \"mode\": \"markers\", \"type\": \"scatter3d\", \"x\": [0.21991296680899183], \"y\": [0.7357239106731309], \"z\": [-0.6405845879297275]}, {\"marker\": {\"color\": \"rgb(204, 102, 0)\", \"opacity\": 0.5}, \"mode\": \"markers\", \"type\": \"scatter3d\", \"x\": [0.2855646601961987], \"y\": [0.47594739303707306], \"z\": [-0.8318214375142297]}, {\"marker\": {\"color\": \"rgb(204, 102, 0)\", \"opacity\": 0.5}, \"mode\": \"markers\", \"type\": \"scatter3d\", \"x\": [0.32027099165890355], \"y\": [0.16459459028073375], \"z\": [-0.9329175273046036]}, {\"marker\": {\"color\": \"rgb(204, 102, 0)\", \"opacity\": 0.5}, \"mode\": \"markers\", \"type\": \"scatter3d\", \"x\": [0.3202709916589036], \"y\": [-0.16459459028073367], \"z\": [-0.9329175273046038]}, {\"marker\": {\"color\": \"rgb(204, 102, 0)\", \"opacity\": 0.5}, \"mode\": \"markers\", \"type\": \"scatter3d\", \"x\": [0.28556466019619864], \"y\": [-0.475947393037073], \"z\": [-0.8318214375142298]}, {\"marker\": {\"color\": \"rgb(204, 102, 0)\", \"opacity\": 0.5}, \"mode\": \"markers\", \"type\": \"scatter3d\", \"x\": [0.21991296680899178], \"y\": [-0.7357239106731304], \"z\": [-0.6405845879297279]}, {\"marker\": {\"color\": \"rgb(204, 102, 0)\", \"opacity\": 0.5}, \"mode\": \"markers\", \"type\": \"scatter3d\", \"x\": [0.1304302911667689], \"y\": [-0.9157733266550562], \"z\": [-0.3799304585490359]}, {\"marker\": {\"color\": \"rgb(204, 102, 0)\", \"opacity\": 0.5}, \"mode\": \"markers\", \"type\": \"scatter3d\", \"x\": [0.026813469642136264], \"y\": [-0.9965844930066686], \"z\": [-0.07810496875608482]}, {\"marker\": {\"color\": \"rgb(204, 102, 0)\", \"opacity\": 0.5}, \"mode\": \"markers\", \"type\": \"scatter3d\", \"x\": [-0.0797090073720709], \"y\": [-0.9694002659393293], \"z\": [0.2321844063250472]}, {\"marker\": {\"color\": \"rgb(204, 102, 0)\", \"opacity\": 0.5}, \"mode\": \"markers\", \"type\": \"scatter3d\", \"x\": [-0.17759377662483156], \"y\": [-0.8371664782625278], \"z\": [0.5173129982685958]}, {\"marker\": {\"color\": \"rgb(204, 102, 0)\", \"opacity\": 0.5}, \"mode\": \"markers\", \"type\": \"scatter3d\", \"x\": [-0.25623350452892285], \"y\": [-0.6142127126896672], \"z\": [0.74638269991153]}, {\"marker\": {\"color\": \"rgb(204, 102, 0)\", \"opacity\": 0.5}, \"mode\": \"markers\", \"type\": \"scatter3d\", \"x\": [-0.3071063563448342], \"y\": [-0.3246994692046833], \"z\": [0.8945702546981958]}, {\"marker\": {\"color\": \"rgb(204, 102, 0)\", \"opacity\": 0.5}, \"mode\": \"markers\", \"type\": \"scatter3d\", \"x\": [-0.32469946920468373], \"y\": [-1.684434907972061e-16], \"z\": [0.9458172417006337]}, {\"marker\": {\"color\": \"rgb(204, 102, 0)\", \"opacity\": 0.5}, \"mode\": \"markers\", \"type\": \"scatter3d\", \"x\": [-0.614212712689667], \"y\": [9.212985703924367e-17], \"z\": [-0.789140509396393]}, {\"marker\": {\"color\": \"rgb(204, 102, 0)\", \"opacity\": 0.5}, \"mode\": \"markers\", \"type\": \"scatter3d\", \"x\": [-0.5809329737336053], \"y\": [0.3246994692046831], \"z\": [-0.7463826999115302]}, {\"marker\": {\"color\": \"rgb(204, 102, 0)\", \"opacity\": 0.5}, \"mode\": \"markers\", \"type\": \"scatter3d\", \"x\": [-0.4847001329696647], \"y\": [0.6142127126896672], \"z\": [-0.622742743570399]}, {\"marker\": {\"color\": \"rgb(204, 102, 0)\", \"opacity\": 0.5}, \"mode\": \"markers\", \"type\": \"scatter3d\", \"x\": [-0.33594251190099317], \"y\": [0.8371664782625274], \"z\": [-0.4316189481141512]}, {\"marker\": {\"color\": \"rgb(204, 102, 0)\", \"opacity\": 0.5}, \"mode\": \"markers\", \"type\": \"scatter3d\", \"x\": [-0.15078030698269515], \"y\": [0.969400265939329], \"z\": [-0.1937225423717124]}, {\"marker\": {\"color\": \"rgb(204, 102, 0)\", \"opacity\": 0.5}, \"mode\": \"markers\", \"type\": \"scatter3d\", \"x\": [0.05072128379469771], \"y\": [0.9965844930066685], \"z\": [0.06516670675165635]}, {\"marker\": {\"color\": \"rgb(204, 102, 0)\", \"opacity\": 0.5}, \"mode\": \"markers\", \"type\": \"scatter3d\", \"x\": [0.24672643645112716], \"y\": [0.9157733266550563], \"z\": [0.3169941320328436]}, {\"marker\": {\"color\": \"rgb(204, 102, 0)\", \"opacity\": 0.5}, \"mode\": \"markers\", \"type\": \"scatter3d\", \"x\": [0.41599495136296627], \"y\": [0.7357239106731307], \"z\": [0.5344703244375257]}, {\"marker\": {\"color\": \"rgb(204, 102, 0)\", \"opacity\": 0.5}, \"mode\": \"markers\", \"type\": \"scatter3d\", \"x\": [0.5401839584678938], \"y\": [0.475947393037073], \"z\": [0.694028364027844]}, {\"marker\": {\"color\": \"rgb(204, 102, 0)\", \"opacity\": 0.5}, \"mode\": \"markers\", \"type\": \"scatter3d\", \"x\": [0.6058356518551007], \"y\": [0.16459459028073373], \"z\": [0.778377661416113]}, {\"marker\": {\"color\": \"rgb(204, 102, 0)\", \"opacity\": 0.5}, \"mode\": \"markers\", \"type\": \"scatter3d\", \"x\": [0.6058356518551008], \"y\": [-0.16459459028073364], \"z\": [0.7783776614161131]}, {\"marker\": {\"color\": \"rgb(204, 102, 0)\", \"opacity\": 0.5}, \"mode\": \"markers\", \"type\": \"scatter3d\", \"x\": [0.5401839584678939], \"y\": [-0.47594739303707295], \"z\": [0.6940283640278438]}, {\"marker\": {\"color\": \"rgb(204, 102, 0)\", \"opacity\": 0.5}, \"mode\": \"markers\", \"type\": \"scatter3d\", \"x\": [0.4159949513629667], \"y\": [-0.7357239106731304], \"z\": [0.534470324437526]}, {\"marker\": {\"color\": \"rgb(204, 102, 0)\", \"opacity\": 0.5}, \"mode\": \"markers\", \"type\": \"scatter3d\", \"x\": [0.2467264364511276], \"y\": [-0.9157733266550561], \"z\": [0.3169941320328439]}, {\"marker\": {\"color\": \"rgb(204, 102, 0)\", \"opacity\": 0.5}, \"mode\": \"markers\", \"type\": \"scatter3d\", \"x\": [0.050721283794698084], \"y\": [-0.9965844930066685], \"z\": [0.06516670675165642]}, {\"marker\": {\"color\": \"rgb(204, 102, 0)\", \"opacity\": 0.5}, \"mode\": \"markers\", \"type\": \"scatter3d\", \"x\": [-0.15078030698269482], \"y\": [-0.9694002659393292], \"z\": [-0.19372254237171235]}, {\"marker\": {\"color\": \"rgb(204, 102, 0)\", \"opacity\": 0.5}, \"mode\": \"markers\", \"type\": \"scatter3d\", \"x\": [-0.3359425119009928], \"y\": [-0.8371664782625277], \"z\": [-0.4316189481141511]}, {\"marker\": {\"color\": \"rgb(204, 102, 0)\", \"opacity\": 0.5}, \"mode\": \"markers\", \"type\": \"scatter3d\", \"x\": [-0.4847001329696646], \"y\": [-0.6142127126896672], \"z\": [-0.6227427435703992]}, {\"marker\": {\"color\": \"rgb(204, 102, 0)\", \"opacity\": 0.5}, \"mode\": \"markers\", \"type\": \"scatter3d\", \"x\": [-0.5809329737336053], \"y\": [-0.3246994692046832], \"z\": [-0.7463826999115302]}, {\"marker\": {\"color\": \"rgb(204, 102, 0)\", \"opacity\": 0.5}, \"mode\": \"markers\", \"type\": \"scatter3d\", \"x\": [-0.614212712689667], \"y\": [-1.5279950279022664e-16], \"z\": [-0.789140509396393]}, {\"marker\": {\"color\": \"rgb(204, 102, 0)\", \"opacity\": 0.5}, \"mode\": \"markers\", \"type\": \"scatter3d\", \"x\": [0.9965844930066688], \"y\": [1.0348828739339626e-16], \"z\": [0.08257934547233213]}, {\"marker\": {\"color\": \"rgb(204, 102, 0)\", \"opacity\": 0.5}, \"mode\": \"markers\", \"type\": \"scatter3d\", \"x\": [0.942586796297193], \"y\": [0.3246994692046831], \"z\": [0.07810496875608494]}, {\"marker\": {\"color\": \"rgb(204, 102, 0)\", \"opacity\": 0.5}, \"mode\": \"markers\", \"type\": \"scatter3d\", \"x\": [0.7864451944678293], \"y\": [0.6142127126896672], \"z\": [0.06516670675165691]}, {\"marker\": {\"color\": \"rgb(204, 102, 0)\", \"opacity\": 0.5}, \"mode\": \"markers\", \"type\": \"scatter3d\", \"x\": [0.5450800528633707], \"y\": [0.8371664782625275], \"z\": [0.045166620905047604]}, {\"marker\": {\"color\": \"rgb(204, 102, 0)\", \"opacity\": 0.5}, \"mode\": \"markers\", \"type\": \"scatter3d\", \"x\": [0.24464702974270935], \"y\": [0.969400265939329], \"z\": [0.020272030851043784]}, {\"marker\": {\"color\": \"rgb(204, 102, 0)\", \"opacity\": 0.5}, \"mode\": \"markers\", \"type\": \"scatter3d\", \"x\": [-0.08229729514036557], \"y\": [0.9965844930066685], \"z\": [-0.0068193482986387876]}, {\"marker\": {\"color\": \"rgb(204, 102, 0)\", \"opacity\": 0.5}, \"mode\": \"markers\", \"type\": \"scatter3d\", \"x\": [-0.4003234311208763], \"y\": [0.9157733266550563], \"z\": [-0.03317174524707266]}, {\"marker\": {\"color\": \"rgb(204, 102, 0)\", \"opacity\": 0.5}, \"mode\": \"markers\", \"type\": \"scatter3d\", \"x\": [-0.6749683116813968], \"y\": [0.7357239106731307], \"z\": [-0.05592946888532602]}, {\"marker\": {\"color\": \"rgb(204, 102, 0)\", \"opacity\": 0.5}, \"mode\": \"markers\", \"type\": \"scatter3d\", \"x\": [-0.8764699024587896], \"y\": [0.47594739303707295], \"z\": [-0.07262636673472839]}, {\"marker\": {\"color\": \"rgb(204, 102, 0)\", \"opacity\": 0.5}, \"mode\": \"markers\", \"type\": \"scatter3d\", \"x\": [-0.9829923794729967], \"y\": [0.1645945902807337], \"z\": [-0.08145307083423302]}, {\"marker\": {\"color\": \"rgb(204, 102, 0)\", \"opacity\": 0.5}, \"mode\": \"markers\", \"type\": \"scatter3d\", \"x\": [-0.9829923794729968], \"y\": [-0.16459459028073367], \"z\": [-0.081453070834233]}, {\"marker\": {\"color\": \"rgb(204, 102, 0)\", \"opacity\": 0.5}, \"mode\": \"markers\", \"type\": \"scatter3d\", \"x\": [-0.8764699024587898], \"y\": [-0.475947393037073], \"z\": [-0.07262636673472829]}, {\"marker\": {\"color\": \"rgb(204, 102, 0)\", \"opacity\": 0.5}, \"mode\": \"markers\", \"type\": \"scatter3d\", \"x\": [-0.6749683116813971], \"y\": [-0.7357239106731304], \"z\": [-0.05592946888532591]}, {\"marker\": {\"color\": \"rgb(204, 102, 0)\", \"opacity\": 0.5}, \"mode\": \"markers\", \"type\": \"scatter3d\", \"x\": [-0.4003234311208767], \"y\": [-0.9157733266550561], \"z\": [-0.03317174524707252]}, {\"marker\": {\"color\": \"rgb(204, 102, 0)\", \"opacity\": 0.5}, \"mode\": \"markers\", \"type\": \"scatter3d\", \"x\": [-0.08229729514036585], \"y\": [-0.9965844930066685], \"z\": [-0.006819348298638617]}, {\"marker\": {\"color\": \"rgb(204, 102, 0)\", \"opacity\": 0.5}, \"mode\": \"markers\", \"type\": \"scatter3d\", \"x\": [0.24464702974270908], \"y\": [-0.9694002659393292], \"z\": [0.020272030851043947]}, {\"marker\": {\"color\": \"rgb(204, 102, 0)\", \"opacity\": 0.5}, \"mode\": \"markers\", \"type\": \"scatter3d\", \"x\": [0.5450800528633705], \"y\": [-0.8371664782625275], \"z\": [0.04516662090504774]}, {\"marker\": {\"color\": \"rgb(204, 102, 0)\", \"opacity\": 0.5}, \"mode\": \"markers\", \"type\": \"scatter3d\", \"x\": [0.7864451944678293], \"y\": [-0.6142127126896672], \"z\": [0.06516670675165702]}, {\"marker\": {\"color\": \"rgb(204, 102, 0)\", \"opacity\": 0.5}, \"mode\": \"markers\", \"type\": \"scatter3d\", \"x\": [0.942586796297193], \"y\": [-0.3246994692046832], \"z\": [0.078104968756085]}, {\"marker\": {\"color\": \"rgb(204, 102, 0)\", \"opacity\": 0.5}, \"mode\": \"markers\", \"type\": \"scatter3d\", \"x\": [0.9965844930066688], \"y\": [-1.4144107243607403e-16], \"z\": [0.08257934547233213]}, {\"marker\": {\"color\": \"rgb(204, 102, 0)\", \"opacity\": 0.5}, \"mode\": \"markers\", \"type\": \"scatter3d\", \"x\": [-0.8371664782625272], \"y\": [1.1161687995177543e-16], \"z\": [0.5469481581224266]}, {\"marker\": {\"color\": \"rgb(204, 102, 0)\", \"opacity\": 0.5}, \"mode\": \"markers\", \"type\": \"scatter3d\", \"x\": [-0.7918064893144979], \"y\": [0.3246994692046831], \"z\": [0.5173129982685961]}, {\"marker\": {\"color\": \"rgb(204, 102, 0)\", \"opacity\": 0.5}, \"mode\": \"markers\", \"type\": \"scatter3d\", \"x\": [-0.6606419811056757], \"y\": [0.6142127126896672], \"z\": [0.4316189481141511]}, {\"marker\": {\"color\": \"rgb(204, 102, 0)\", \"opacity\": 0.5}, \"mode\": \"markers\", \"type\": \"scatter3d\", \"x\": [-0.4578866633275286], \"y\": [0.8371664782625275], \"z\": [0.2991522876735156]}, {\"marker\": {\"color\": \"rgb(204, 102, 0)\", \"opacity\": 0.5}, \"mode\": \"markers\", \"type\": \"scatter3d\", \"x\": [-0.20551222073422465], \"y\": [0.969400265939329], \"z\": [0.1342678350374474]}, {\"marker\": {\"color\": \"rgb(204, 102, 0)\", \"opacity\": 0.5}, \"mode\": \"markers\", \"type\": \"scatter3d\", \"x\": [0.0691326598262957], \"y\": [0.9965844930066685], \"z\": [-0.04516662090504676]}, {\"marker\": {\"color\": \"rgb(204, 102, 0)\", \"opacity\": 0.5}, \"mode\": \"markers\", \"type\": \"scatter3d\", \"x\": [0.3362859439908949], \"y\": [0.9157733266550563], \"z\": [-0.21970657264014634]}, {\"marker\": {\"color\": \"rgb(204, 102, 0)\", \"opacity\": 0.5}, \"mode\": \"markers\", \"type\": \"scatter3d\", \"x\": [0.566997428110029], \"y\": [0.7357239106731307], \"z\": [-0.3704379081309599]}, {\"marker\": {\"color\": \"rgb(204, 102, 0)\", \"opacity\": 0.5}, \"mode\": \"markers\", \"type\": \"scatter3d\", \"x\": [0.7362659430218681], \"y\": [0.47594739303707295], \"z\": [-0.4810265483394088]}, {\"marker\": {\"color\": \"rgb(204, 102, 0)\", \"opacity\": 0.5}, \"mode\": \"markers\", \"type\": \"scatter3d\", \"x\": [0.8257486186640906], \"y\": [0.1645945902807337], \"z\": [-0.5394884981393533]}, {\"marker\": {\"color\": \"rgb(204, 102, 0)\", \"opacity\": 0.5}, \"mode\": \"markers\", \"type\": \"scatter3d\", \"x\": [0.8257486186640907], \"y\": [-0.16459459028073367], \"z\": [-0.5394884981393534]}, {\"marker\": {\"color\": \"rgb(204, 102, 0)\", \"opacity\": 0.5}, \"mode\": \"markers\", \"type\": \"scatter3d\", \"x\": [0.736265943021868], \"y\": [-0.475947393037073], \"z\": [-0.48102654833940883]}, {\"marker\": {\"color\": \"rgb(204, 102, 0)\", \"opacity\": 0.5}, \"mode\": \"markers\", \"type\": \"scatter3d\", \"x\": [0.5669974281100292], \"y\": [-0.7357239106731304], \"z\": [-0.37043790813096017]}, {\"marker\": {\"color\": \"rgb(204, 102, 0)\", \"opacity\": 0.5}, \"mode\": \"markers\", \"type\": \"scatter3d\", \"x\": [0.3362859439908952], \"y\": [-0.9157733266550561], \"z\": [-0.21970657264014667]}, {\"marker\": {\"color\": \"rgb(204, 102, 0)\", \"opacity\": 0.5}, \"mode\": \"markers\", \"type\": \"scatter3d\", \"x\": [0.06913265982629582], \"y\": [-0.9965844930066685], \"z\": [-0.045166620905047014]}, {\"marker\": {\"color\": \"rgb(204, 102, 0)\", \"opacity\": 0.5}, \"mode\": \"markers\", \"type\": \"scatter3d\", \"x\": [-0.20551222073422454], \"y\": [-0.9694002659393292], \"z\": [0.1342678350374472]}, {\"marker\": {\"color\": \"rgb(204, 102, 0)\", \"opacity\": 0.5}, \"mode\": \"markers\", \"type\": \"scatter3d\", \"x\": [-0.4578866633275285], \"y\": [-0.8371664782625275], \"z\": [0.29915228767351537]}, {\"marker\": {\"color\": \"rgb(204, 102, 0)\", \"opacity\": 0.5}, \"mode\": \"markers\", \"type\": \"scatter3d\", \"x\": [-0.6606419811056757], \"y\": [-0.6142127126896672], \"z\": [0.43161894811415097]}, {\"marker\": {\"color\": \"rgb(204, 102, 0)\", \"opacity\": 0.5}, \"mode\": \"markers\", \"type\": \"scatter3d\", \"x\": [-0.7918064893144979], \"y\": [-0.3246994692046832], \"z\": [0.5173129982685961]}, {\"marker\": {\"color\": \"rgb(204, 102, 0)\", \"opacity\": 0.5}, \"mode\": \"markers\", \"type\": \"scatter3d\", \"x\": [-0.8371664782625272], \"y\": [-1.3331247987769487e-16], \"z\": [0.5469481581224266]}, {\"marker\": {\"color\": \"rgb(204, 102, 0)\", \"opacity\": 0.5}, \"mode\": \"markers\", \"type\": \"scatter3d\", \"x\": [0.4759473930370722], \"y\": [1.1724482676067567e-16], \"z\": [-0.8794737512064882]}, {\"marker\": {\"color\": \"rgb(204, 102, 0)\", \"opacity\": 0.5}, \"mode\": \"markers\", \"type\": \"scatter3d\", \"x\": [0.45015925047693145], \"y\": [0.3246994692046831], \"z\": [-0.831821437514231]}, {\"marker\": {\"color\": \"rgb(204, 102, 0)\", \"opacity\": 0.5}, \"mode\": \"markers\", \"type\": \"scatter3d\", \"x\": [0.37558936818716077], \"y\": [0.614212712689667], \"z\": [-0.6940283640278455]}, {\"marker\": {\"color\": \"rgb(204, 102, 0)\", \"opacity\": 0.5}, \"mode\": \"markers\", \"type\": \"scatter3d\", \"x\": [0.26031854998479775], \"y\": [0.8371664782625274], \"z\": [-0.481026548339411]}, {\"marker\": {\"color\": \"rgb(204, 102, 0)\", \"opacity\": 0.5}, \"mode\": \"markers\", \"type\": \"scatter3d\", \"x\": [0.11683817763309964], \"y\": [0.9694002659393289], \"z\": [-0.21589804224247192]}, {\"marker\": {\"color\": \"rgb(204, 102, 0)\", \"opacity\": 0.5}, \"mode\": \"markers\", \"type\": \"scatter3d\", \"x\": [-0.03930342419626348], \"y\": [0.9965844930066684], \"z\": [0.07262636673472697]}, {\"marker\": {\"color\": \"rgb(204, 102, 0)\", \"opacity\": 0.5}, \"mode\": \"markers\", \"type\": \"scatter3d\", \"x\": [-0.19118589015849927], \"y\": [0.9157733266550562], \"z\": [0.353280581962028]}, {\"marker\": {\"color\": \"rgb(204, 102, 0)\", \"opacity\": 0.5}, \"mode\": \"markers\", \"type\": \"scatter3d\", \"x\": [-0.32235039836732104], \"y\": [0.7357239106731306], \"z\": [0.5956513644207135]}, {\"marker\": {\"color\": \"rgb(204, 102, 0)\", \"opacity\": 0.5}, \"mode\": \"markers\", \"type\": \"scatter3d\", \"x\": [-0.4185832391312615], \"y\": [0.4759473930370729], \"z\": [0.7734740790612097]}, {\"marker\": {\"color\": \"rgb(204, 102, 0)\", \"opacity\": 0.5}, \"mode\": \"markers\", \"type\": \"scatter3d\", \"x\": [-0.4694560909471726], \"y\": [0.16459459028073367], \"z\": [0.8674788755485101]}, {\"marker\": {\"color\": \"rgb(204, 102, 0)\", \"opacity\": 0.5}, \"mode\": \"markers\", \"type\": \"scatter3d\", \"x\": [-0.46945609094717267], \"y\": [-0.16459459028073364], \"z\": [0.8674788755485102]}, {\"marker\": {\"color\": \"rgb(204, 102, 0)\", \"opacity\": 0.5}, \"mode\": \"markers\", \"type\": \"scatter3d\", \"x\": [-0.41858323913126144], \"y\": [-0.47594739303707295], \"z\": [0.7734740790612098]}, {\"marker\": {\"color\": \"rgb(204, 102, 0)\", \"opacity\": 0.5}, \"mode\": \"markers\", \"type\": \"scatter3d\", \"x\": [-0.3223503983673212], \"y\": [-0.7357239106731303], \"z\": [0.5956513644207139]}, {\"marker\": {\"color\": \"rgb(204, 102, 0)\", \"opacity\": 0.5}, \"mode\": \"markers\", \"type\": \"scatter3d\", \"x\": [-0.19118589015849938], \"y\": [-0.915773326655056], \"z\": [0.35328058196202844]}, {\"marker\": {\"color\": \"rgb(204, 102, 0)\", \"opacity\": 0.5}, \"mode\": \"markers\", \"type\": \"scatter3d\", \"x\": [-0.039303424196263495], \"y\": [-0.9965844930066684], \"z\": [0.07262636673472722]}, {\"marker\": {\"color\": \"rgb(204, 102, 0)\", \"opacity\": 0.5}, \"mode\": \"markers\", \"type\": \"scatter3d\", \"x\": [0.11683817763309963], \"y\": [-0.969400265939329], \"z\": [-0.2158980422424717]}, {\"marker\": {\"color\": \"rgb(204, 102, 0)\", \"opacity\": 0.5}, \"mode\": \"markers\", \"type\": \"scatter3d\", \"x\": [0.26031854998479775], \"y\": [-0.8371664782625274], \"z\": [-0.4810265483394107]}, {\"marker\": {\"color\": \"rgb(204, 102, 0)\", \"opacity\": 0.5}, \"mode\": \"markers\", \"type\": \"scatter3d\", \"x\": [0.3755893681871608], \"y\": [-0.614212712689667], \"z\": [-0.6940283640278453]}, {\"marker\": {\"color\": \"rgb(204, 102, 0)\", \"opacity\": 0.5}, \"mode\": \"markers\", \"type\": \"scatter3d\", \"x\": [0.45015925047693156], \"y\": [-0.3246994692046832], \"z\": [-0.831821437514231]}, {\"marker\": {\"color\": \"rgb(204, 102, 0)\", \"opacity\": 0.5}, \"mode\": \"markers\", \"type\": \"scatter3d\", \"x\": [0.4759473930370722], \"y\": [-1.2768453306879463e-16], \"z\": [-0.8794737512064882]}, {\"marker\": {\"color\": \"rgb(204, 102, 0)\", \"opacity\": 0.5}, \"mode\": \"markers\", \"type\": \"scatter3d\", \"x\": [-0.16459459028073264], \"y\": [1.2076623287496063e-16], \"z\": [0.986361303402721]}, {\"marker\": {\"color\": \"rgb(204, 102, 0)\", \"opacity\": 0.5}, \"mode\": \"markers\", \"type\": \"scatter3d\", \"x\": [-0.15567640137816863], \"y\": [0.3246994692046831], \"z\": [0.9329175273046045]}, {\"marker\": {\"color\": \"rgb(204, 102, 0)\", \"opacity\": 0.5}, \"mode\": \"markers\", \"type\": \"scatter3d\", \"x\": [-0.12988825881802807], \"y\": [0.6142127126896672], \"z\": [0.7783776614161143]}, {\"marker\": {\"color\": \"rgb(204, 102, 0)\", \"opacity\": 0.5}, \"mode\": \"markers\", \"type\": \"scatter3d\", \"x\": [-0.09002470799096235], \"y\": [0.8371664782625275], \"z\": [0.5394884981393554]}, {\"marker\": {\"color\": \"rgb(204, 102, 0)\", \"opacity\": 0.5}, \"mode\": \"markers\", \"type\": \"scatter3d\", \"x\": [-0.0404055831758061], \"y\": [0.969400265939329], \"z\": [0.24213738506265195]}, {\"marker\": {\"color\": \"rgb(204, 102, 0)\", \"opacity\": 0.5}, \"mode\": \"markers\", \"type\": \"scatter3d\", \"x\": [0.013592113533669318], \"y\": [0.9965844930066685], \"z\": [-0.08145307083423134]}, {\"marker\": {\"color\": \"rgb(204, 102, 0)\", \"opacity\": 0.5}, \"mode\": \"markers\", \"type\": \"scatter3d\", \"x\": [0.0661168938384], \"y\": [0.9157733266550563], \"z\": [-0.39621682263160973]}, {\"marker\": {\"color\": \"rgb(204, 102, 0)\", \"opacity\": 0.5}, \"mode\": \"markers\", \"type\": \"scatter3d\", \"x\": [0.11147688278642902], \"y\": [0.7357239106731307], \"z\": [-0.6680443337594061]}, {\"marker\": {\"color\": \"rgb(204, 102, 0)\", \"opacity\": 0.5}, \"mode\": \"markers\", \"type\": \"scatter3d\", \"x\": [0.1447566217424905], \"y\": [0.47594739303707295], \"z\": [-0.8674788755485092]}, {\"marker\": {\"color\": \"rgb(204, 102, 0)\", \"opacity\": 0.5}, \"mode\": \"markers\", \"type\": \"scatter3d\", \"x\": [0.1623497346023399], \"y\": [0.1645945902807337], \"z\": [-0.9729086208503123]}, {\"marker\": {\"color\": \"rgb(204, 102, 0)\", \"opacity\": 0.5}, \"mode\": \"markers\", \"type\": \"scatter3d\", \"x\": [0.16234973460233992], \"y\": [-0.16459459028073367], \"z\": [-0.9729086208503124]}, {\"marker\": {\"color\": \"rgb(204, 102, 0)\", \"opacity\": 0.5}, \"mode\": \"markers\", \"type\": \"scatter3d\", \"x\": [0.14475662174249046], \"y\": [-0.475947393037073], \"z\": [-0.8674788755485093]}, {\"marker\": {\"color\": \"rgb(204, 102, 0)\", \"opacity\": 0.5}, \"mode\": \"markers\", \"type\": \"scatter3d\", \"x\": [0.11147688278642902], \"y\": [-0.7357239106731304], \"z\": [-0.6680443337594064]}, {\"marker\": {\"color\": \"rgb(204, 102, 0)\", \"opacity\": 0.5}, \"mode\": \"markers\", \"type\": \"scatter3d\", \"x\": [0.06611689383840001], \"y\": [-0.9157733266550561], \"z\": [-0.3962168226316101]}, {\"marker\": {\"color\": \"rgb(204, 102, 0)\", \"opacity\": 0.5}, \"mode\": \"markers\", \"type\": \"scatter3d\", \"x\": [0.013592113533669296], \"y\": [-0.9965844930066685], \"z\": [-0.08145307083423159]}, {\"marker\": {\"color\": \"rgb(204, 102, 0)\", \"opacity\": 0.5}, \"mode\": \"markers\", \"type\": \"scatter3d\", \"x\": [-0.04040558317580612], \"y\": [-0.9694002659393292], \"z\": [0.24213738506265173]}, {\"marker\": {\"color\": \"rgb(204, 102, 0)\", \"opacity\": 0.5}, \"mode\": \"markers\", \"type\": \"scatter3d\", \"x\": [-0.09002470799096236], \"y\": [-0.8371664782625275], \"z\": [0.5394884981393552]}, {\"marker\": {\"color\": \"rgb(204, 102, 0)\", \"opacity\": 0.5}, \"mode\": \"markers\", \"type\": \"scatter3d\", \"x\": [-0.1298882588180281], \"y\": [-0.6142127126896672], \"z\": [0.7783776614161143]}, {\"marker\": {\"color\": \"rgb(204, 102, 0)\", \"opacity\": 0.5}, \"mode\": \"markers\", \"type\": \"scatter3d\", \"x\": [-0.15567640137816868], \"y\": [-0.3246994692046832], \"z\": [0.9329175273046045]}, {\"marker\": {\"color\": \"rgb(204, 102, 0)\", \"opacity\": 0.5}, \"mode\": \"markers\", \"type\": \"scatter3d\", \"x\": [-0.16459459028073264], \"y\": [-1.2416312695450967e-16], \"z\": [0.986361303402721]}, {\"marker\": {\"color\": \"rgb(204, 102, 0)\", \"opacity\": 0.5}, \"mode\": \"markers\", \"type\": \"scatter3d\", \"x\": [-1.1774624347167614e-15], \"y\": [1.2246970373740773e-16], \"z\": [-0.9999999999999982]}, {\"marker\": {\"color\": \"rgb(204, 102, 0)\", \"opacity\": 0.5}, \"mode\": \"markers\", \"type\": \"scatter3d\", \"x\": [-1.1169483602375957e-15], \"y\": [0.32469946920468307], \"z\": [-0.9458172417006331]}, {\"marker\": {\"color\": \"rgb(204, 102, 0)\", \"opacity\": 0.5}, \"mode\": \"markers\", \"type\": \"scatter3d\", \"x\": [-9.353955996871776e-16], \"y\": [0.6142127126896669], \"z\": [-0.7891405093963925]}, {\"marker\": {\"color\": \"rgb(204, 102, 0)\", \"opacity\": 0.5}, \"mode\": \"markers\", \"type\": \"scatter3d\", \"x\": [-6.524782117524799e-16], \"y\": [0.8371664782625273], \"z\": [-0.5469481581224268]}, {\"marker\": {\"color\": \"rgb(204, 102, 0)\", \"opacity\": 0.5}, \"mode\": \"markers\", \"type\": \"scatter3d\", \"x\": [-2.988546853318087e-16], \"y\": [0.9694002659393288], \"z\": [-0.24548548714080015]}, {\"marker\": {\"color\": \"rgb(204, 102, 0)\", \"opacity\": 0.5}, \"mode\": \"markers\", \"type\": \"scatter3d\", \"x\": [8.715438345279484e-17], \"y\": [0.9965844930066683], \"z\": [0.08257934547233015]}, {\"marker\": {\"color\": \"rgb(204, 102, 0)\", \"opacity\": 0.5}, \"mode\": \"markers\", \"type\": \"scatter3d\", \"x\": [4.637189224506919e-16], \"y\": [0.9157733266550561], \"z\": [0.4016954246529659]}, {\"marker\": {\"color\": \"rgb(204, 102, 0)\", \"opacity\": 0.5}, \"mode\": \"markers\", \"type\": \"scatter3d\", \"x\": [7.9003232086061285e-16], \"y\": [0.7357239106731306], \"z\": [0.6772815716257365]}, {\"marker\": {\"color\": \"rgb(204, 102, 0)\", \"opacity\": 0.5}, \"mode\": \"markers\", \"type\": \"scatter3d\", \"x\": [1.0307334586907793e-15], \"y\": [0.47594739303707284], \"z\": [0.8794737512064839]}, {\"marker\": {\"color\": \"rgb(204, 102, 0)\", \"opacity\": 0.5}, \"mode\": \"markers\", \"type\": \"scatter3d\", \"x\": [1.1597386327943229e-15], \"y\": [0.16459459028073367], \"z\": [0.9863613034027167]}, {\"marker\": {\"color\": \"rgb(204, 102, 0)\", \"opacity\": 0.5}, \"mode\": \"markers\", \"type\": \"scatter3d\", \"x\": [1.1630681308356036e-15], \"y\": [-0.16459459028073364], \"z\": [0.9863613034027168]}, {\"marker\": {\"color\": \"rgb(204, 102, 0)\", \"opacity\": 0.5}, \"mode\": \"markers\", \"type\": \"scatter3d\", \"x\": [1.0403611500393638e-15], \"y\": [-0.4759473930370729], \"z\": [0.8794737512064837]}, {\"marker\": {\"color\": \"rgb(204, 102, 0)\", \"opacity\": 0.5}, \"mode\": \"markers\", \"type\": \"scatter3d\", \"x\": [8.049148957698591e-16], \"y\": [-0.7357239106731303], \"z\": [0.6772815716257369]}, {\"marker\": {\"color\": \"rgb(204, 102, 0)\", \"opacity\": 0.5}, \"mode\": \"markers\", \"type\": \"scatter3d\", \"x\": [4.822436230022396e-16], \"y\": [-0.9157733266550558], \"z\": [0.4016954246529663]}, {\"marker\": {\"color\": \"rgb(204, 102, 0)\", \"opacity\": 0.5}, \"mode\": \"markers\", \"type\": \"scatter3d\", \"x\": [1.0731377090153864e-16], \"y\": [-0.9965844930066683], \"z\": [0.08257934547233037]}, {\"marker\": {\"color\": \"rgb(204, 102, 0)\", \"opacity\": 0.5}, \"mode\": \"markers\", \"type\": \"scatter3d\", \"x\": [-2.7924519342106564e-16], \"y\": [-0.9694002659393289], \"z\": [-0.24548548714079993]}, {\"marker\": {\"color\": \"rgb(204, 102, 0)\", \"opacity\": 0.5}, \"mode\": \"markers\", \"type\": \"scatter3d\", \"x\": [-6.355436081008838e-16], \"y\": [-0.8371664782625273], \"z\": [-0.5469481581224266]}, {\"marker\": {\"color\": \"rgb(204, 102, 0)\", \"opacity\": 0.5}, \"mode\": \"markers\", \"type\": \"scatter3d\", \"x\": [-9.229710113678287e-16], \"y\": [-0.6142127126896669], \"z\": [-0.7891405093963925]}, {\"marker\": {\"color\": \"rgb(204, 102, 0)\", \"opacity\": 0.5}, \"mode\": \"markers\", \"type\": \"scatter3d\", \"x\": [-1.1103801841822465e-15], \"y\": [-0.3246994692046831], \"z\": [-0.9458172417006331]}, {\"marker\": {\"color\": \"rgb(204, 102, 0)\", \"opacity\": 0.5}, \"mode\": \"markers\", \"type\": \"scatter3d\", \"x\": [-1.1774624347167614e-15], \"y\": [-1.2245965609206251e-16], \"z\": [-0.9999999999999982]}],\n",
       "                        {\"template\": {\"data\": {\"bar\": [{\"error_x\": {\"color\": \"#2a3f5f\"}, \"error_y\": {\"color\": \"#2a3f5f\"}, \"marker\": {\"line\": {\"color\": \"#E5ECF6\", \"width\": 0.5}}, \"type\": \"bar\"}], \"barpolar\": [{\"marker\": {\"line\": {\"color\": \"#E5ECF6\", \"width\": 0.5}}, \"type\": \"barpolar\"}], \"carpet\": [{\"aaxis\": {\"endlinecolor\": \"#2a3f5f\", \"gridcolor\": \"white\", \"linecolor\": \"white\", \"minorgridcolor\": \"white\", \"startlinecolor\": \"#2a3f5f\"}, \"baxis\": {\"endlinecolor\": \"#2a3f5f\", \"gridcolor\": \"white\", \"linecolor\": \"white\", \"minorgridcolor\": \"white\", \"startlinecolor\": \"#2a3f5f\"}, \"type\": \"carpet\"}], \"choropleth\": [{\"colorbar\": {\"outlinewidth\": 0, \"ticks\": \"\"}, \"type\": \"choropleth\"}], \"contour\": [{\"colorbar\": {\"outlinewidth\": 0, \"ticks\": \"\"}, \"colorscale\": [[0.0, \"#0d0887\"], [0.1111111111111111, \"#46039f\"], [0.2222222222222222, \"#7201a8\"], [0.3333333333333333, \"#9c179e\"], [0.4444444444444444, \"#bd3786\"], [0.5555555555555556, \"#d8576b\"], [0.6666666666666666, \"#ed7953\"], [0.7777777777777778, \"#fb9f3a\"], [0.8888888888888888, \"#fdca26\"], [1.0, \"#f0f921\"]], \"type\": \"contour\"}], \"contourcarpet\": [{\"colorbar\": {\"outlinewidth\": 0, \"ticks\": \"\"}, \"type\": \"contourcarpet\"}], \"heatmap\": [{\"colorbar\": {\"outlinewidth\": 0, \"ticks\": \"\"}, \"colorscale\": [[0.0, \"#0d0887\"], [0.1111111111111111, \"#46039f\"], [0.2222222222222222, \"#7201a8\"], [0.3333333333333333, \"#9c179e\"], [0.4444444444444444, \"#bd3786\"], [0.5555555555555556, \"#d8576b\"], [0.6666666666666666, \"#ed7953\"], [0.7777777777777778, \"#fb9f3a\"], [0.8888888888888888, \"#fdca26\"], [1.0, \"#f0f921\"]], \"type\": \"heatmap\"}], \"heatmapgl\": [{\"colorbar\": {\"outlinewidth\": 0, \"ticks\": \"\"}, \"colorscale\": [[0.0, \"#0d0887\"], [0.1111111111111111, \"#46039f\"], [0.2222222222222222, \"#7201a8\"], [0.3333333333333333, \"#9c179e\"], [0.4444444444444444, \"#bd3786\"], [0.5555555555555556, \"#d8576b\"], [0.6666666666666666, \"#ed7953\"], [0.7777777777777778, \"#fb9f3a\"], [0.8888888888888888, \"#fdca26\"], [1.0, \"#f0f921\"]], \"type\": \"heatmapgl\"}], \"histogram\": [{\"marker\": {\"colorbar\": {\"outlinewidth\": 0, \"ticks\": \"\"}}, \"type\": \"histogram\"}], \"histogram2d\": [{\"colorbar\": {\"outlinewidth\": 0, \"ticks\": \"\"}, \"colorscale\": [[0.0, \"#0d0887\"], [0.1111111111111111, \"#46039f\"], [0.2222222222222222, \"#7201a8\"], [0.3333333333333333, \"#9c179e\"], [0.4444444444444444, \"#bd3786\"], [0.5555555555555556, \"#d8576b\"], [0.6666666666666666, \"#ed7953\"], [0.7777777777777778, \"#fb9f3a\"], [0.8888888888888888, \"#fdca26\"], [1.0, \"#f0f921\"]], \"type\": \"histogram2d\"}], \"histogram2dcontour\": [{\"colorbar\": {\"outlinewidth\": 0, \"ticks\": \"\"}, \"colorscale\": [[0.0, \"#0d0887\"], [0.1111111111111111, \"#46039f\"], [0.2222222222222222, \"#7201a8\"], [0.3333333333333333, \"#9c179e\"], [0.4444444444444444, \"#bd3786\"], [0.5555555555555556, \"#d8576b\"], [0.6666666666666666, \"#ed7953\"], [0.7777777777777778, \"#fb9f3a\"], [0.8888888888888888, \"#fdca26\"], [1.0, \"#f0f921\"]], \"type\": \"histogram2dcontour\"}], \"mesh3d\": [{\"colorbar\": {\"outlinewidth\": 0, \"ticks\": \"\"}, \"type\": \"mesh3d\"}], \"parcoords\": [{\"line\": {\"colorbar\": {\"outlinewidth\": 0, \"ticks\": \"\"}}, \"type\": \"parcoords\"}], \"pie\": [{\"automargin\": true, \"type\": \"pie\"}], \"scatter\": [{\"marker\": {\"colorbar\": {\"outlinewidth\": 0, \"ticks\": \"\"}}, \"type\": \"scatter\"}], \"scatter3d\": [{\"line\": {\"colorbar\": {\"outlinewidth\": 0, \"ticks\": \"\"}}, \"marker\": {\"colorbar\": {\"outlinewidth\": 0, \"ticks\": \"\"}}, \"type\": \"scatter3d\"}], \"scattercarpet\": [{\"marker\": {\"colorbar\": {\"outlinewidth\": 0, \"ticks\": \"\"}}, \"type\": \"scattercarpet\"}], \"scattergeo\": [{\"marker\": {\"colorbar\": {\"outlinewidth\": 0, \"ticks\": \"\"}}, \"type\": \"scattergeo\"}], \"scattergl\": [{\"marker\": {\"colorbar\": {\"outlinewidth\": 0, \"ticks\": \"\"}}, \"type\": \"scattergl\"}], \"scattermapbox\": [{\"marker\": {\"colorbar\": {\"outlinewidth\": 0, \"ticks\": \"\"}}, \"type\": \"scattermapbox\"}], \"scatterpolar\": [{\"marker\": {\"colorbar\": {\"outlinewidth\": 0, \"ticks\": \"\"}}, \"type\": \"scatterpolar\"}], \"scatterpolargl\": [{\"marker\": {\"colorbar\": {\"outlinewidth\": 0, \"ticks\": \"\"}}, \"type\": \"scatterpolargl\"}], \"scatterternary\": [{\"marker\": {\"colorbar\": {\"outlinewidth\": 0, \"ticks\": \"\"}}, \"type\": \"scatterternary\"}], \"surface\": [{\"colorbar\": {\"outlinewidth\": 0, \"ticks\": \"\"}, \"colorscale\": [[0.0, \"#0d0887\"], [0.1111111111111111, \"#46039f\"], [0.2222222222222222, \"#7201a8\"], [0.3333333333333333, \"#9c179e\"], [0.4444444444444444, \"#bd3786\"], [0.5555555555555556, \"#d8576b\"], [0.6666666666666666, \"#ed7953\"], [0.7777777777777778, \"#fb9f3a\"], [0.8888888888888888, \"#fdca26\"], [1.0, \"#f0f921\"]], \"type\": \"surface\"}], \"table\": [{\"cells\": {\"fill\": {\"color\": \"#EBF0F8\"}, \"line\": {\"color\": \"white\"}}, \"header\": {\"fill\": {\"color\": \"#C8D4E3\"}, \"line\": {\"color\": \"white\"}}, \"type\": \"table\"}]}, \"layout\": {\"annotationdefaults\": {\"arrowcolor\": \"#2a3f5f\", \"arrowhead\": 0, \"arrowwidth\": 1}, \"coloraxis\": {\"colorbar\": {\"outlinewidth\": 0, \"ticks\": \"\"}}, \"colorscale\": {\"diverging\": [[0, \"#8e0152\"], [0.1, \"#c51b7d\"], [0.2, \"#de77ae\"], [0.3, \"#f1b6da\"], [0.4, \"#fde0ef\"], [0.5, \"#f7f7f7\"], [0.6, \"#e6f5d0\"], [0.7, \"#b8e186\"], [0.8, \"#7fbc41\"], [0.9, \"#4d9221\"], [1, \"#276419\"]], \"sequential\": [[0.0, \"#0d0887\"], [0.1111111111111111, \"#46039f\"], [0.2222222222222222, \"#7201a8\"], [0.3333333333333333, \"#9c179e\"], [0.4444444444444444, \"#bd3786\"], [0.5555555555555556, \"#d8576b\"], [0.6666666666666666, \"#ed7953\"], [0.7777777777777778, \"#fb9f3a\"], [0.8888888888888888, \"#fdca26\"], [1.0, \"#f0f921\"]], \"sequentialminus\": [[0.0, \"#0d0887\"], [0.1111111111111111, \"#46039f\"], [0.2222222222222222, \"#7201a8\"], [0.3333333333333333, \"#9c179e\"], [0.4444444444444444, \"#bd3786\"], [0.5555555555555556, \"#d8576b\"], [0.6666666666666666, \"#ed7953\"], [0.7777777777777778, \"#fb9f3a\"], [0.8888888888888888, \"#fdca26\"], [1.0, \"#f0f921\"]]}, \"colorway\": [\"#636efa\", \"#EF553B\", \"#00cc96\", \"#ab63fa\", \"#FFA15A\", \"#19d3f3\", \"#FF6692\", \"#B6E880\", \"#FF97FF\", \"#FECB52\"], \"font\": {\"color\": \"#2a3f5f\"}, \"geo\": {\"bgcolor\": \"white\", \"lakecolor\": \"white\", \"landcolor\": \"#E5ECF6\", \"showlakes\": true, \"showland\": true, \"subunitcolor\": \"white\"}, \"hoverlabel\": {\"align\": \"left\"}, \"hovermode\": \"closest\", \"mapbox\": {\"style\": \"light\"}, \"paper_bgcolor\": \"white\", \"plot_bgcolor\": \"#E5ECF6\", \"polar\": {\"angularaxis\": {\"gridcolor\": \"white\", \"linecolor\": \"white\", \"ticks\": \"\"}, \"bgcolor\": \"#E5ECF6\", \"radialaxis\": {\"gridcolor\": \"white\", \"linecolor\": \"white\", \"ticks\": \"\"}}, \"scene\": {\"xaxis\": {\"backgroundcolor\": \"#E5ECF6\", \"gridcolor\": \"white\", \"gridwidth\": 2, \"linecolor\": \"white\", \"showbackground\": true, \"ticks\": \"\", \"zerolinecolor\": \"white\"}, \"yaxis\": {\"backgroundcolor\": \"#E5ECF6\", \"gridcolor\": \"white\", \"gridwidth\": 2, \"linecolor\": \"white\", \"showbackground\": true, \"ticks\": \"\", \"zerolinecolor\": \"white\"}, \"zaxis\": {\"backgroundcolor\": \"#E5ECF6\", \"gridcolor\": \"white\", \"gridwidth\": 2, \"linecolor\": \"white\", \"showbackground\": true, \"ticks\": \"\", \"zerolinecolor\": \"white\"}}, \"shapedefaults\": {\"line\": {\"color\": \"#2a3f5f\"}}, \"ternary\": {\"aaxis\": {\"gridcolor\": \"white\", \"linecolor\": \"white\", \"ticks\": \"\"}, \"baxis\": {\"gridcolor\": \"white\", \"linecolor\": \"white\", \"ticks\": \"\"}, \"bgcolor\": \"#E5ECF6\", \"caxis\": {\"gridcolor\": \"white\", \"linecolor\": \"white\", \"ticks\": \"\"}}, \"title\": {\"x\": 0.05}, \"xaxis\": {\"automargin\": true, \"gridcolor\": \"white\", \"linecolor\": \"white\", \"ticks\": \"\", \"title\": {\"standoff\": 15}, \"zerolinecolor\": \"white\", \"zerolinewidth\": 2}, \"yaxis\": {\"automargin\": true, \"gridcolor\": \"white\", \"linecolor\": \"white\", \"ticks\": \"\", \"title\": {\"standoff\": 15}, \"zerolinecolor\": \"white\", \"zerolinewidth\": 2}}}},\n",
       "                        {\"responsive\": true}\n",
       "                    ).then(function(){\n",
       "                            \n",
       "var gd = document.getElementById('3ac0fbcf-64bc-493b-a7ef-d51c9706661b');\n",
       "var x = new MutationObserver(function (mutations, observer) {{\n",
       "        var display = window.getComputedStyle(gd).display;\n",
       "        if (!display || display === 'none') {{\n",
       "            console.log([gd, 'removed!']);\n",
       "            Plotly.purge(gd);\n",
       "            observer.disconnect();\n",
       "        }}\n",
       "}});\n",
       "\n",
       "// Listen for the removal of the full notebook cells\n",
       "var notebookContainer = gd.closest('#notebook-container');\n",
       "if (notebookContainer) {{\n",
       "    x.observe(notebookContainer, {childList: true});\n",
       "}}\n",
       "\n",
       "// Listen for the clearing of the current output cell\n",
       "var outputEl = gd.closest('.output');\n",
       "if (outputEl) {{\n",
       "    x.observe(outputEl, {childList: true});\n",
       "}}\n",
       "\n",
       "                        })\n",
       "                };\n",
       "                });\n",
       "            </script>\n",
       "        </div>"
      ]
     },
     "metadata": {},
     "output_type": "display_data"
    }
   ],
   "source": [
    "R= np.matrix([[ 1,0,0],[0,1,0],[0,0,1 ]])\n",
    "print(R)\n",
    "\n",
    "origin = [0,0,0]\n",
    "vectorx =np.array( [1,0,0])\n",
    "vectory =np.array( [0,1,0])\n",
    "vectorz =np.array( [0,0,1 ])\n",
    "\n",
    "RotationMatrix = []\n",
    "\n",
    "fig = go.Figure()\n",
    "theta = np.linspace(0,2*pi,20)\n",
    "phi = np.linspace(0,pi,20)\n",
    "# print(theta)\n",
    "for i in phi:\n",
    "    print(i)\n",
    "    for j in theta:\n",
    "        Rod_y = OrientMatixRotation(vectorx,vectory,j)\n",
    "        Rod_z = OrientMatixRotation(vectorx,vectorz,j)\n",
    "        fig,r = FigVec(fig,vectorx,Rod_y,Rod_z)\n",
    "        R1 = np.asarray([vectorx,Rod_y,Rod_z])\n",
    "        RotationMatrix.append(R1)\n",
    "#         R1 = EulerAngle(Rod_y[0],Rod_y[1],Rod_y[2])\n",
    "#         RMatrix = rotsplit(R1)\n",
    "#         RotationMatrix.append(RMatrix)\n",
    "#         R2 = EulerAngle(Rod_z[0],Rod_z[1],Rod_z[2])\n",
    "#         RMatrix1 = rotsplit(R2)\n",
    "#         RotationMatrix.append(RMatrix1)\n",
    "        \n",
    "        \n",
    "        \n",
    "#         for k in range(len(r)): \n",
    "#                 R1 = EulerAngle(r[k][0],r[k][1],r[k][2])\n",
    "#                 vectorx1 = np.asarray([R1[0,0],R1[1,0],R1[2,0]])\n",
    "#                 vectory1 = np.asarray([R1[0,1],R1[1,1],R1[2,1]])\n",
    "#                 vectorz1 = np.asarray([R1[0,2],R1[1,2],R1[2,2]])\n",
    "#                 RMatrix = np.asarray([vectorx1,vectory1,vectorz1])\n",
    "#                 RotationMatrix.append(RMatrix)\n",
    "                \n",
    "    Rod_xy = OrientMatixRotation(Rod_y,vectorx,i)\n",
    "    Rod_xz = OrientMatixRotation(Rod_y,Rod_z,i)\n",
    "    \n",
    "    vectorx = Rod_xy\n",
    "    vectory = vectory\n",
    "    vectorz = Rod_xz\n",
    "#     R= np.asarray([Rod_xy,vectory,Rod_xz])\n",
    "# #   fig,r = FigVec(fig,Rod_xy,vectory,Rod_xz)\n",
    "# #         print(R)\n",
    "#     RotationMatrix.append(np.transpose(R))\n",
    "#     vectorx = np.asarray([R[0,0],R[1,0],R[2,0]])\n",
    "#     vectory = np.asarray([R[0,1],R[1,1],R[2,1]])\n",
    "#     vectorz = np.asarray([R[0,2],R[1,2],R[2,2]])\n",
    "#     fig,r = FigVec(fig,vectorx,vectory,vectorz)\n",
    "    \n",
    "#         fig, r = FigVec(fig,vectorx,vectory,vectorz)\n",
    "        \n",
    "#         fig,r1 = FigVec(fig,vectorx,Rod_y,Rod_z)\n",
    "        \n",
    "# #         fig = FigVec(fig,vectorx,Rod_y,vectorz)\n",
    "#         Rod_xy = OrientMatixRotation(Rod_y,vectorx,phi[j])\n",
    "# #         print(Rod_xy)\n",
    "# #         Rod_y1 = OrientMatixRotation(Rod_xy,Rod_y,theta[i])\n",
    "#         Rod_y1 = OrientMatixRotation(Rod_xy,Rod_y,theta[i])\n",
    "# #         print(Rod_xy)\n",
    "# #         print(Rod_y1)\n",
    "# #         print(vectorz)\n",
    "# #         fig,r = FigVec(fig,Rod_xy,Rod_y1,vectorz)\n",
    "#         fig,r = FigVec(fig,Rod_y,Rod_xy,Rod_y1)\n",
    "# #         print(r)\n",
    "# print(Rod_xy)          \n",
    "# R1 = EulerAngle(-0.01852074617501981,-0.11105406264394302,-0.9936417750535276)\n",
    "# print(r)\n",
    "# print(R1)\n",
    "# print(RotationMatrix)\n",
    "# print(fig.data)\n",
    "# print(len(phi),phi)\n",
    "# print(len(RotationMatrix))\n",
    "# # print(RotationMatrix)\n",
    "fig.show()"
   ]
  },
  {
   "cell_type": "code",
   "execution_count": null,
   "metadata": {},
   "outputs": [],
   "source": [
    "a = [1,2,3]\n",
    "b = [4,5,6]\n",
    "c = [7,8,9]\n",
    "np.asarray([a,b,c])"
   ]
  },
  {
   "cell_type": "code",
   "execution_count": null,
   "metadata": {},
   "outputs": [],
   "source": [
    "\n",
    "\n",
    "# def FigVec(vector1,vector2,vector3):\n",
    "#     origin = [0,0,0]\n",
    "#     data = go.Scatter3d(x=[origin[0],vector1[0]],y=[origin[1],vector1[1]],z=[origin[2],vector1[2]],marker=dict(opacity = 0.5, color = ('rgb(204, 102, 0)')))\n",
    "#     data1 = go.Scatter3d(x=[origin[a\n",
    "0],vector2[0]],y=[origin[1],vector2[1]],z=[origin[2],vector2[2]],marker=dict(opacity = 0.5, color = ('rgb(204, 102, 255)')))\n",
    "#     data2 = go.Scatter3d(x=[origin[0],vector3[0]],y=[origin[1],vector3[1]],z=[origin[2],vector3[2]],marker=dict(opacity = 0.5, color = ('rgb(255, 102, 255)')))\n",
    "#     fig.add_trace(data)\n",
    "#     fig.add_trace(data1)\n",
    "#     fig.add_trace(data2)\n",
    "#     return fig\n",
    "\n",
    "# def plot_rot(R):\n",
    "    \n",
    "#     for i in range(0,len(R)):\n",
    "#         vectorx = np.asarray([R[i,0,0],R[i,1,0],R[i,2,0]])\n",
    "#         vectory = np.asarray([R[i,0,1],R[i,1,1],R[i,2,1]])\n",
    "#         vectorz = np.asarray([R[i,0,2],R[i,1,2],R[i,2,2]])\n",
    "#         fig = FigVec(vectorx,vectory,vectorz)\n",
    "#     return fig\n",
    "\n",
    "# R= np.array([[[ -0.0000003, -0.0000000, -1.0000000],[1.0000000, -0.0000003, -0.0000003],[-0.0000003, -1.0000000,  0.0000000 ]],[[-0.21581449,  0.        , -0.97643438],[ 0.97643438,  0.        , -0.21581449],[ 0.        , -1.        ,  0.        ]]])\n",
    "# print(R)\n",
    "# fig = go.Figure()\n",
    "# fig = plot_rot(R)\n",
    "# fig.show()"
   ]
  },
  {
   "cell_type": "code",
   "execution_count": null,
   "metadata": {},
   "outputs": [],
   "source": []
  }
 ],
 "metadata": {
  "kernelspec": {
   "display_name": "Python 3",
   "language": "python",
   "name": "python3"
  },
  "language_info": {
   "codemirror_mode": {
    "name": "ipython",
    "version": 3
   },
   "file_extension": ".py",
   "mimetype": "text/x-python",
   "name": "python",
   "nbconvert_exporter": "python",
   "pygments_lexer": "ipython3",
   "version": "3.5.2"
  }
 },
 "nbformat": 4,
 "nbformat_minor": 4
}
