{
 "cells": [
  {
   "cell_type": "code",
   "execution_count": null,
   "metadata": {},
   "outputs": [],
   "source": [
    "import urx\n",
    "import math\n",
    "import math3d as m3d\n",
    "import numpy as np\n",
    "import time"
   ]
  },
  {
   "cell_type": "code",
   "execution_count": null,
   "metadata": {},
   "outputs": [],
   "source": [
    "#Connection Establishment\n",
    "# robo = urx.Robot(\"172.16.101.225\")\n",
    "robo = urx.Robot(\"127.0.0.1\")"
   ]
  },
  {
   "cell_type": "code",
   "execution_count": null,
   "metadata": {},
   "outputs": [],
   "source": [
    "#Home position\n",
    "robo.movej(( 0,-math.pi/2,math.pi/2,0,math.pi/2,math.pi),0.2,0.2,wait=False)"
   ]
  },
  {
   "cell_type": "code",
   "execution_count": null,
   "metadata": {},
   "outputs": [],
   "source": [
    "def getcurrentdata():\n",
    "    xvalue = 0\n",
    "    yvalue = 0\n",
    "    zvalue = 0\n",
    "    \n",
    "    for i in range(10):\n",
    "        value = robo.getl()\n",
    "        xvalue += value[0]\n",
    "        yvalue += value[1]\n",
    "        zvalue += value[2]\n",
    "        time.sleep(0.2)\n",
    "    \n",
    "    store = [xvalue,yvalue,zvalue]\n",
    "    \n",
    "    return store"
   ]
  },
  {
   "cell_type": "code",
   "execution_count": null,
   "metadata": {},
   "outputs": [],
   "source": [
    "#Define movemnents : \n",
    "# Example : robo.movel((0,0,0.1,0,0,0),0.1,0.1,relative=True,wait=False) **Move 100mm in  positive z direction\n",
    "stack = []"
   ]
  },
  {
   "cell_type": "code",
   "execution_count": null,
   "metadata": {},
   "outputs": [],
   "source": [
    "#Make linear movement\n",
    "robo.movel((stack),relative=True,wait=False)"
   ]
  },
  {
   "cell_type": "code",
   "execution_count": null,
   "metadata": {},
   "outputs": [],
   "source": [
    "#record values\n",
    "current_values = getcurrentdata()\n",
    "print(\"Averaged Values : {}\".format(current_values))"
   ]
  },
  {
   "cell_type": "code",
   "execution_count": null,
   "metadata": {},
   "outputs": [],
   "source": [
    "robo.getl()"
   ]
  },
  {
   "cell_type": "code",
   "execution_count": null,
   "metadata": {},
   "outputs": [],
   "source": [
    "#Freedrive\n",
    "robo.set_freedrive(1)"
   ]
  },
  {
   "cell_type": "code",
   "execution_count": null,
   "metadata": {},
   "outputs": [],
   "source": [
    "#Robot stop;\n",
    "robo.stop()"
   ]
  },
  {
   "cell_type": "code",
   "execution_count": null,
   "metadata": {},
   "outputs": [],
   "source": [
    "#### Shivendra Code Example (Using Socket)\n",
    "\n",
    "HOST = \"127.0.0.1\"\n",
    "PORT = 30002\n",
    "s = socket.socket(socket.AF_INET, socket.SOCK_STREAM)\n",
    "s.connect((HOST, PORT))\n",
    "#### for python 2.7 it is not necessary to give encode('utf8')\n",
    "\n",
    "s.send ((\"movej([3.6079858343316016e-11, -1.513388130396497, 1.697370813323119, -0.18398268292112974, 1.5707960000001053, 3.1415929999999714],a=0.2,v=0.2,r=0.05)\"+\"\\n\").encode('utf8'))\n",
    "pose1 = robo.getl()\n",
    "time.sleep(2)\n",
    "s.send ((\"movej([4.803220659048962e-11, -1.4944011977601805, 1.7392338448315048, -0.2448326470640101, 1.5707960000000931, 3.141592999999975],a=0.2,v=0.2,r=0.05)\"+\"\\n\").encode('utf8'))\n",
    "pose2 = robo.getl()\n",
    "time.sleep(2)\n",
    "s.send ((\"movej([8.892868488398877e-11, -1.4294349951058294, 1.8824735266059736, -0.45303853148659456, 1.570796000000051, 3.1415929999999865],a=0.2,v=0.2,r=0.05)\"+\"\\n\").encode('utf8'))\n",
    "pose3 = robo.getl()\n",
    "time.sleep(2)\n",
    "s.send ((\"movej([9.2122860749991928e-10, -1.3781248724266364, 1.9956038211912968, -0.6174789487461858, 1.5707960000000178, 3.141592999999996],a=0.2,v=0.2,r=0.05)\"+\"\\n\").encode('utf8'))\n",
    "pose4 = robo.getl()\n",
    "time.sleep(2)\n",
    "s.send ((\"movej([8.3184566920153055e-10, -1.3612591125646123, 2.032790019196039, -0.6715309066113333, 1.570796000000007, 3.141592999999999],a=0.2,v=0.2,r=0.05)\"+\"\\n\").encode('utf8'))\n",
    "pose5 = robo.getl()\n",
    "time.sleep(2)\n",
    "s.send ((\"movej([4.3721939066439846e-10,-1.3527226739241192,2.051611447945032,-0.6988887740,1.570796000,3.14159300],a=0.2,v=0.2,r=0.05)\"+\"\\n\").encode('utf8'))\n",
    "pose6 = robo.getl()\n",
    "time.sleep(2)\n",
    "s.send ((\"movej([1.3721939066439846e-10,-1.3527226739241192,2.051611447945032,-0.6988887740,1.570796000,3.14159300],a=0.2,v=0.2)\"+\"\\n\").encode('utf8'))\n",
    "pose7 = robo.getl()"
   ]
  }
 ],
 "metadata": {
  "kernelspec": {
   "display_name": "Python 3",
   "language": "python",
   "name": "python3"
  },
  "language_info": {
   "codemirror_mode": {
    "name": "ipython",
    "version": 3
   },
   "file_extension": ".py",
   "mimetype": "text/x-python",
   "name": "python",
   "nbconvert_exporter": "python",
   "pygments_lexer": "ipython3",
   "version": "3.7.6"
  }
 },
 "nbformat": 4,
 "nbformat_minor": 4
}
