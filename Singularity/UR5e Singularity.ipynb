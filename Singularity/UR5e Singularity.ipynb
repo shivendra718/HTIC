{
 "cells": [
  {
   "cell_type": "code",
   "execution_count": 2,
   "metadata": {},
   "outputs": [],
   "source": [
    "import urx\n",
    "import math\n",
    "import numpy as np\n",
    "import time"
   ]
  },
  {
   "cell_type": "code",
   "execution_count": 3,
   "metadata": {},
   "outputs": [],
   "source": [
    "def JointLocations(thetas):\n",
    "    \n",
    "    d1 = 0.1625\n",
    "    a2 = -0.425\n",
    "    a3 = -0.3922\n",
    "    d4 = 0.1333\n",
    "    d5 = 0.0997 \n",
    "    d6 = 0.0996 \n",
    "    \n",
    "    t1 = thetas[0]\n",
    "    t2 = thetas[1]\n",
    "    t3 = thetas[2]\n",
    "    t4 = thetas[3]\n",
    "    t5 = thetas[4]\n",
    "    t23 = t2 +  t3\n",
    "    t234 = t2 + t3 + t4\n",
    "    \n",
    "    theta1 = [0,0,d1]\n",
    "    \n",
    "    theta2 = [(a2*np.cos(t1)*np.cos(t2)),\n",
    "               (a2*np.cos(t2)*np.sin(t1)),\n",
    "               (d1+(a2*np.sin(t2)))]\n",
    "               \n",
    "    theta3 = [np.cos(t1)*((a2*np.cos(t2)) + (a3*np.cos(t23))),\n",
    "              ((a2*np.cos(t2)) + (a3*np.cos(t23))) *np.sin(t1),\n",
    "              d1 + (a2*np.sin(t2))+(a3*np.sin(t23))]\n",
    "               \n",
    "    theta4 = [(np.cos(t1)*(a2*np.cos(t2)+a3*np.cos(t23)) + d4*np.sin(t1)),\n",
    "              -d4*np.cos(t1) + ((a2*np.cos(t2)) + (a3*np.cos(t23)))*np.sin(t1),\n",
    "              d1 + a2*np.sin(t2) + a3*np.sin(t23)]\n",
    "               \n",
    "    theta5 = [ d4*np.sin(t1) + (np.cos(t1) * ((a2*np.cos(t2)) + (a3*np.cos(t23)) + (d5*np.sin(t234)))),\n",
    "              -d4*np.cos(t1) + (np.sin(t1) * ((a2*np.cos(t2)) + (a3*np.cos(t23)) + (d5*np.sin(t234)))),\n",
    "              d1 - (d5*np.cos(t234)) + (a2*np.sin(t2)) + (a3*np.sin(t23))]\n",
    "               \n",
    "    theta6 = [((d4+(d6*np.cos(t5)))*np.sin(t1)) + np.cos(t1) * ((a2*np.cos(t2)) + (a3*np.cos(t23)) + (d5*np.sin(t234)) -(d6*np.cos(t234)*np.sin(t5))),\n",
    "              (-np.cos(t1) * (d4+ (d6*np.cos(t5)))) + np.sin(t1) * ((a2*np.cos(t2)) + (a3*np.cos(t23)) + (d5*np.sin(t234)) - (d6*np.cos(t234)*np.sin(t5))),\n",
    "              d1 - (d5*np.cos(t234)) + (a2*np.sin(t2)) + (a3*np.sin(t23)) - (d6*np.sin(t234)*np.sin(t5))]\n",
    "    \n",
    "    positions = [theta1,theta2,theta3,theta4,theta5,theta6]\n",
    "    return positions\n",
    "\n",
    "def Vec2UnitVec(vec):\n",
    "    norm = np.sqrt( np.square(vec[0]) + np.square(vec[1]) + np.square(vec[2]))\n",
    "    vector = vec / norm\n",
    "    return vector\n",
    "\n",
    "def VecNorm(vec):\n",
    "    norm = np.sqrt( np.square(vec[0]) + np.square(vec[1]) + np.square(vec[2]))\n",
    "    return norm"
   ]
  },
  {
   "cell_type": "code",
   "execution_count": 1,
   "metadata": {},
   "outputs": [],
   "source": [
    "# Choose Resulatant value less than 0.1 to meet singularity"
   ]
  },
  {
   "cell_type": "code",
   "execution_count": 21,
   "metadata": {},
   "outputs": [
    {
     "name": "stderr",
     "output_type": "stream",
     "text": [
      "tried 11 times to find a packet in data, advertised packet size: -2, type: 3\n",
      "Data length: 68\n",
      "tried 11 times to find a packet in data, advertised packet size: -2, type: 3\n",
      "Data length: 1092\n",
      "tried 11 times to find a packet in data, advertised packet size: -2, type: 3\n",
      "Data length: 1454\n"
     ]
    },
    {
     "name": "stdout",
     "output_type": "stream",
     "text": [
      "0.9091832300665382\n"
     ]
    }
   ],
   "source": [
    "# robo = urx.Robot(\"127.0.0.1\")\n",
    "robo = urx.Robot(\"172.16.101.225\")\n",
    "while(True): #Wrist Singularity\n",
    "    Positions = JointLocations(robo.getj())\n",
    "    wristvec1 = np.asarray(Positions[3]) - np.asarray(Positions[2])\n",
    "    wristvec2 = np.asarray(Positions[5]) - np.asarray(Positions[4])\n",
    "    Resultatnt = np.cross(Vec2UnitVec( wristvec1), Vec2UnitVec( wristvec2))\n",
    "    print(VecNorm(Resultatnt))\n",
    "    break\n",
    "    "
   ]
  },
  {
   "cell_type": "code",
   "execution_count": 20,
   "metadata": {},
   "outputs": [
    {
     "name": "stderr",
     "output_type": "stream",
     "text": [
      "tried 11 times to find a packet in data, advertised packet size: -2, type: 3\n",
      "Data length: 68\n",
      "tried 11 times to find a packet in data, advertised packet size: -2, type: 3\n",
      "Data length: 1092\n",
      "tried 11 times to find a packet in data, advertised packet size: -2, type: 3\n",
      "Data length: 1454\n"
     ]
    },
    {
     "name": "stdout",
     "output_type": "stream",
     "text": [
      "0.8878025487224322\n"
     ]
    }
   ],
   "source": [
    "# robo = urx.Robot(\"127.0.0.1\")\n",
    "robo = urx.Robot(\"172.16.101.225\")\n",
    "while(True): #Elbow Singularity\n",
    "    Positions = JointLocations(robo.getj())\n",
    "    wristvec1 = np.asarray(Positions[1]) - np.asarray(Positions[0])\n",
    "    wristvec2 = np.asarray(Positions[2]) - np.asarray(Positions[1])\n",
    "    Resultatnt = np.cross(Vec2UnitVec( wristvec1), Vec2UnitVec( wristvec2))\n",
    "    print(VecNorm(Resultatnt))\n",
    "    break"
   ]
  },
  {
   "cell_type": "code",
   "execution_count": 1,
   "metadata": {},
   "outputs": [
    {
     "ename": "NameError",
     "evalue": "name 'robo' is not defined",
     "output_type": "error",
     "traceback": [
      "\u001b[1;31m---------------------------------------------------------------------------\u001b[0m",
      "\u001b[1;31mNameError\u001b[0m                                 Traceback (most recent call last)",
      "\u001b[1;32m<ipython-input-1-a6111b3d755b>\u001b[0m in \u001b[0;36m<module>\u001b[1;34m\u001b[0m\n\u001b[1;32m----> 1\u001b[1;33m \u001b[0mrobo\u001b[0m\u001b[1;33m.\u001b[0m\u001b[0mgetj\u001b[0m\u001b[1;33m(\u001b[0m\u001b[1;33m)\u001b[0m\u001b[1;33m\u001b[0m\u001b[1;33m\u001b[0m\u001b[0m\n\u001b[0m",
      "\u001b[1;31mNameError\u001b[0m: name 'robo' is not defined"
     ]
    }
   ],
   "source": [
    "robo.getj()"
   ]
  },
  {
   "cell_type": "code",
   "execution_count": 19,
   "metadata": {},
   "outputs": [
    {
     "name": "stderr",
     "output_type": "stream",
     "text": [
      "tried 11 times to find a packet in data, advertised packet size: -2, type: 3\n",
      "Data length: 68\n",
      "tried 11 times to find a packet in data, advertised packet size: -2, type: 3\n",
      "Data length: 1092\n",
      "tried 11 times to find a packet in data, advertised packet size: -2, type: 3\n",
      "Data length: 1454\n"
     ]
    },
    {
     "name": "stdout",
     "output_type": "stream",
     "text": [
      "0.8871979915616709\n"
     ]
    }
   ],
   "source": [
    "# robo = urx.Robot(\"127.0.0.1\")\n",
    "robo = urx.Robot(\"172.16.101.225\")\n",
    "while(True): #Shoulder Singularity\n",
    "    Positions = JointLocations(robo.getj())\n",
    "    wristvec1 = np.asarray(Positions[2]) - np.asarray(Positions[1])\n",
    "    wristvec2 = np.asarray(Positions[4]) - np.asarray(Positions[3])\n",
    "    Resultatnt = np.cross(Vec2UnitVec( wristvec1), Vec2UnitVec( wristvec2))\n",
    "    print(VecNorm(Resultatnt))\n",
    "    \n",
    "    break"
   ]
  },
  {
   "cell_type": "code",
   "execution_count": null,
   "metadata": {},
   "outputs": [],
   "source": []
  },
  {
   "cell_type": "code",
   "execution_count": null,
   "metadata": {},
   "outputs": [],
   "source": []
  },
  {
   "cell_type": "code",
   "execution_count": null,
   "metadata": {},
   "outputs": [],
   "source": []
  }
 ],
 "metadata": {
  "kernelspec": {
   "display_name": "Python 3",
   "language": "python",
   "name": "python3"
  },
  "language_info": {
   "codemirror_mode": {
    "name": "ipython",
    "version": 3
   },
   "file_extension": ".py",
   "mimetype": "text/x-python",
   "name": "python",
   "nbconvert_exporter": "python",
   "pygments_lexer": "ipython3",
   "version": "3.5.2"
  }
 },
 "nbformat": 4,
 "nbformat_minor": 4
}
