{
 "cells": [
  {
   "cell_type": "code",
   "execution_count": 1,
   "metadata": {},
   "outputs": [],
   "source": [
    "import urx\n",
    "import math\n",
    "import math3d as m3d\n",
    "import numpy as np\n",
    "import time"
   ]
  },
  {
   "cell_type": "code",
   "execution_count": 2,
   "metadata": {},
   "outputs": [
    {
     "name": "stderr",
     "output_type": "stream",
     "text": [
      "tried 11 times to find a packet in data, advertised packet size: -2, type: 3\n",
      "Data length: 68\n",
      "tried 11 times to find a packet in data, advertised packet size: -2, type: 3\n",
      "Data length: 1092\n",
      "tried 11 times to find a packet in data, advertised packet size: -2, type: 3\n",
      "Data length: 1454\n"
     ]
    }
   ],
   "source": [
    "#Connection Establishment\n",
    "robo = urx.Robot(\"172.16.101.225\")\n",
    "# robo = urx.Robot(\"127.0.0.1\")"
   ]
  },
  {
   "cell_type": "code",
   "execution_count": 5,
   "metadata": {},
   "outputs": [
    {
     "name": "stderr",
     "output_type": "stream",
     "text": [
      "Exception in thread Thread-4:\n",
      "Traceback (most recent call last):\n",
      "  File \"/usr/lib/python3.5/threading.py\", line 914, in _bootstrap_inner\n",
      "    self.run()\n",
      "  File \"/home/shivendra/virtual_robotics_urx/lib/python3.5/site-packages/urx/ursecmon.py\", line 286, in run\n",
      "    data = self._get_data()\n",
      "  File \"/home/shivendra/virtual_robotics_urx/lib/python3.5/site-packages/urx/ursecmon.py\", line 333, in _get_data\n",
      "    tmp = self._s_secondary.recv(1024)\n",
      "ConnectionResetError: [Errno 104] Connection reset by peer\n",
      "\n"
     ]
    }
   ],
   "source": [
    "#Home position\n",
    "robo.movej(( 0,-math.pi/2,math.pi/2,0,math.pi/2,math.pi),0.4,0.4,wait=False)"
   ]
  },
  {
   "cell_type": "code",
   "execution_count": 4,
   "metadata": {},
   "outputs": [],
   "source": [
    "### no load test locations\n",
    "robo.movel([0.13320309651746073,-0.4954683769217692,0.20951718632699756,0.0042340583404314154,2.177199136962121,-2.2633215558319617],0.55,0.55,wait = False)"
   ]
  },
  {
   "cell_type": "code",
   "execution_count": null,
   "metadata": {},
   "outputs": [],
   "source": [
    "def getcurrentdata():\n",
    "    xvalue = 0\n",
    "    yvalue = 0\n",
    "    zvalue = 0\n",
    "    \n",
    "    for i in range(10):\n",
    "        value = robo.getl()\n",
    "        xvalue += value[0]\n",
    "        yvalue += value[1]\n",
    "        zvalue += value[2]\n",
    "        time.sleep(0.2)\n",
    "    \n",
    "    store = [xvalue,yvalue,zvalue]\n",
    "    \n",
    "    return store"
   ]
  },
  {
   "cell_type": "code",
   "execution_count": null,
   "metadata": {},
   "outputs": [],
   "source": [
    "#Define movemnents : \n",
    "# Example : robo.movel((0,0,0.1,0,0,0),0.1,0.1,relative=True,wait=False) **Move 100mm in  positive z direction\n",
    "stack = []"
   ]
  },
  {
   "cell_type": "code",
   "execution_count": null,
   "metadata": {},
   "outputs": [],
   "source": [
    "#Make linear movement\n",
    "robo.movel((stack),relative=True,wait=False)"
   ]
  },
  {
   "cell_type": "code",
   "execution_count": null,
   "metadata": {},
   "outputs": [],
   "source": [
    "#record values\n",
    "current_values = getcurrentdata()\n",
    "print(\"Averaged Values : {}\".format(current_values))"
   ]
  },
  {
   "cell_type": "code",
   "execution_count": null,
   "metadata": {},
   "outputs": [],
   "source": [
    "print(robo.getl())"
   ]
  },
  {
   "cell_type": "code",
   "execution_count": null,
   "metadata": {},
   "outputs": [],
   "source": [
    "#Freedrive\n",
    "robo.set_freedrive(1)"
   ]
  },
  {
   "cell_type": "code",
   "execution_count": null,
   "metadata": {},
   "outputs": [],
   "source": [
    "robo.movel?"
   ]
  },
  {
   "cell_type": "code",
   "execution_count": null,
   "metadata": {},
   "outputs": [],
   "source": [
    "#Robot stop;\n",
    "robo.stop()\n"
   ]
  },
  {
   "cell_type": "code",
   "execution_count": 5,
   "metadata": {},
   "outputs": [],
   "source": [
    "## elbow singularity\n",
    "\n",
    "robo.movel([-0.492004002353991, -0.73281570412024146, 0.48789414579214485, -1.2115204835916693, -1.2079043740763233, 1.2092796982747473],0.1,0.1,wait=False)\n",
    "# robo.movel([-0.492004002353991, -0.13281570412024146, 2.48789414579214485, -1.2115204835916693, -1.2079043740763233, 1.2092796982747473],0.1,0.1,wait=False)"
   ]
  },
  {
   "cell_type": "code",
   "execution_count": null,
   "metadata": {},
   "outputs": [],
   "source": [
    "###\n",
    "\n",
    "robo.movel((0,0,0.1,0,0,0),0.1,0.1,relative=True,wait=False)"
   ]
  },
  {
   "cell_type": "code",
   "execution_count": null,
   "metadata": {},
   "outputs": [],
   "source": [
    "Entry = [-0.34013142183723866, -0.4682166666520096, -0.1692487433065063, 2.2485574998780606, 0.28635238123721096, -1.0991530781196812]\n",
    "Target = [-0.29719530338769057, -0.43194125217662493, -0.279533269411366, 2.398974144547292, 0.29874517340763723, -0.9587474334019593]\n",
    "\n",
    "Entry = np.asarray(Entry)\n",
    "Entry = Entry * 1000\n",
    "Target = np.asarray(Target)\n",
    "Target = Target * 1000\n",
    "print(Entry)\n",
    "print(Target)"
   ]
  },
  {
   "cell_type": "code",
   "execution_count": 4,
   "metadata": {},
   "outputs": [
    {
     "data": {
      "text/plain": [
       "[4.76837158203125e-07,\n",
       " -1.57080139736318,\n",
       " 1.570789639149801,\n",
       " -9.850864746141497e-06,\n",
       " 1.5707478523254395,\n",
       " 3.141613483428955]"
      ]
     },
     "execution_count": 4,
     "metadata": {},
     "output_type": "execute_result"
    },
    {
     "name": "stderr",
     "output_type": "stream",
     "text": [
      "Exception in thread Thread-4:\n",
      "Traceback (most recent call last):\n",
      "  File \"/usr/lib/python3.5/threading.py\", line 914, in _bootstrap_inner\n",
      "    self.run()\n",
      "  File \"/home/shivendra/virtual_robotics_urx/lib/python3.5/site-packages/urx/ursecmon.py\", line 286, in run\n",
      "    data = self._get_data()\n",
      "  File \"/home/shivendra/virtual_robotics_urx/lib/python3.5/site-packages/urx/ursecmon.py\", line 333, in _get_data\n",
      "    tmp = self._s_secondary.recv(1024)\n",
      "ConnectionResetError: [Errno 104] Connection reset by peer\n",
      "\n"
     ]
    }
   ],
   "source": [
    "robo.getj()"
   ]
  },
  {
   "cell_type": "code",
   "execution_count": 30,
   "metadata": {},
   "outputs": [],
   "source": [
    "Ryz = [-1.2114564411573427,\n",
    " -1.2078672892093762,\n",
    " 1.2092725333212169]"
   ]
  },
  {
   "cell_type": "code",
   "execution_count": null,
   "metadata": {},
   "outputs": [],
   "source": [
    "[  0.1255684, -0.3320655, -0.9348610\n",
    "   0.6384656, -0.6941991,  0.3323390\n",
    "  -0.7593380, -0.6386079,  0.1248429 ]"
   ]
  },
  {
   "cell_type": "raw",
   "metadata": {},
   "source": [
    "robo.movel?"
   ]
  },
  {
   "cell_type": "code",
   "execution_count": null,
   "metadata": {},
   "outputs": [],
   "source": []
  }
 ],
 "metadata": {
  "kernelspec": {
   "display_name": "Python 3",
   "language": "python",
   "name": "python3"
  },
  "language_info": {
   "codemirror_mode": {
    "name": "ipython",
    "version": 3
   },
   "file_extension": ".py",
   "mimetype": "text/x-python",
   "name": "python",
   "nbconvert_exporter": "python",
   "pygments_lexer": "ipython3",
   "version": "3.5.2"
  }
 },
 "nbformat": 4,
 "nbformat_minor": 2
}
