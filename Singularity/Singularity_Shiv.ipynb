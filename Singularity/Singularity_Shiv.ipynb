{
 "cells": [
  {
   "cell_type": "code",
   "execution_count": null,
   "metadata": {},
   "outputs": [],
   "source": [
    "import urx\n",
    "import math\n",
    "import numpy as np\n",
    "import time\n",
    "import plotly.graph_objects as go\n",
    "from numpy import *"
   ]
  },
  {
   "cell_type": "code",
   "execution_count": null,
   "metadata": {},
   "outputs": [],
   "source": [
    "def JointLocations(thetas):\n",
    "    \n",
    "    d1 = 0.1625\n",
    "    a2 = -0.425\n",
    "    a3 = -0.3922\n",
    "    d4 = 0.1333\n",
    "    d5 = 0.0997 \n",
    "    d6 = 0.0996 \n",
    "    \n",
    "    t1 = thetas[0]\n",
    "    t2 = thetas[1]\n",
    "    t3 = thetas[2]\n",
    "    t4 = thetas[3]\n",
    "    t5 = thetas[4]\n",
    "    t23 = t2 +  t3\n",
    "    t234 = t2 + t3 + t4\n",
    "    \n",
    "    theta1 = [0,0,d1]\n",
    "    \n",
    "    theta2 = [(a2*np.cos(t1)*np.cos(t2)),\n",
    "               (a2*np.cos(t2)*np.sin(t1)),\n",
    "               (d1+(a2*np.sin(t2)))]\n",
    "               \n",
    "    theta3 = [np.cos(t1)*((a2*np.cos(t2)) + (a3*np.cos(t23))),\n",
    "              ((a2*np.cos(t2)) + (a3*np.cos(t23))) *np.sin(t1),\n",
    "              d1 + (a2*np.sin(t2))+(a3*np.sin(t23))]\n",
    "               \n",
    "    theta4 = [(np.cos(t1)*(a2*np.cos(t2)+a3*np.cos(t23)) + d4*np.sin(t1)),\n",
    "              -d4*np.cos(t1) + ((a2*np.cos(t2)) + (a3*np.cos(t23)))*np.sin(t1),\n",
    "              d1 + a2*np.sin(t2) + a3*np.sin(t23)]\n",
    "               \n",
    "    theta5 = [ d4*np.sin(t1) + (np.cos(t1) * ((a2*np.cos(t2)) + (a3*np.cos(t23)) + (d5*np.sin(t234)))),\n",
    "              -d4*np.cos(t1) + (np.sin(t1) * ((a2*np.cos(t2)) + (a3*np.cos(t23)) + (d5*np.sin(t234)))),\n",
    "              d1 - (d5*np.cos(t234)) + (a2*np.sin(t2)) + (a3*np.sin(t23))]\n",
    "               \n",
    "    theta6 = [((d4+(d6*np.cos(t5)))*np.sin(t1)) + np.cos(t1) * ((a2*np.cos(t2)) + (a3*np.cos(t23)) + (d5*np.sin(t234)) -(d6*np.cos(t234)*np.sin(t5))),\n",
    "              (-np.cos(t1) * (d4+ (d6*np.cos(t5)))) + np.sin(t1) * ((a2*np.cos(t2)) + (a3*np.cos(t23)) + (d5*np.sin(t234)) - (d6*np.cos(t234)*np.sin(t5))),\n",
    "              d1 - (d5*np.cos(t234)) + (a2*np.sin(t2)) + (a3*np.sin(t23)) - (d6*np.sin(t234)*np.sin(t5))]\n",
    "    \n",
    "    positions = [theta1,theta2,theta3,theta4,theta5,theta6]\n",
    "    return positions\n",
    "\n",
    "def Vec2UnitVec(vec):\n",
    "    norm = np.sqrt( np.square(vec[0]) + np.square(vec[1]) + np.square(vec[2]))\n",
    "    vector = vec / norm\n",
    "    return vector\n",
    "\n",
    "def VecNorm(vec):\n",
    "    norm = np.sqrt( np.square(vec[0]) + np.square(vec[1]) + np.square(vec[2]))\n",
    "    return norm"
   ]
  },
  {
   "cell_type": "code",
   "execution_count": 7,
   "metadata": {},
   "outputs": [
    {
     "name": "stderr",
     "output_type": "stream",
     "text": [
      "tried 11 times to find a packet in data, advertised packet size: -2, type: 3\n",
      "Data length: 44\n",
      "tried 11 times to find a packet in data, advertised packet size: -2, type: 3\n",
      "Data length: 68\n",
      "tried 11 times to find a packet in data, advertised packet size: -2, type: 3\n",
      "Data length: 1092\n",
      "tried 11 times to find a packet in data, advertised packet size: -2, type: 3\n",
      "Data length: 1454\n"
     ]
    }
   ],
   "source": [
    "robo = urx.Robot(\"172.16.101.225\")\n",
    "# robo = urx.Robot(\"127.0.0.1\")"
   ]
  },
  {
   "cell_type": "code",
   "execution_count": null,
   "metadata": {},
   "outputs": [],
   "source": [
    "while True: #Elbow Singularity\n",
    "    fig = go.Figure()\n",
    "    x = []\n",
    "    y = []\n",
    "    z = []\n",
    "    \n",
    "#     Positions = JointLocations([0,-np.pi/2,np.pi/2,0,np.pi/2,np.pi])\n",
    "    Positions = JointLocations(robo.getj())\n",
    "    wristvec1 = np.asarray(Positions[3]) - np.asarray(Positions[2])\n",
    "    wristvec2 = np.asarray(Positions[5]) - np.asarray(Positions[4])\n",
    "    Resultatnt = np.cross(Vec2UnitVec( wristvec1), Vec2UnitVec( wristvec2))\n",
    "    print(VecNorm(Resultatnt),\"Wrist\")\n",
    "        \n",
    "    wristvec1 = np.asarray(Positions[1]) - np.asarray(Positions[0])\n",
    "    wristvec2 = np.asarray(Positions[2]) - np.asarray(Positions[1])\n",
    "    Resultatnt1 = np.cross(Vec2UnitVec( wristvec1), Vec2UnitVec( wristvec2))\n",
    "    print(VecNorm(Resultatnt1),\"Elbow\")\n",
    "    \n",
    "    \n",
    "#     wristvec1 = np.asarray(Positions[1]) - np.asarray(Positions[0])\n",
    "#     wristvec3 = np.asarray(Positions[3]) - np.asarray(Positions[2])\n",
    "\n",
    "#     wristvec2 = np.asarray(Positions[5]) - np.asarray(Positions[3])\n",
    "# #     res = np.cross(Vec2UnitVec( wristvec2), Vec2UnitVec( wristvec3))\n",
    "#     Resultatnt2 = np.cross(Vec2UnitVec( wristvec1), Vec2UnitVec( wristvec2))\n",
    "#     print(VecNorm(Resultatnt2),\"Shoulder\")\n",
    "    \n",
    "    p1 = Positions[0]\n",
    "    p2 = [0,0.1333,0.1625]\n",
    "    vector1 = np.subtract(p2,p1)\n",
    "    p = p1 + 0.5*(vector1)\n",
    "    p = [p[0],p[1],p[2]+10]\n",
    "    vec2 = np.subtract(p2,p)\n",
    "\n",
    "    a,b,c = np.cross(vec2,vector1)\n",
    "    d = a*p[0] + b*p[1] + c*p[2]\n",
    "    d1 = a* Positions[2][0] + b*Positions[2][1] + c*Positions[2][2]\n",
    "    d2 = a* Positions[3][0] + b*Positions[3][1] + c*Positions[3][2]\n",
    "    print(d)\n",
    "    print(d1)\n",
    "    print(d2)\n",
    "    for i in range(len(Positions)):\n",
    "        x.append(Positions[i][0])\n",
    "        y.append(Positions[i][1])\n",
    "        z.append(Positions[i][2])\n",
    "    if (d1 <= d+0.2 and d1 >= d-0.2) and (d2 <= d+0.2 and d2 >= d-0.2): \n",
    "        print(\"Shoulder\")\n",
    "    data = go.Scatter3d(x=x, y=y,z=z)\n",
    "    data1 = go.Scatter3d(x=[Positions[0][0],p2[0]],y=[Positions[0][1],p2[1]],z=[Positions[0][2],p2[2]])\n",
    "    fig.add_trace(data)\n",
    "    fig.add_trace(data1)\n",
    "    fig.show()   \n",
    "    break\n",
    "    "
   ]
  },
  {
   "cell_type": "code",
   "execution_count": null,
   "metadata": {},
   "outputs": [],
   "source": [
    "## shoulder \n",
    "# robo.movej([-0.06977492967714483, -2.534757753411764, 2.05109674135317, 0.483809157008789, 1.5024313926696777, 3.1407737731933594],0.2,0.2,wait=False)\n",
    "robo.movel([-0.10705350142130086, -0.13283605224840636, 0.4879043453543332, -1.2114441235423856, -1.2078457149245494, 1.2092390087185882],0.2,0.2,wait=False)\n"
   ]
  },
  {
   "cell_type": "code",
   "execution_count": null,
   "metadata": {},
   "outputs": [],
   "source": [
    "## elbow\n",
    "\n",
    "robo.movej([0.7972707748413086,\n",
    " -0.5574820798686524,\n",
    " 0.02177602449526006,\n",
    " 0.5355483728596191,\n",
    " 2.368805408477783,\n",
    " 3.143150806427002],0.2,0.2,wait=False)"
   ]
  },
  {
   "cell_type": "code",
   "execution_count": null,
   "metadata": {},
   "outputs": [],
   "source": [
    "## wrist\n",
    "# robo.movej([-1.3761499563800257, -0.4601392310908814, 1.8812263647662562, -4.30295004467153, -0.5618003050433558, 5.4686055183410645],0.2,0.2,wait=False)\n",
    "robo.movel([-0.3126986484064443, 0.46471863658009055, 0.04567248674201419, -1.068165826146162, -1.3611541178786069, 0.46179122711978055],0.2,0.2,wait=False)"
   ]
  },
  {
   "cell_type": "code",
   "execution_count": 40,
   "metadata": {},
   "outputs": [
    {
     "name": "stderr",
     "output_type": "stream",
     "text": [
      "Exception in thread Thread-19:\n",
      "Traceback (most recent call last):\n",
      "  File \"/usr/lib/python3.5/threading.py\", line 914, in _bootstrap_inner\n",
      "    self.run()\n",
      "  File \"/home/shivendra/virtual_robotics_urx/lib/python3.5/site-packages/urx/ursecmon.py\", line 286, in run\n",
      "    data = self._get_data()\n",
      "  File \"/home/shivendra/virtual_robotics_urx/lib/python3.5/site-packages/urx/ursecmon.py\", line 333, in _get_data\n",
      "    tmp = self._s_secondary.recv(1024)\n",
      "ConnectionResetError: [Errno 104] Connection reset by peer\n",
      "\n"
     ]
    }
   ],
   "source": [
    "#Home position\n",
    "\n",
    "robo.movej(( 0,-math.pi/2,math.pi/2,0,math.pi/2,math.pi),0.4,0.4,wait=False)"
   ]
  },
  {
   "cell_type": "code",
   "execution_count": null,
   "metadata": {},
   "outputs": [],
   "source": [
    "# robo.movej([0.028643131256103516,\n",
    "#  -2.4621011219420375,\n",
    "#  1.8871234099017542,\n",
    "#  0.5666495996662597,\n",
    "#  1.803328037261963,\n",
    "#  2.9882988929748535],0.2,0.2,wait=False)"
   ]
  },
  {
   "cell_type": "code",
   "execution_count": null,
   "metadata": {},
   "outputs": [],
   "source": [
    "current_value_l = []\n",
    "current_value_j = []\n",
    "while robo.is_program_running():\n",
    "    c = robo.getl()\n",
    "    d = robo.getj()\n",
    "    current_value_l.append(c)\n",
    "    current_value_j.append(d)\n",
    "    time.sleep(1)\n",
    "print(current_value_l)\n",
    "print(current_value_j)\n",
    "print(len(current_value_j))"
   ]
  },
  {
   "cell_type": "code",
   "execution_count": null,
   "metadata": {},
   "outputs": [],
   "source": [
    "jv =[[-0.11755825002816334, -1.588956108050498, 1.5886952059416677, 0.0002609021088302299, 1.235712176989893, 3.141592653589793],\n",
    "[-0.11735838035549917, -1.6322636271396274, 1.6671200328209412, -0.034219952804795284, 1.4547193402539726, 3.1432282238192513],\n",
    "[-0.19623702544099597, -1.657019553818711, 1.7073410644023728, 0.027898477786155063, 1.305201702151999, 3.0982207670132005],\n",
    "[-0.23693623276479947, -1.6835041052044648, 1.761448588817231, 0.04191597742157516, 1.339703827092271, 3.071354135434561],\n",
    "[-0.27693214535859045, -1.7041717687323557, 1.813165981264886, 0.053302378691003405, 1.3757139352972885, 3.0414533957235097],\n",
    "[-0.31480378684948085, -1.7183284820167364, 1.8631391410344147, 0.05998006653564758, 1.4146475650402175, 3.0091984261846587],\n",
    "[-0.34918873009485707, -1.7252185428136197, 1.9117982121836556, 0.059953138793679805, 1.4577997463826102, 2.9754675316463652],\n",
    "[-0.3789021589176311, -1.7239724347738346, 1.9593113145346877, 0.05131416615141582, 1.506220629359391, 2.9412019626896346],\n",
    "[-0.403087594664725, -1.7135909620303815, 2.005539110127854, 0.03230435989443414, 1.5605739840516542, 2.9072381899710242],\n",
    "[-0.4526287992770628, -1.7082132588432088, 2.069128025058707, -0.01909630177342958, 1.552677360710728, 2.87726758629572],\n",
    "[-0.5302062032468808, -1.7049884852985286, 2.147584369998844, -0.09935115023856955, 1.4796024790608275, 2.851178289925935],\n",
    "[-0.6047302166812958, -1.686463498603132, 2.220703336072268, -0.18779565426046396, 1.4094620417435528, 2.8257884564809714],\n",
    "[-0.67566459714971, -1.6508160016858238, 2.2877197299453083, -0.28567717308057405, 1.3427964826486174, 2.801080620973202],\n",
    "[-0.742913056696626, -1.5963801974361722, 2.347477860063791, -0.39367341465301253, 1.2797222830277253, 2.7769437052079553],\n",
    "[-0.8068495576195243, -1.5221187221873578, 2.3984495360610407, -0.5113920087720172, 1.2199080026113784, 2.7531372713102824],\n",
    "[-0.8681222516988865, -1.4282015309712133, 2.438850120795679, -0.6368858074740591, 1.1627645365945023, 2.7293263535765804],\n",
    "[-0.9275812224789415, -1.316750487641043, 2.466852127286743, -0.7660985067642265, 1.107519541772895, 2.705070565566399]]"
   ]
  },
  {
   "cell_type": "code",
   "execution_count": null,
   "metadata": {},
   "outputs": [],
   "source": [
    "print(robo.getj())"
   ]
  },
  {
   "cell_type": "code",
   "execution_count": null,
   "metadata": {},
   "outputs": [],
   "source": [
    "Positions = JointLocations(jv[1])\n",
    "wristvec1 = np.asarray(Positions[1]) - np.asarray(Positions[0])\n",
    "wristvec2 = np.asarray(Positions[5]) - np.asarray(Positions[3])\n",
    "Resultatnt = np.cross(Vec2UnitVec( wristvec1), Vec2UnitVec( wristvec2))\n",
    "print(Resultatnt)\n"
   ]
  },
  {
   "cell_type": "code",
   "execution_count": null,
   "metadata": {},
   "outputs": [],
   "source": [
    "print(robo.getl())"
   ]
  },
  {
   "cell_type": "code",
   "execution_count": null,
   "metadata": {},
   "outputs": [],
   "source": [
    "\n",
    "    \n",
    "    "
   ]
  },
  {
   "cell_type": "code",
   "execution_count": null,
   "metadata": {},
   "outputs": [],
   "source": [
    "def Singularity(jv,step):\n",
    "    stack = []\n",
    "    jv1 = []\n",
    "    arr1 = []\n",
    "    for i in range(len(jv)-1):\n",
    "        mid = np.linspace(jv[i],jv[i+1],step)\n",
    "        arr1.append(mid)\n",
    "        for j in range(len(arr1[0])):\n",
    "            jv1.append(list(arr1[i][j]))\n",
    "    for i in range(len(jv1)):        \n",
    "        Positions = JointLocations(jv1[i])\n",
    "    #     print(Positions)\n",
    "        wristvec1 = np.asarray(Positions[3]) - np.asarray(Positions[2])\n",
    "        wristvec2 = np.asarray(Positions[5]) - np.asarray(Positions[4])\n",
    "        Resultatnt = np.cross(Vec2UnitVec( wristvec1), Vec2UnitVec( wristvec2))\n",
    "        Res = VecNorm(Resultatnt)#wrist\n",
    "        elbowvec1 = np.asarray(Positions[1]) - np.asarray(Positions[0])\n",
    "        elbowvec2 = np.asarray(Positions[2]) - np.asarray(Positions[1])\n",
    "        Resultatnt1 = np.cross(Vec2UnitVec( elbowvec1), Vec2UnitVec( elbowvec2))\n",
    "        Res1 = VecNorm(Resultatnt1)#elbow\n",
    "        \n",
    "        p1 = Positions[0]\n",
    "        p2 = [0,0.1333,0.1625]\n",
    "#         p2 = [0,-Positions[3][1],p1[2]]\n",
    "        vector1 = np.subtract(p2,p1)\n",
    "        p = p1 + 0.5*(vector1)\n",
    "        p = [p[0],p[1],p[2]+10]\n",
    "        vec2 = np.subtract(p2,p)\n",
    "\n",
    "        a,b,c = np.cross(vec2,vector1)\n",
    "        d = a*p[0] + b*p[1] + c*p[2]\n",
    "        d1 = a* Positions[2][0] + b*Positions[2][1] + c*Positions[2][2]\n",
    "        d2 = a* Positions[3][0] + b*Positions[3][1] + c*Positions[3][2]\n",
    "        if (d1 <= d+0.2 and d1 >= d-0.2) and (d2 <= d+0.2 and d2 >= d-0.2): \n",
    "            print(\"Shoulder\")\n",
    "            retval = 1\n",
    "            stack.append(retval)\n",
    "        elif Res>=0 and Res<=0.2:\n",
    "            print(Res,\"Wrist\",i)\n",
    "            retval = 1\n",
    "            stack.append(retval)\n",
    "        elif Res1>=0 and Res1<=0.2:\n",
    "            print(Res1,\"Elbow\",i)\n",
    "            retval = 1\n",
    "            stack.append(retval)\n",
    "        else:\n",
    "            print(\"NO SINGULARITY\")\n",
    "            retval = 0\n",
    "            stack.append(retval)\n",
    "    if np.any(stack) == 1:\n",
    "        return 1\n",
    "    else: \n",
    "        return 0"
   ]
  },
  {
   "cell_type": "code",
   "execution_count": null,
   "metadata": {
    "scrolled": true
   },
   "outputs": [],
   "source": [
    "Singularity(jv,5)"
   ]
  },
  {
   "cell_type": "raw",
   "metadata": {},
   "source": []
  },
  {
   "cell_type": "code",
   "execution_count": null,
   "metadata": {},
   "outputs": [],
   "source": [
    "def a(jv,dist):\n",
    "    arr1 = []\n",
    "    jv1 = []\n",
    "    for i in range(len(jv)-1):\n",
    "        arr = np.linspace(jv[i],jv[i+1],dist)\n",
    "        arr1.append(arr)\n",
    "        for j in range(len(arr1[0])):\n",
    "            jv1.append(list(arr1[i][j]))\n",
    "#         jv = arr1\n",
    "#         for j in range(len(arr[0])):\n",
    "#             jv.insert(i,arr1[i][j])\n",
    "    print(jv1)\n",
    "#     print(jv)\n",
    "    print(len(jv1))\n",
    "#     print(jv)"
   ]
  },
  {
   "cell_type": "code",
   "execution_count": null,
   "metadata": {},
   "outputs": [],
   "source": [
    "a(jv,5)"
   ]
  },
  {
   "cell_type": "code",
   "execution_count": null,
   "metadata": {},
   "outputs": [],
   "source": [
    "jv = [[-1.0328727426480577, 4.711942876314112, -4.262348083154811, -0.44745266165273456, 2.633501137594452, 0.0009163376558587007]]"
   ]
  },
  {
   "cell_type": "code",
   "execution_count": null,
   "metadata": {},
   "outputs": [],
   "source": [
    "for i in range(len(jv)):\n",
    "    for j in range(len(jv[0])):\n",
    "        if jv[i][j] >= 3:\n",
    "            jv[i][j] = -2*pi + jv[i][j]\n",
    "        if jv[i][j] <= -3:\n",
    "            jv[i][j] = 2*pi + jv[i][j]\n",
    "print(jv)"
   ]
  },
  {
   "cell_type": "code",
   "execution_count": 10,
   "metadata": {},
   "outputs": [
    {
     "name": "stderr",
     "output_type": "stream",
     "text": [
      "Exception in thread Thread-5:\n",
      "Traceback (most recent call last):\n",
      "  File \"/usr/lib/python3.5/threading.py\", line 914, in _bootstrap_inner\n",
      "    self.run()\n",
      "  File \"/home/shivendra/virtual_robotics_urx/lib/python3.5/site-packages/urx/ursecmon.py\", line 286, in run\n",
      "    data = self._get_data()\n",
      "  File \"/home/shivendra/virtual_robotics_urx/lib/python3.5/site-packages/urx/ursecmon.py\", line 333, in _get_data\n",
      "    tmp = self._s_secondary.recv(1024)\n",
      "ConnectionResetError: [Errno 104] Connection reset by peer\n",
      "Exception in thread Thread-6:\n",
      "Traceback (most recent call last):\n",
      "  File \"/usr/lib/python3.5/threading.py\", line 914, in _bootstrap_inner\n",
      "    self.run()\n",
      "  File \"/home/shivendra/virtual_robotics_urx/lib/python3.5/site-packages/urx/ursecmon.py\", line 286, in run\n",
      "    data = self._get_data()\n",
      "  File \"/home/shivendra/virtual_robotics_urx/lib/python3.5/site-packages/urx/ursecmon.py\", line 333, in _get_data\n",
      "    tmp = self._s_secondary.recv(1024)\n",
      "ConnectionResetError: [Errno 104] Connection reset by peer\n",
      "\n",
      "Exception in thread Thread-7:\n",
      "Traceback (most recent call last):\n",
      "  File \"/usr/lib/python3.5/threading.py\", line 914, in _bootstrap_inner\n",
      "    self.run()\n",
      "  File \"/home/shivendra/virtual_robotics_urx/lib/python3.5/site-packages/urx/ursecmon.py\", line 286, in run\n",
      "    data = self._get_data()\n",
      "  File \"/home/shivendra/virtual_robotics_urx/lib/python3.5/site-packages/urx/ursecmon.py\", line 333, in _get_data\n",
      "    tmp = self._s_secondary.recv(1024)\n",
      "ConnectionResetError: [Errno 104] Connection reset by peer\n",
      "\n",
      "\n"
     ]
    }
   ],
   "source": [
    "robo.set_freedrive(1)"
   ]
  },
  {
   "cell_type": "code",
   "execution_count": 41,
   "metadata": {},
   "outputs": [
    {
     "name": "stderr",
     "output_type": "stream",
     "text": [
      "tried 11 times to find a packet in data, advertised packet size: -2, type: 3\n",
      "Data length: 68\n",
      "tried 11 times to find a packet in data, advertised packet size: -2, type: 3\n",
      "Data length: 1092\n",
      "tried 11 times to find a packet in data, advertised packet size: -2, type: 3\n",
      "Data length: 1454\n"
     ]
    }
   ],
   "source": [
    "robo = urx.Robot(\"172.16.101.225\")\n",
    "# robo = urx.Robot(\"127.0.0.1\")"
   ]
  },
  {
   "cell_type": "code",
   "execution_count": 20,
   "metadata": {},
   "outputs": [
    {
     "data": {
      "text/plain": [
       "[0.009172797203063965,\n",
       " -0.8363850873759766,\n",
       " 1.953855339680807,\n",
       " -1.1332073968699952,\n",
       " 1.5791306495666504,\n",
       " 3.1335577964782715]"
      ]
     },
     "execution_count": 20,
     "metadata": {},
     "output_type": "execute_result"
    }
   ],
   "source": [
    "robo.getj()"
   ]
  },
  {
   "cell_type": "code",
   "execution_count": 35,
   "metadata": {},
   "outputs": [
    {
     "data": {
      "text/plain": [
       "[-0.6497162204069298,\n",
       " -0.13795809657884417,\n",
       " -0.023874797606461887,\n",
       " -1.1959392473430532,\n",
       " -1.2375635231650854,\n",
       " 1.206342782608168]"
      ]
     },
     "execution_count": 35,
     "metadata": {},
     "output_type": "execute_result"
    }
   ],
   "source": [
    "robo.getl()"
   ]
  },
  {
   "cell_type": "code",
   "execution_count": 42,
   "metadata": {},
   "outputs": [
    {
     "data": {
      "text/plain": [
       "<Orientation: \n",
       "array([[ 1.27009257e-03,  6.29905468e-04, -9.99998995e-01],\n",
       "       [ 9.99997712e-01, -1.72197259e-03,  1.26900626e-03],\n",
       "       [-1.72117151e-03, -9.99998319e-01, -6.32091092e-04]])>"
      ]
     },
     "execution_count": 42,
     "metadata": {},
     "output_type": "execute_result"
    }
   ],
   "source": [
    "robo.get_orientation()"
   ]
  },
  {
   "cell_type": "code",
   "execution_count": null,
   "metadata": {},
   "outputs": [],
   "source": [
    "\n",
    "\n",
    "[0.009172797203063965,\n",
    " -0.8363850873759766,\n",
    " 1.953855339680807,\n",
    " -1.1332073968699952,\n",
    " 1.5791306495666504,\n",
    " 3.1335577964782715]"
   ]
  },
  {
   "cell_type": "code",
   "execution_count": 24,
   "metadata": {},
   "outputs": [],
   "source": [
    "robo.movej([0.009172797203063965,\n",
    " -0.8363850873759766,\n",
    " 1.953855339680807,\n",
    " -1.1332073968699952,\n",
    " 1.5791306495666504,\n",
    " 3.1335577964782715],0.2,0.2,wait=False)"
   ]
  },
  {
   "cell_type": "code",
   "execution_count": null,
   "metadata": {},
   "outputs": [],
   "source": [
    "[-0.6497162204069298,\n",
    " -0.13795809657884417,\n",
    " -0.023874797606461887,\n",
    " -1.1959392473430532,\n",
    " -1.2375635231650854,\n",
    " 1.206342782608168]"
   ]
  },
  {
   "cell_type": "code",
   "execution_count": null,
   "metadata": {},
   "outputs": [],
   "source": [
    "<Orientation: \n",
    "array([[-0.018508  ,  0.00970795, -0.99978158],\n",
    "       [ 0.99970475,  0.01592528, -0.01835195],\n",
    "       [ 0.01574364, -0.99982606, -0.00999983]])>"
   ]
  },
  {
   "cell_type": "code",
   "execution_count": 37,
   "metadata": {},
   "outputs": [
    {
     "data": {
      "text/plain": [
       "array([-643.67993354, -184.13957269, -175.51543535])"
      ]
     },
     "execution_count": 37,
     "metadata": {},
     "output_type": "execute_result"
    }
   ],
   "source": [
    "np.asarray([-645.1526295526423,-186.55543766435269,-23.841822046342515]) + (np.asarray([0.00970795,0.01592528,-0.99982606])*151.7)"
   ]
  },
  {
   "cell_type": "code",
   "execution_count": null,
   "metadata": {},
   "outputs": [],
   "source": []
  }
 ],
 "metadata": {
  "kernelspec": {
   "display_name": "Python 3",
   "language": "python",
   "name": "python3"
  },
  "language_info": {
   "codemirror_mode": {
    "name": "ipython",
    "version": 3
   },
   "file_extension": ".py",
   "mimetype": "text/x-python",
   "name": "python",
   "nbconvert_exporter": "python",
   "pygments_lexer": "ipython3",
   "version": "3.5.2"
  }
 },
 "nbformat": 4,
 "nbformat_minor": 4
}
